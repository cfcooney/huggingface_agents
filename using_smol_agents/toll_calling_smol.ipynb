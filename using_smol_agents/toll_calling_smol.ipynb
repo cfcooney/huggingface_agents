{
 "cells": [
  {
   "cell_type": "markdown",
   "id": "18ec2cbe",
   "metadata": {},
   "source": [
    "## Code snippets of JSON blobs?\n",
    "Tool-calling agents use the builtin tool-calling capabilities of LLM providers to generate tool calls as JSON structures. Typical with OpenAI, Anthropic. The system then parses these instructions to execute the appropriate tools."
   ]
  },
  {
   "cell_type": "code",
   "execution_count": 2,
   "id": "a436adb1",
   "metadata": {},
   "outputs": [
    {
     "name": "stdout",
     "output_type": "stream",
     "text": [
      "None\n",
      "None\n"
     ]
    },
    {
     "data": {
      "text/plain": [
       "[{'name': 'web_search', 'arguments': 'Best catering services in Gotham City'},\n",
       " {'name': 'web_search', 'arguments': 'Party theme ideas for superheroes'}]"
      ]
     },
     "execution_count": 2,
     "metadata": {},
     "output_type": "execute_result"
    }
   ],
   "source": [
    "def web_search(query: str) -> str:\n",
    "    pass\n",
    "\n",
    "# Code version\n",
    "for query in [\n",
    "    \"I think I might like to change the party theme. What do you suggest?\",\n",
    "    \"Okay, thanks! Based on you recommendations, what menu should I prepare for the 'villain masquerade' theme?\",\n",
    "]:\n",
    "    print(web_search(f\"Search for {query}\"))\n",
    "\n",
    "# JSON version\n",
    "[\n",
    "    {\"name\": \"web_search\", \"arguments\": \"Best catering services in Gotham City\"},\n",
    "    {\"name\": \"web_search\", \"arguments\": \"Party theme ideas for superheroes\"}\n",
    "]"
   ]
  },
  {
   "cell_type": "code",
   "execution_count": 15,
   "id": "8fb92113",
   "metadata": {},
   "outputs": [
    {
     "data": {
      "text/html": [
       "<pre style=\"white-space:pre;overflow-x:auto;line-height:normal;font-family:Menlo,'DejaVu Sans Mono',consolas,'Courier New',monospace\"><span style=\"color: #d4b702; text-decoration-color: #d4b702\">╭──────────────────────────────────────────────────── </span><span style=\"color: #d4b702; text-decoration-color: #d4b702; font-weight: bold\">New run</span><span style=\"color: #d4b702; text-decoration-color: #d4b702\"> ────────────────────────────────────────────────────╮</span>\n",
       "<span style=\"color: #d4b702; text-decoration-color: #d4b702\">│</span>                                                                                                                 <span style=\"color: #d4b702; text-decoration-color: #d4b702\">│</span>\n",
       "<span style=\"color: #d4b702; text-decoration-color: #d4b702\">│</span> <span style=\"font-weight: bold\">Search for the best music recommendations for a party at the Wayne's mansion.</span>                                   <span style=\"color: #d4b702; text-decoration-color: #d4b702\">│</span>\n",
       "<span style=\"color: #d4b702; text-decoration-color: #d4b702\">│</span>                                                                                                                 <span style=\"color: #d4b702; text-decoration-color: #d4b702\">│</span>\n",
       "<span style=\"color: #d4b702; text-decoration-color: #d4b702\">╰─ InferenceClientModel - mistralai/Mixtral-8x7B-Instruct-v0.1 ───────────────────────────────────────────────────╯</span>\n",
       "</pre>\n"
      ],
      "text/plain": [
       "\u001b[38;2;212;183;2m╭─\u001b[0m\u001b[38;2;212;183;2m───────────────────────────────────────────────────\u001b[0m\u001b[38;2;212;183;2m \u001b[0m\u001b[1;38;2;212;183;2mNew run\u001b[0m\u001b[38;2;212;183;2m \u001b[0m\u001b[38;2;212;183;2m───────────────────────────────────────────────────\u001b[0m\u001b[38;2;212;183;2m─╮\u001b[0m\n",
       "\u001b[38;2;212;183;2m│\u001b[0m                                                                                                                 \u001b[38;2;212;183;2m│\u001b[0m\n",
       "\u001b[38;2;212;183;2m│\u001b[0m \u001b[1mSearch for the best music recommendations for a party at the Wayne's mansion.\u001b[0m                                   \u001b[38;2;212;183;2m│\u001b[0m\n",
       "\u001b[38;2;212;183;2m│\u001b[0m                                                                                                                 \u001b[38;2;212;183;2m│\u001b[0m\n",
       "\u001b[38;2;212;183;2m╰─\u001b[0m\u001b[38;2;212;183;2m InferenceClientModel - mistralai/Mixtral-8x7B-Instruct-v0.1 \u001b[0m\u001b[38;2;212;183;2m──────────────────────────────────────────────────\u001b[0m\u001b[38;2;212;183;2m─╯\u001b[0m\n"
      ]
     },
     "metadata": {},
     "output_type": "display_data"
    },
    {
     "data": {
      "text/html": [
       "<pre style=\"white-space:pre;overflow-x:auto;line-height:normal;font-family:Menlo,'DejaVu Sans Mono',consolas,'Courier New',monospace\"><span style=\"color: #d4b702; text-decoration-color: #d4b702\">━━━━━━━━━━━━━━━━━━━━━━━━━━━━━━━━━━━━━━━━━━━━━━━━━━━━━ </span><span style=\"font-weight: bold\">Step 1</span><span style=\"color: #d4b702; text-decoration-color: #d4b702\"> ━━━━━━━━━━━━━━━━━━━━━━━━━━━━━━━━━━━━━━━━━━━━━━━━━━━━━━</span>\n",
       "</pre>\n"
      ],
      "text/plain": [
       "\u001b[38;2;212;183;2m━━━━━━━━━━━━━━━━━━━━━━━━━━━━━━━━━━━━━━━━━━━━━━━━━━━━━ \u001b[0m\u001b[1mStep 1\u001b[0m\u001b[38;2;212;183;2m ━━━━━━━━━━━━━━━━━━━━━━━━━━━━━━━━━━━━━━━━━━━━━━━━━━━━━━\u001b[0m\n"
      ]
     },
     "metadata": {},
     "output_type": "display_data"
    },
    {
     "data": {
      "text/html": [
       "<pre style=\"white-space:pre;overflow-x:auto;line-height:normal;font-family:Menlo,'DejaVu Sans Mono',consolas,'Courier New',monospace\">╭─────────────────────────────────────────────────────────────────────────────────────────────────────────────────╮\n",
       "│ Calling tool: 'web_search' with arguments: {'query': \"best music recommendations for a party at the Wayne's     │\n",
       "│ mansion\"}                                                                                                       │\n",
       "╰─────────────────────────────────────────────────────────────────────────────────────────────────────────────────╯\n",
       "</pre>\n"
      ],
      "text/plain": [
       "╭─────────────────────────────────────────────────────────────────────────────────────────────────────────────────╮\n",
       "│ Calling tool: 'web_search' with arguments: {'query': \"best music recommendations for a party at the Wayne's     │\n",
       "│ mansion\"}                                                                                                       │\n",
       "╰─────────────────────────────────────────────────────────────────────────────────────────────────────────────────╯\n"
      ]
     },
     "metadata": {},
     "output_type": "display_data"
    },
    {
     "data": {
      "text/html": [
       "<pre style=\"white-space:pre;overflow-x:auto;line-height:normal;font-family:Menlo,'DejaVu Sans Mono',consolas,'Courier New',monospace\">Observations: ## Search Results\n",
       "\n",
       "|The Rooney House Crashing Down | TikTok](https://www.tiktok.com/discover/the-rooney-house-crashing-down)\n",
       "Wayne Rooney mansion , Cheshire mansion , luxury amenities, stunning interiors, indoor pool, home cinema, snooker \n",
       "room, white marble kitchen island, real estate, property. This game is well known for Wayne Rooney breaking his \n",
       "foot just before the 2006 ...\n",
       "\n",
       "|Netherlands Roleplaying Guild | Meetup](https://www.meetup.com/netherlands-roleplaying-guild/)\n",
       "You are a crew of spacers just out of a job for a mining company.The champagne sparkles, the orchestra plays, and \n",
       "everyone pretends that Gotham is civilised during the gala at Wayne Mansion .\n",
       "\n",
       "|The 31 Best Places to Visit in the USA in \n",
       "July](https://www.boundlessroads.com/best-places-to-visit-in-the-usa-in-july/)\n",
       "But let’s not forget that Carmel by the sea is also an upscale beach town and home to some of the best nature in \n",
       "the world. Whether you’re looking for a beach getaway, an adventure in nature, a foodie’s trip, or a couples \n",
       "weekend, a trip to Carmel-by-the-sea will not disappoint.\n",
       "\n",
       "|Coleen Rooney reveals being married to Wayne is ‘like being... | The \n",
       "Sun](https://www.thesun.co.uk/fabulous/33831215/coleen-rooney-wayne-like-single-mum-honest-interview/)\n",
       "COLEEN Rooney has candidly claimed that being married to Wayne has at times made her feel \"like a single \n",
       "parent\".The 38-year-old mum-of-four revealed.\n",
       "\n",
       "|Why The Batman Put Bruce Wayne In A Tower Instead Of A \n",
       "Manor](https://www.slashfilm.com/837425/why-the-batman-put-bruce-wayne-in-a-tower-instead-of-a-manor/)\n",
       "\"If the Wayne |family] built this tower in the twenties, what would be below this tower that would offer an \n",
       "opportunity for a cave? There's an underground train station at the Waldorf Astoria in New York.\n",
       "\n",
       "|Xenoblade Chronicles 2: Torna the Golden Country... - The Guide \n",
       "Hall](https://theguidehall.com/xenoblade-chronicles-2-torna-the-golden-country-review-a-side-quest-extravaganza/)\n",
       "Hugo, on the other hand, is. Hugo might be one of the most useless characters in any story I’ve ever seen. He \n",
       "barely does anything in the plot and is pretty much just there to fill out the third driver slot and to die at the \n",
       "end for an emotional impact. That’s it.\n",
       "\n",
       "|Halloween 2025 Best New Horror Films &amp; Where to... | Neon \n",
       "Music](https://neonmusic.co.uk/halloween-2025-best-new-horror-films-and-where-to-stream-them)\n",
       "Muppets Haunted Mansion (2021): Musical comedy special with light frights for younger audiences. Coco (2017): \n",
       "Animated Pixar film using Day of the Dead-inspired visuals. Features a memorably nasty villain whilst remaining \n",
       "age-appropriate.\n",
       "\n",
       "|Batman (Bruce Wayne ) | DC Database | Fandom](https://dc.fandom.com/wiki/Batman_(Bruce_Wayne))\n",
       "Batman is the superhero protector of Gotham City, a tortured, brooding vigilante dressed as a bat who fights \n",
       "against evil and strikes fear into the hearts of criminals everywhere. In his public identity, he is Bruce Wayne , \n",
       "a billionaire industrialist...\n",
       "\n",
       "|Coleen and Wayne Rooney 'considering adding fifth baby... - The \n",
       "Mirror](https://www.mirror.co.uk/3am/celebrity-news/coleen-wayne-rooney-considering-adding-24373366)\n",
       "Former England footballer Wayne Rooney and his wife Coleen are both reportedly thinking about adding another baby \n",
       "to their family.\n",
       "\n",
       "|Her Feelings Aren’t Where They Should Be? | by Coach Corey \n",
       "Wayne](https://coachcoreywayne.medium.com/her-feelings-arent-where-they-should-be-a494b076a45b)\n",
       "Coach Corey Wayne . 15 min read. · 4 days ago.In this particular email, this guy had what he thought were good \n",
       "dates with a woman he met on Bumble. I think even on the first one she says it’s one of the best dates she’s had in\n",
       "a long time.\n",
       "</pre>\n"
      ],
      "text/plain": [
       "Observations: ## Search Results\n",
       "\n",
       "|The Rooney House Crashing Down | TikTok](https://www.tiktok.com/discover/the-rooney-house-crashing-down)\n",
       "Wayne Rooney mansion , Cheshire mansion , luxury amenities, stunning interiors, indoor pool, home cinema, snooker \n",
       "room, white marble kitchen island, real estate, property. This game is well known for Wayne Rooney breaking his \n",
       "foot just before the 2006 ...\n",
       "\n",
       "|Netherlands Roleplaying Guild | Meetup](https://www.meetup.com/netherlands-roleplaying-guild/)\n",
       "You are a crew of spacers just out of a job for a mining company.The champagne sparkles, the orchestra plays, and \n",
       "everyone pretends that Gotham is civilised during the gala at Wayne Mansion .\n",
       "\n",
       "|The 31 Best Places to Visit in the USA in \n",
       "July](https://www.boundlessroads.com/best-places-to-visit-in-the-usa-in-july/)\n",
       "But let’s not forget that Carmel by the sea is also an upscale beach town and home to some of the best nature in \n",
       "the world. Whether you’re looking for a beach getaway, an adventure in nature, a foodie’s trip, or a couples \n",
       "weekend, a trip to Carmel-by-the-sea will not disappoint.\n",
       "\n",
       "|Coleen Rooney reveals being married to Wayne is ‘like being... | The \n",
       "Sun](https://www.thesun.co.uk/fabulous/33831215/coleen-rooney-wayne-like-single-mum-honest-interview/)\n",
       "COLEEN Rooney has candidly claimed that being married to Wayne has at times made her feel \"like a single \n",
       "parent\".The 38-year-old mum-of-four revealed.\n",
       "\n",
       "|Why The Batman Put Bruce Wayne In A Tower Instead Of A \n",
       "Manor](https://www.slashfilm.com/837425/why-the-batman-put-bruce-wayne-in-a-tower-instead-of-a-manor/)\n",
       "\"If the Wayne |family] built this tower in the twenties, what would be below this tower that would offer an \n",
       "opportunity for a cave? There's an underground train station at the Waldorf Astoria in New York.\n",
       "\n",
       "|Xenoblade Chronicles 2: Torna the Golden Country... - The Guide \n",
       "Hall](https://theguidehall.com/xenoblade-chronicles-2-torna-the-golden-country-review-a-side-quest-extravaganza/)\n",
       "Hugo, on the other hand, is. Hugo might be one of the most useless characters in any story I’ve ever seen. He \n",
       "barely does anything in the plot and is pretty much just there to fill out the third driver slot and to die at the \n",
       "end for an emotional impact. That’s it.\n",
       "\n",
       "|Halloween 2025 Best New Horror Films & Where to... | Neon \n",
       "Music](https://neonmusic.co.uk/halloween-2025-best-new-horror-films-and-where-to-stream-them)\n",
       "Muppets Haunted Mansion (2021): Musical comedy special with light frights for younger audiences. Coco (2017): \n",
       "Animated Pixar film using Day of the Dead-inspired visuals. Features a memorably nasty villain whilst remaining \n",
       "age-appropriate.\n",
       "\n",
       "|Batman (Bruce Wayne ) | DC Database | Fandom](https://dc.fandom.com/wiki/Batman_(Bruce_Wayne))\n",
       "Batman is the superhero protector of Gotham City, a tortured, brooding vigilante dressed as a bat who fights \n",
       "against evil and strikes fear into the hearts of criminals everywhere. In his public identity, he is Bruce Wayne , \n",
       "a billionaire industrialist...\n",
       "\n",
       "|Coleen and Wayne Rooney 'considering adding fifth baby... - The \n",
       "Mirror](https://www.mirror.co.uk/3am/celebrity-news/coleen-wayne-rooney-considering-adding-24373366)\n",
       "Former England footballer Wayne Rooney and his wife Coleen are both reportedly thinking about adding another baby \n",
       "to their family.\n",
       "\n",
       "|Her Feelings Aren’t Where They Should Be? | by Coach Corey \n",
       "Wayne](https://coachcoreywayne.medium.com/her-feelings-arent-where-they-should-be-a494b076a45b)\n",
       "Coach Corey Wayne . 15 min read. · 4 days ago.In this particular email, this guy had what he thought were good \n",
       "dates with a woman he met on Bumble. I think even on the first one she says it’s one of the best dates she’s had in\n",
       "a long time.\n"
      ]
     },
     "metadata": {},
     "output_type": "display_data"
    },
    {
     "data": {
      "text/html": [
       "<pre style=\"white-space:pre;overflow-x:auto;line-height:normal;font-family:Menlo,'DejaVu Sans Mono',consolas,'Courier New',monospace\"><span style=\"color: #7f7f7f; text-decoration-color: #7f7f7f\">[Step 1: Duration 1.93 seconds| Input tokens: 1,333 | Output tokens: 33]</span>\n",
       "</pre>\n"
      ],
      "text/plain": [
       "\u001b[2m[Step 1: Duration 1.93 seconds| Input tokens: 1,333 | Output tokens: 33]\u001b[0m\n"
      ]
     },
     "metadata": {},
     "output_type": "display_data"
    },
    {
     "data": {
      "text/html": [
       "<pre style=\"white-space:pre;overflow-x:auto;line-height:normal;font-family:Menlo,'DejaVu Sans Mono',consolas,'Courier New',monospace\"><span style=\"color: #d4b702; text-decoration-color: #d4b702\">━━━━━━━━━━━━━━━━━━━━━━━━━━━━━━━━━━━━━━━━━━━━━━━━━━━━━ </span><span style=\"font-weight: bold\">Step 2</span><span style=\"color: #d4b702; text-decoration-color: #d4b702\"> ━━━━━━━━━━━━━━━━━━━━━━━━━━━━━━━━━━━━━━━━━━━━━━━━━━━━━━</span>\n",
       "</pre>\n"
      ],
      "text/plain": [
       "\u001b[38;2;212;183;2m━━━━━━━━━━━━━━━━━━━━━━━━━━━━━━━━━━━━━━━━━━━━━━━━━━━━━ \u001b[0m\u001b[1mStep 2\u001b[0m\u001b[38;2;212;183;2m ━━━━━━━━━━━━━━━━━━━━━━━━━━━━━━━━━━━━━━━━━━━━━━━━━━━━━━\u001b[0m\n"
      ]
     },
     "metadata": {},
     "output_type": "display_data"
    },
    {
     "data": {
      "text/html": [
       "<pre style=\"white-space:pre;overflow-x:auto;line-height:normal;font-family:Menlo,'DejaVu Sans Mono',consolas,'Courier New',monospace\">╭─────────────────────────────────────────────────────────────────────────────────────────────────────────────────╮\n",
       "│ Calling tool: 'final_answer' with arguments: {'answer': \"Given that the provided search results contain         │\n",
       "│ information about Wayne Rooney's mansion, celebrities, and unrelated content like animated films, best places   │\n",
       "│ to visit, and gaming, there is no clear recommendation for music at a party at Wayne's mansion. A specific or   │\n",
       "│ dedicated search for 'music recommendations for a party at Wayne's mansion' or a similar query may yield the    │\n",
       "│ desired information. I recommend running the following function call:\"}                                         │\n",
       "╰─────────────────────────────────────────────────────────────────────────────────────────────────────────────────╯\n",
       "</pre>\n"
      ],
      "text/plain": [
       "╭─────────────────────────────────────────────────────────────────────────────────────────────────────────────────╮\n",
       "│ Calling tool: 'final_answer' with arguments: {'answer': \"Given that the provided search results contain         │\n",
       "│ information about Wayne Rooney's mansion, celebrities, and unrelated content like animated films, best places   │\n",
       "│ to visit, and gaming, there is no clear recommendation for music at a party at Wayne's mansion. A specific or   │\n",
       "│ dedicated search for 'music recommendations for a party at Wayne's mansion' or a similar query may yield the    │\n",
       "│ desired information. I recommend running the following function call:\"}                                         │\n",
       "╰─────────────────────────────────────────────────────────────────────────────────────────────────────────────────╯\n"
      ]
     },
     "metadata": {},
     "output_type": "display_data"
    },
    {
     "data": {
      "text/html": [
       "<pre style=\"white-space:pre;overflow-x:auto;line-height:normal;font-family:Menlo,'DejaVu Sans Mono',consolas,'Courier New',monospace\">Observations: Given that the provided search results contain information about Wayne Rooney's mansion, celebrities,\n",
       "and unrelated content like animated films, best places to visit, and gaming, there is no clear recommendation for \n",
       "music at a party at Wayne's mansion. A specific or dedicated search for 'music recommendations for a party at \n",
       "Wayne's mansion' or a similar query may yield the desired information. I recommend running the following function \n",
       "call:\n",
       "</pre>\n"
      ],
      "text/plain": [
       "Observations: Given that the provided search results contain information about Wayne Rooney's mansion, celebrities,\n",
       "and unrelated content like animated films, best places to visit, and gaming, there is no clear recommendation for \n",
       "music at a party at Wayne's mansion. A specific or dedicated search for 'music recommendations for a party at \n",
       "Wayne's mansion' or a similar query may yield the desired information. I recommend running the following function \n",
       "call:\n"
      ]
     },
     "metadata": {},
     "output_type": "display_data"
    },
    {
     "data": {
      "text/html": [
       "<pre style=\"white-space:pre;overflow-x:auto;line-height:normal;font-family:Menlo,'DejaVu Sans Mono',consolas,'Courier New',monospace\"><span style=\"color: #d4b702; text-decoration-color: #d4b702; font-weight: bold\">Final answer: Given that the provided search results contain information about Wayne Rooney's mansion, celebrities,</span>\n",
       "<span style=\"color: #d4b702; text-decoration-color: #d4b702; font-weight: bold\">and unrelated content like animated films, best places to visit, and gaming, there is no clear recommendation for </span>\n",
       "<span style=\"color: #d4b702; text-decoration-color: #d4b702; font-weight: bold\">music at a party at Wayne's mansion. A specific or dedicated search for 'music recommendations for a party at </span>\n",
       "<span style=\"color: #d4b702; text-decoration-color: #d4b702; font-weight: bold\">Wayne's mansion' or a similar query may yield the desired information. I recommend running the following function </span>\n",
       "<span style=\"color: #d4b702; text-decoration-color: #d4b702; font-weight: bold\">call:</span>\n",
       "</pre>\n"
      ],
      "text/plain": [
       "\u001b[1;38;2;212;183;2mFinal answer: Given that the provided search results contain information about Wayne Rooney's mansion, celebrities,\u001b[0m\n",
       "\u001b[1;38;2;212;183;2mand unrelated content like animated films, best places to visit, and gaming, there is no clear recommendation for \u001b[0m\n",
       "\u001b[1;38;2;212;183;2mmusic at a party at Wayne's mansion. A specific or dedicated search for 'music recommendations for a party at \u001b[0m\n",
       "\u001b[1;38;2;212;183;2mWayne's mansion' or a similar query may yield the desired information. I recommend running the following function \u001b[0m\n",
       "\u001b[1;38;2;212;183;2mcall:\u001b[0m\n"
      ]
     },
     "metadata": {},
     "output_type": "display_data"
    },
    {
     "data": {
      "text/html": [
       "<pre style=\"white-space:pre;overflow-x:auto;line-height:normal;font-family:Menlo,'DejaVu Sans Mono',consolas,'Courier New',monospace\"><span style=\"color: #7f7f7f; text-decoration-color: #7f7f7f\">[Step 2: Duration 2.49 seconds| Input tokens: 3,882 | Output tokens: 145]</span>\n",
       "</pre>\n"
      ],
      "text/plain": [
       "\u001b[2m[Step 2: Duration 2.49 seconds| Input tokens: 3,882 | Output tokens: 145]\u001b[0m\n"
      ]
     },
     "metadata": {},
     "output_type": "display_data"
    },
    {
     "data": {
      "text/plain": [
       "\"Given that the provided search results contain information about Wayne Rooney's mansion, celebrities, and unrelated content like animated films, best places to visit, and gaming, there is no clear recommendation for music at a party at Wayne's mansion. A specific or dedicated search for 'music recommendations for a party at Wayne's mansion' or a similar query may yield the desired information. I recommend running the following function call:\""
      ]
     },
     "execution_count": 15,
     "metadata": {},
     "output_type": "execute_result"
    }
   ],
   "source": [
    "from smolagents import ToolCallingAgent, DuckDuckGoSearchTool, InferenceClientModel\n",
    "\n",
    "agent = ToolCallingAgent(tools=[DuckDuckGoSearchTool()], model=InferenceClientModel(\"mistralai/Mixtral-8x7B-Instruct-v0.1\"))\n",
    "\n",
    "agent.run(\"Search for the best music recommendations for a party at the Wayne's mansion.\")"
   ]
  }
 ],
 "metadata": {
  "kernelspec": {
   "display_name": ".venv",
   "language": "python",
   "name": "python3"
  },
  "language_info": {
   "codemirror_mode": {
    "name": "ipython",
    "version": 3
   },
   "file_extension": ".py",
   "mimetype": "text/x-python",
   "name": "python",
   "nbconvert_exporter": "python",
   "pygments_lexer": "ipython3",
   "version": "3.10.0"
  }
 },
 "nbformat": 4,
 "nbformat_minor": 5
}
