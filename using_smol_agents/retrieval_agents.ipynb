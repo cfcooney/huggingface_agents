{
 "cells": [
  {
   "cell_type": "code",
   "execution_count": 3,
   "id": "3b056fad",
   "metadata": {},
   "outputs": [
    {
     "data": {
      "text/html": [
       "<pre style=\"white-space:pre;overflow-x:auto;line-height:normal;font-family:Menlo,'DejaVu Sans Mono',consolas,'Courier New',monospace\"><span style=\"color: #d4b702; text-decoration-color: #d4b702\">╭──────────────────────────────────────────────────── </span><span style=\"color: #d4b702; text-decoration-color: #d4b702; font-weight: bold\">New run</span><span style=\"color: #d4b702; text-decoration-color: #d4b702\"> ────────────────────────────────────────────────────╮</span>\n",
       "<span style=\"color: #d4b702; text-decoration-color: #d4b702\">│</span>                                                                                                                 <span style=\"color: #d4b702; text-decoration-color: #d4b702\">│</span>\n",
       "<span style=\"color: #d4b702; text-decoration-color: #d4b702\">│</span> <span style=\"font-weight: bold\">Search for luxury superhero-themed party ideas, including decorations, entertainment, and catering.</span>             <span style=\"color: #d4b702; text-decoration-color: #d4b702\">│</span>\n",
       "<span style=\"color: #d4b702; text-decoration-color: #d4b702\">│</span>                                                                                                                 <span style=\"color: #d4b702; text-decoration-color: #d4b702\">│</span>\n",
       "<span style=\"color: #d4b702; text-decoration-color: #d4b702\">╰─ InferenceClientModel - mistralai/Mixtral-8x7B-Instruct-v0.1 ───────────────────────────────────────────────────╯</span>\n",
       "</pre>\n"
      ],
      "text/plain": [
       "\u001b[38;2;212;183;2m╭─\u001b[0m\u001b[38;2;212;183;2m───────────────────────────────────────────────────\u001b[0m\u001b[38;2;212;183;2m \u001b[0m\u001b[1;38;2;212;183;2mNew run\u001b[0m\u001b[38;2;212;183;2m \u001b[0m\u001b[38;2;212;183;2m───────────────────────────────────────────────────\u001b[0m\u001b[38;2;212;183;2m─╮\u001b[0m\n",
       "\u001b[38;2;212;183;2m│\u001b[0m                                                                                                                 \u001b[38;2;212;183;2m│\u001b[0m\n",
       "\u001b[38;2;212;183;2m│\u001b[0m \u001b[1mSearch for luxury superhero-themed party ideas, including decorations, entertainment, and catering.\u001b[0m             \u001b[38;2;212;183;2m│\u001b[0m\n",
       "\u001b[38;2;212;183;2m│\u001b[0m                                                                                                                 \u001b[38;2;212;183;2m│\u001b[0m\n",
       "\u001b[38;2;212;183;2m╰─\u001b[0m\u001b[38;2;212;183;2m InferenceClientModel - mistralai/Mixtral-8x7B-Instruct-v0.1 \u001b[0m\u001b[38;2;212;183;2m──────────────────────────────────────────────────\u001b[0m\u001b[38;2;212;183;2m─╯\u001b[0m\n"
      ]
     },
     "metadata": {},
     "output_type": "display_data"
    },
    {
     "data": {
      "text/html": [
       "<pre style=\"white-space:pre;overflow-x:auto;line-height:normal;font-family:Menlo,'DejaVu Sans Mono',consolas,'Courier New',monospace\"><span style=\"color: #d4b702; text-decoration-color: #d4b702\">━━━━━━━━━━━━━━━━━━━━━━━━━━━━━━━━━━━━━━━━━━━━━━━━━━━━━ </span><span style=\"font-weight: bold\">Step 1</span><span style=\"color: #d4b702; text-decoration-color: #d4b702\"> ━━━━━━━━━━━━━━━━━━━━━━━━━━━━━━━━━━━━━━━━━━━━━━━━━━━━━━</span>\n",
       "</pre>\n"
      ],
      "text/plain": [
       "\u001b[38;2;212;183;2m━━━━━━━━━━━━━━━━━━━━━━━━━━━━━━━━━━━━━━━━━━━━━━━━━━━━━ \u001b[0m\u001b[1mStep 1\u001b[0m\u001b[38;2;212;183;2m ━━━━━━━━━━━━━━━━━━━━━━━━━━━━━━━━━━━━━━━━━━━━━━━━━━━━━━\u001b[0m\n"
      ]
     },
     "metadata": {},
     "output_type": "display_data"
    },
    {
     "data": {
      "text/html": [
       "<pre style=\"white-space:pre;overflow-x:auto;line-height:normal;font-family:Menlo,'DejaVu Sans Mono',consolas,'Courier New',monospace\"> ─ <span style=\"font-weight: bold\">Executing parsed code:</span> ──────────────────────────────────────────────────────────────────────────────────────── \n",
       "  <span style=\"color: #f8f8f2; text-decoration-color: #f8f8f2; background-color: #272822\">search_results </span><span style=\"color: #ff4689; text-decoration-color: #ff4689; background-color: #272822\">=</span><span style=\"color: #f8f8f2; text-decoration-color: #f8f8f2; background-color: #272822\"> web_search(query</span><span style=\"color: #ff4689; text-decoration-color: #ff4689; background-color: #272822\">=</span><span style=\"color: #e6db74; text-decoration-color: #e6db74; background-color: #272822\">\"luxury superhero themed party ideas\"</span><span style=\"color: #f8f8f2; text-decoration-color: #f8f8f2; background-color: #272822\">)</span><span style=\"background-color: #272822\">                                       </span>  \n",
       "  <span style=\"color: #f8f8f2; text-decoration-color: #f8f8f2; background-color: #272822\">print(search_results)</span><span style=\"background-color: #272822\">                                                                                          </span>  \n",
       " ───────────────────────────────────────────────────────────────────────────────────────────────────────────────── \n",
       "</pre>\n"
      ],
      "text/plain": [
       " ─ \u001b[1mExecuting parsed code:\u001b[0m ──────────────────────────────────────────────────────────────────────────────────────── \n",
       "  \u001b[38;2;248;248;242;48;2;39;40;34msearch_results\u001b[0m\u001b[38;2;248;248;242;48;2;39;40;34m \u001b[0m\u001b[38;2;255;70;137;48;2;39;40;34m=\u001b[0m\u001b[38;2;248;248;242;48;2;39;40;34m \u001b[0m\u001b[38;2;248;248;242;48;2;39;40;34mweb_search\u001b[0m\u001b[38;2;248;248;242;48;2;39;40;34m(\u001b[0m\u001b[38;2;248;248;242;48;2;39;40;34mquery\u001b[0m\u001b[38;2;255;70;137;48;2;39;40;34m=\u001b[0m\u001b[38;2;230;219;116;48;2;39;40;34m\"\u001b[0m\u001b[38;2;230;219;116;48;2;39;40;34mluxury superhero themed party ideas\u001b[0m\u001b[38;2;230;219;116;48;2;39;40;34m\"\u001b[0m\u001b[38;2;248;248;242;48;2;39;40;34m)\u001b[0m\u001b[48;2;39;40;34m                                       \u001b[0m  \n",
       "  \u001b[38;2;248;248;242;48;2;39;40;34mprint\u001b[0m\u001b[38;2;248;248;242;48;2;39;40;34m(\u001b[0m\u001b[38;2;248;248;242;48;2;39;40;34msearch_results\u001b[0m\u001b[38;2;248;248;242;48;2;39;40;34m)\u001b[0m\u001b[48;2;39;40;34m                                                                                          \u001b[0m  \n",
       " ───────────────────────────────────────────────────────────────────────────────────────────────────────────────── \n"
      ]
     },
     "metadata": {},
     "output_type": "display_data"
    },
    {
     "data": {
      "text/html": [
       "<pre style=\"white-space:pre;overflow-x:auto;line-height:normal;font-family:Menlo,'DejaVu Sans Mono',consolas,'Courier New',monospace\"><span style=\"font-weight: bold\">Execution logs:</span>\n",
       "## Search Results\n",
       "\n",
       "[LUXURY | tradução de inglês para português - Cambridge \n",
       "…](https://dictionary.cambridge.org/pt/dicionario/ingles-portugues/luxury)\n",
       "They have six holiday /luxury apartments for sale. He's living in luxury in the south of France. We certainly don't\n",
       "lead a life of luxury but we're not poor either. Lotus make luxury cars for a small …\n",
       "\n",
       "[luxury - Dicionário Inglês-Português (Brasil) WordReference.com](https://www.wordreference.com/enpt/luxury)\n",
       "Ver a tradução automática do Google Tradutor de \"luxury\". Em outros idiomas: espanhol | francês | italiano | romeno\n",
       "| alemão | Holandês | sueco | russo | polonês | checo | grego | turco | chinês …\n",
       "\n",
       "[LUXURY Definition &amp; Meaning - Merriam-Webster](https://www.merriam-webster.com/dictionary/luxury)\n",
       "The meaning of LUXURY is a condition of abundance or great ease and comfort : sumptuous environment. How to use \n",
       "luxury in a sentence.\n",
       "\n",
       "[luxury - Tradução em português – Linguee](https://www.linguee.com.br/ingles-portugues/traducao/luxury.html)\n",
       "Muitos exemplos de traduções com \"luxury\" – Dicionário português-inglês e busca em milhões de traduções.\n",
       "\n",
       "[LUXURY PROPERTIES - Imóveis de Luxo no Brasil | EUA](https://www.luxuryproperties.com.br/)\n",
       "Luxury Properties: há mais de 10 anos conectando você aos melhores imóveis de luxo em São Paulo, Interior, Litoral,\n",
       "EUA, Europa e Dubai.\n",
       "\n",
       "[LUXURY | Significado, definição em Dicionário Cambridge \n",
       "inglês](https://dictionary.cambridge.org/pt/dicionario/ingles/luxury)\n",
       "He enjoys luxuries, such as champagne and caviar. Foreign travel is still an expensive luxury that many cannot \n",
       "afford.\n",
       "\n",
       "[LUXURY | English meaning - Cambridge Dictionary](https://dictionary.cambridge.org/dictionary/english/luxury)\n",
       "LUXURY definition: 1. great comfort, especially as provided by expensive and beautiful things: 2. something \n",
       "expensive…. Learn more.\n",
       "\n",
       "[Loja online de LUXURY](https://lojasluxury.com.br/)\n",
       "Compre produtos de Moda e Vestuário por internet. Temos conjuntos curtos , conjuntos longos e mais. Faça seu pedido\n",
       "e pague-o online.\n",
       "\n",
       "[Propriedades de luxo e imóveis de alto padrão para venda](https://www.luxuryestate.com/pt/)\n",
       "LuxuryEstate te oferece a mais vasta gama de imóveis de luxo, mansões e propiedades de alto padrão à venda em todo \n",
       "o mundo. Encontre a casa de luxo dos seus sonhos entre milhares …\n",
       "\n",
       "[Imóveis de luxo em vendas em São Paulo, São \n",
       "Paulo](https://www.luxuryestate.com/pt/brazil/estado-de-sao-paulo/sao-paulo)\n",
       "525 anúncios de imóveis de luxo à venda em São Paulo: na LuxuryEstate, você encontrará milhares de anúncios em São \n",
       "Paulo selecionados pelas melhores agências imobiliárias do …\n",
       "\n",
       "Out: None\n",
       "</pre>\n"
      ],
      "text/plain": [
       "\u001b[1mExecution logs:\u001b[0m\n",
       "## Search Results\n",
       "\n",
       "[LUXURY | tradução de inglês para português - Cambridge \n",
       "…](https://dictionary.cambridge.org/pt/dicionario/ingles-portugues/luxury)\n",
       "They have six holiday /luxury apartments for sale. He's living in luxury in the south of France. We certainly don't\n",
       "lead a life of luxury but we're not poor either. Lotus make luxury cars for a small …\n",
       "\n",
       "[luxury - Dicionário Inglês-Português (Brasil) WordReference.com](https://www.wordreference.com/enpt/luxury)\n",
       "Ver a tradução automática do Google Tradutor de \"luxury\". Em outros idiomas: espanhol | francês | italiano | romeno\n",
       "| alemão | Holandês | sueco | russo | polonês | checo | grego | turco | chinês …\n",
       "\n",
       "[LUXURY Definition & Meaning - Merriam-Webster](https://www.merriam-webster.com/dictionary/luxury)\n",
       "The meaning of LUXURY is a condition of abundance or great ease and comfort : sumptuous environment. How to use \n",
       "luxury in a sentence.\n",
       "\n",
       "[luxury - Tradução em português – Linguee](https://www.linguee.com.br/ingles-portugues/traducao/luxury.html)\n",
       "Muitos exemplos de traduções com \"luxury\" – Dicionário português-inglês e busca em milhões de traduções.\n",
       "\n",
       "[LUXURY PROPERTIES - Imóveis de Luxo no Brasil | EUA](https://www.luxuryproperties.com.br/)\n",
       "Luxury Properties: há mais de 10 anos conectando você aos melhores imóveis de luxo em São Paulo, Interior, Litoral,\n",
       "EUA, Europa e Dubai.\n",
       "\n",
       "[LUXURY | Significado, definição em Dicionário Cambridge \n",
       "inglês](https://dictionary.cambridge.org/pt/dicionario/ingles/luxury)\n",
       "He enjoys luxuries, such as champagne and caviar. Foreign travel is still an expensive luxury that many cannot \n",
       "afford.\n",
       "\n",
       "[LUXURY | English meaning - Cambridge Dictionary](https://dictionary.cambridge.org/dictionary/english/luxury)\n",
       "LUXURY definition: 1. great comfort, especially as provided by expensive and beautiful things: 2. something \n",
       "expensive…. Learn more.\n",
       "\n",
       "[Loja online de LUXURY](https://lojasluxury.com.br/)\n",
       "Compre produtos de Moda e Vestuário por internet. Temos conjuntos curtos , conjuntos longos e mais. Faça seu pedido\n",
       "e pague-o online.\n",
       "\n",
       "[Propriedades de luxo e imóveis de alto padrão para venda](https://www.luxuryestate.com/pt/)\n",
       "LuxuryEstate te oferece a mais vasta gama de imóveis de luxo, mansões e propiedades de alto padrão à venda em todo \n",
       "o mundo. Encontre a casa de luxo dos seus sonhos entre milhares …\n",
       "\n",
       "[Imóveis de luxo em vendas em São Paulo, São \n",
       "Paulo](https://www.luxuryestate.com/pt/brazil/estado-de-sao-paulo/sao-paulo)\n",
       "525 anúncios de imóveis de luxo à venda em São Paulo: na LuxuryEstate, você encontrará milhares de anúncios em São \n",
       "Paulo selecionados pelas melhores agências imobiliárias do …\n",
       "\n",
       "Out: None\n"
      ]
     },
     "metadata": {},
     "output_type": "display_data"
    },
    {
     "data": {
      "text/html": [
       "<pre style=\"white-space:pre;overflow-x:auto;line-height:normal;font-family:Menlo,'DejaVu Sans Mono',consolas,'Courier New',monospace\"><span style=\"color: #7f7f7f; text-decoration-color: #7f7f7f\">[Step 1: Duration 3.41 seconds| Input tokens: 2,474 | Output tokens: 86]</span>\n",
       "</pre>\n"
      ],
      "text/plain": [
       "\u001b[2m[Step 1: Duration 3.41 seconds| Input tokens: 2,474 | Output tokens: 86]\u001b[0m\n"
      ]
     },
     "metadata": {},
     "output_type": "display_data"
    },
    {
     "data": {
      "text/html": [
       "<pre style=\"white-space:pre;overflow-x:auto;line-height:normal;font-family:Menlo,'DejaVu Sans Mono',consolas,'Courier New',monospace\"><span style=\"color: #d4b702; text-decoration-color: #d4b702\">━━━━━━━━━━━━━━━━━━━━━━━━━━━━━━━━━━━━━━━━━━━━━━━━━━━━━ </span><span style=\"font-weight: bold\">Step 2</span><span style=\"color: #d4b702; text-decoration-color: #d4b702\"> ━━━━━━━━━━━━━━━━━━━━━━━━━━━━━━━━━━━━━━━━━━━━━━━━━━━━━━</span>\n",
       "</pre>\n"
      ],
      "text/plain": [
       "\u001b[38;2;212;183;2m━━━━━━━━━━━━━━━━━━━━━━━━━━━━━━━━━━━━━━━━━━━━━━━━━━━━━ \u001b[0m\u001b[1mStep 2\u001b[0m\u001b[38;2;212;183;2m ━━━━━━━━━━━━━━━━━━━━━━━━━━━━━━━━━━━━━━━━━━━━━━━━━━━━━━\u001b[0m\n"
      ]
     },
     "metadata": {},
     "output_type": "display_data"
    },
    {
     "data": {
      "text/html": [
       "<pre style=\"white-space:pre;overflow-x:auto;line-height:normal;font-family:Menlo,'DejaVu Sans Mono',consolas,'Courier New',monospace\"> ─ <span style=\"font-weight: bold\">Executing parsed code:</span> ──────────────────────────────────────────────────────────────────────────────────────── \n",
       "  <span style=\"color: #f8f8f2; text-decoration-color: #f8f8f2; background-color: #272822\">search_results </span><span style=\"color: #ff4689; text-decoration-color: #ff4689; background-color: #272822\">=</span><span style=\"color: #f8f8f2; text-decoration-color: #f8f8f2; background-color: #272822\"> web_search(query</span><span style=\"color: #ff4689; text-decoration-color: #ff4689; background-color: #272822\">=</span><span style=\"color: #e6db74; text-decoration-color: #e6db74; background-color: #272822\">\"luxury superhero themed party ideas\"</span><span style=\"color: #f8f8f2; text-decoration-color: #f8f8f2; background-color: #272822\">)</span><span style=\"background-color: #272822\">                                       </span>  \n",
       "  <span style=\"color: #f8f8f2; text-decoration-color: #f8f8f2; background-color: #272822\">print(search_results)</span><span style=\"background-color: #272822\">                                                                                          </span>  \n",
       " ───────────────────────────────────────────────────────────────────────────────────────────────────────────────── \n",
       "</pre>\n"
      ],
      "text/plain": [
       " ─ \u001b[1mExecuting parsed code:\u001b[0m ──────────────────────────────────────────────────────────────────────────────────────── \n",
       "  \u001b[38;2;248;248;242;48;2;39;40;34msearch_results\u001b[0m\u001b[38;2;248;248;242;48;2;39;40;34m \u001b[0m\u001b[38;2;255;70;137;48;2;39;40;34m=\u001b[0m\u001b[38;2;248;248;242;48;2;39;40;34m \u001b[0m\u001b[38;2;248;248;242;48;2;39;40;34mweb_search\u001b[0m\u001b[38;2;248;248;242;48;2;39;40;34m(\u001b[0m\u001b[38;2;248;248;242;48;2;39;40;34mquery\u001b[0m\u001b[38;2;255;70;137;48;2;39;40;34m=\u001b[0m\u001b[38;2;230;219;116;48;2;39;40;34m\"\u001b[0m\u001b[38;2;230;219;116;48;2;39;40;34mluxury superhero themed party ideas\u001b[0m\u001b[38;2;230;219;116;48;2;39;40;34m\"\u001b[0m\u001b[38;2;248;248;242;48;2;39;40;34m)\u001b[0m\u001b[48;2;39;40;34m                                       \u001b[0m  \n",
       "  \u001b[38;2;248;248;242;48;2;39;40;34mprint\u001b[0m\u001b[38;2;248;248;242;48;2;39;40;34m(\u001b[0m\u001b[38;2;248;248;242;48;2;39;40;34msearch_results\u001b[0m\u001b[38;2;248;248;242;48;2;39;40;34m)\u001b[0m\u001b[48;2;39;40;34m                                                                                          \u001b[0m  \n",
       " ───────────────────────────────────────────────────────────────────────────────────────────────────────────────── \n"
      ]
     },
     "metadata": {},
     "output_type": "display_data"
    },
    {
     "data": {
      "text/html": [
       "<pre style=\"white-space:pre;overflow-x:auto;line-height:normal;font-family:Menlo,'DejaVu Sans Mono',consolas,'Courier New',monospace\"><span style=\"font-weight: bold\">Execution logs:</span>\n",
       "## Search Results\n",
       "\n",
       "[Superhero Theme Party Ideas for Adults to Create an Unforgettable \n",
       "...](https://partyideaszone.com/superhero-theme-party-ideas-for-adults/)\n",
       "Unleash your inner hero with our ultimate guide to hosting an unforgettable superhero-themed party for adults! \n",
       "Explore creative costume ideas , vibrant decorations, and mouthwatering themed snacks and drinks. Engage your \n",
       "guests with fun activities like trivia, costume contests, and movie screenings. Follow our planning tips to create \n",
       "a cohesive, memorable experience that your friends will rave ...\n",
       "\n",
       "[25 Superhero Party Ideas For All Ages](https://playideas.com/25-superhero-party-ideas/)\n",
       "They are perfect for your next superhero-themed food and party ! We have found some amazingly fantastic party ideas\n",
       "from treats, decor, crafts to souvenirs for different sorts of superheroes, from Batman, Super-Man, the Hulk, Iron \n",
       "Man, and even villains!. No matter who your favorite superhero is we've got some great party tips for you!\n",
       "\n",
       "[24 Superhero Party Ideas that Will Make You Wish You Were a \n",
       "Kid](https://howdoesshe.com/24-incredible-superhero-party-ideas-that-will-make-you-wish-you-were-a-kid-again/)\n",
       "24 incredible superhero party ideas that kids will love and make adults wish they were kids again. From decor ideas\n",
       ", party foods, and costume ideas to superhero-themed activities, we have all of your party needs covered.\n",
       "\n",
       "[Superhero-Themed Party Ideas &amp; Decorations | \n",
       "CORKCICLE.](https://corkcicle.com/blogs/lifestyle/marvel-themed-party-ideas)\n",
       "Marvel™ Superhero-Themed Party Ideas Superhero-themed parties have become a beloved trend, offering an exciting way\n",
       "to celebrate special occasions. The thrill of donning capes and masks, the vibrant decorations, and the heroic \n",
       "atmosphere make these parties a hit among kids and adults alike.\n",
       "\n",
       "[Superhero Party Ideas | PartyWizz Blog](https://partywizz.com/blog/family/party-ideas/superhero-party-ideas/)\n",
       "Use superhero-themed paper party bags - Amazon have a good selection - or keep costs down with plain paper bags and\n",
       "decorate/personalise them yourself. This is a task you could definitely delegate to your own small superhero !\n",
       "\n",
       "[By a Pro: Superhero Party Ideas by a Professional](https://party-ideas-by-a-pro.com/party-themes/superhero-party/)\n",
       "The Superhero party ideas below were mainly designed with a kid's birthday in mind. However, a lot of the ideas \n",
       "could easily be adapted for an adult costume party so I've also included some tips and supplies specifically for \n",
       "adults—such as cocktail recipes. The great thing about throwing a generic Superhero party is that there are lots of\n",
       "elements that are common to all comic book heroes ...\n",
       "\n",
       "[10 Best Superhero Birthday Party Ideas To Plan in \n",
       "2025](https://www.birthdayinspire.com/superhero-birthday-party-ideas/)\n",
       "Here i have tried my best to cover everything you need to know to plan a perfect superhero birthday party . So stay\n",
       "tuned and enjoy the ideas mentioned below: 1. Superhero themes A superhero party is incomplete without centralizing\n",
       "it with a theme. So which theme is in your mind? There are thousands of superhero characters you can pick to plan a\n",
       "...\n",
       "\n",
       "[Planning a Superhero Themed Party: Ideas and \n",
       "Inspiration](https://partywhammy.com/planning-a-superhero-themed-party-ideas-and-inspiration/)\n",
       "When planing a superhero party , there are lots of great sources of inspiration out there - from websites and \n",
       "magazines to family and friends. Social media is also an invaluable source of ideas ; join related groups on \n",
       "Facebook or browse Pinterest for some great tips on how to make your party stand out.\n",
       "\n",
       "[Simple Ideas for an Epic Superhero Birthday Party - GigSalad](https://www.gigsalad.com/blog/superhero-party/)\n",
       "Superhero Party Decor Transform your party space into a scene straight out of a comic book with bold colors, \n",
       "dynamic designs, and heroic details. Using interactive elements and themed backdrops, these superhero -worthy \n",
       "decorations will immerse your guests in an unforgettable adventure! Check out our Pinterest board for decor ideas \n",
       "and more.\n",
       "\n",
       "[30+ Easy Superhero Party Ideas You Can Perfect on a \n",
       "Budget](https://www.frugalcouponliving.com/superhero-party-ideas/)\n",
       "Host a superhero-themed party that is sure to be a hit without a ton of time, money, or effort. Enjoy the best DIY \n",
       "superhero party ideas , recipes, décor, &amp; games to make party planning easy-peasy.\n",
       "\n",
       "Out: None\n",
       "</pre>\n"
      ],
      "text/plain": [
       "\u001b[1mExecution logs:\u001b[0m\n",
       "## Search Results\n",
       "\n",
       "[Superhero Theme Party Ideas for Adults to Create an Unforgettable \n",
       "...](https://partyideaszone.com/superhero-theme-party-ideas-for-adults/)\n",
       "Unleash your inner hero with our ultimate guide to hosting an unforgettable superhero-themed party for adults! \n",
       "Explore creative costume ideas , vibrant decorations, and mouthwatering themed snacks and drinks. Engage your \n",
       "guests with fun activities like trivia, costume contests, and movie screenings. Follow our planning tips to create \n",
       "a cohesive, memorable experience that your friends will rave ...\n",
       "\n",
       "[25 Superhero Party Ideas For All Ages](https://playideas.com/25-superhero-party-ideas/)\n",
       "They are perfect for your next superhero-themed food and party ! We have found some amazingly fantastic party ideas\n",
       "from treats, decor, crafts to souvenirs for different sorts of superheroes, from Batman, Super-Man, the Hulk, Iron \n",
       "Man, and even villains!. No matter who your favorite superhero is we've got some great party tips for you!\n",
       "\n",
       "[24 Superhero Party Ideas that Will Make You Wish You Were a \n",
       "Kid](https://howdoesshe.com/24-incredible-superhero-party-ideas-that-will-make-you-wish-you-were-a-kid-again/)\n",
       "24 incredible superhero party ideas that kids will love and make adults wish they were kids again. From decor ideas\n",
       ", party foods, and costume ideas to superhero-themed activities, we have all of your party needs covered.\n",
       "\n",
       "[Superhero-Themed Party Ideas & Decorations | \n",
       "CORKCICLE.](https://corkcicle.com/blogs/lifestyle/marvel-themed-party-ideas)\n",
       "Marvel™ Superhero-Themed Party Ideas Superhero-themed parties have become a beloved trend, offering an exciting way\n",
       "to celebrate special occasions. The thrill of donning capes and masks, the vibrant decorations, and the heroic \n",
       "atmosphere make these parties a hit among kids and adults alike.\n",
       "\n",
       "[Superhero Party Ideas | PartyWizz Blog](https://partywizz.com/blog/family/party-ideas/superhero-party-ideas/)\n",
       "Use superhero-themed paper party bags - Amazon have a good selection - or keep costs down with plain paper bags and\n",
       "decorate/personalise them yourself. This is a task you could definitely delegate to your own small superhero !\n",
       "\n",
       "[By a Pro: Superhero Party Ideas by a Professional](https://party-ideas-by-a-pro.com/party-themes/superhero-party/)\n",
       "The Superhero party ideas below were mainly designed with a kid's birthday in mind. However, a lot of the ideas \n",
       "could easily be adapted for an adult costume party so I've also included some tips and supplies specifically for \n",
       "adults—such as cocktail recipes. The great thing about throwing a generic Superhero party is that there are lots of\n",
       "elements that are common to all comic book heroes ...\n",
       "\n",
       "[10 Best Superhero Birthday Party Ideas To Plan in \n",
       "2025](https://www.birthdayinspire.com/superhero-birthday-party-ideas/)\n",
       "Here i have tried my best to cover everything you need to know to plan a perfect superhero birthday party . So stay\n",
       "tuned and enjoy the ideas mentioned below: 1. Superhero themes A superhero party is incomplete without centralizing\n",
       "it with a theme. So which theme is in your mind? There are thousands of superhero characters you can pick to plan a\n",
       "...\n",
       "\n",
       "[Planning a Superhero Themed Party: Ideas and \n",
       "Inspiration](https://partywhammy.com/planning-a-superhero-themed-party-ideas-and-inspiration/)\n",
       "When planing a superhero party , there are lots of great sources of inspiration out there - from websites and \n",
       "magazines to family and friends. Social media is also an invaluable source of ideas ; join related groups on \n",
       "Facebook or browse Pinterest for some great tips on how to make your party stand out.\n",
       "\n",
       "[Simple Ideas for an Epic Superhero Birthday Party - GigSalad](https://www.gigsalad.com/blog/superhero-party/)\n",
       "Superhero Party Decor Transform your party space into a scene straight out of a comic book with bold colors, \n",
       "dynamic designs, and heroic details. Using interactive elements and themed backdrops, these superhero -worthy \n",
       "decorations will immerse your guests in an unforgettable adventure! Check out our Pinterest board for decor ideas \n",
       "and more.\n",
       "\n",
       "[30+ Easy Superhero Party Ideas You Can Perfect on a \n",
       "Budget](https://www.frugalcouponliving.com/superhero-party-ideas/)\n",
       "Host a superhero-themed party that is sure to be a hit without a ton of time, money, or effort. Enjoy the best DIY \n",
       "superhero party ideas , recipes, décor, & games to make party planning easy-peasy.\n",
       "\n",
       "Out: None\n"
      ]
     },
     "metadata": {},
     "output_type": "display_data"
    },
    {
     "data": {
      "text/html": [
       "<pre style=\"white-space:pre;overflow-x:auto;line-height:normal;font-family:Menlo,'DejaVu Sans Mono',consolas,'Courier New',monospace\"><span style=\"color: #7f7f7f; text-decoration-color: #7f7f7f\">[Step 2: Duration 6.59 seconds| Input tokens: 6,021 | Output tokens: 166]</span>\n",
       "</pre>\n"
      ],
      "text/plain": [
       "\u001b[2m[Step 2: Duration 6.59 seconds| Input tokens: 6,021 | Output tokens: 166]\u001b[0m\n"
      ]
     },
     "metadata": {},
     "output_type": "display_data"
    },
    {
     "data": {
      "text/html": [
       "<pre style=\"white-space:pre;overflow-x:auto;line-height:normal;font-family:Menlo,'DejaVu Sans Mono',consolas,'Courier New',monospace\"><span style=\"color: #d4b702; text-decoration-color: #d4b702\">━━━━━━━━━━━━━━━━━━━━━━━━━━━━━━━━━━━━━━━━━━━━━━━━━━━━━ </span><span style=\"font-weight: bold\">Step 3</span><span style=\"color: #d4b702; text-decoration-color: #d4b702\"> ━━━━━━━━━━━━━━━━━━━━━━━━━━━━━━━━━━━━━━━━━━━━━━━━━━━━━━</span>\n",
       "</pre>\n"
      ],
      "text/plain": [
       "\u001b[38;2;212;183;2m━━━━━━━━━━━━━━━━━━━━━━━━━━━━━━━━━━━━━━━━━━━━━━━━━━━━━ \u001b[0m\u001b[1mStep 3\u001b[0m\u001b[38;2;212;183;2m ━━━━━━━━━━━━━━━━━━━━━━━━━━━━━━━━━━━━━━━━━━━━━━━━━━━━━━\u001b[0m\n"
      ]
     },
     "metadata": {},
     "output_type": "display_data"
    },
    {
     "data": {
      "text/html": [
       "<pre style=\"white-space:pre;overflow-x:auto;line-height:normal;font-family:Menlo,'DejaVu Sans Mono',consolas,'Courier New',monospace\"> ─ <span style=\"font-weight: bold\">Executing parsed code:</span> ──────────────────────────────────────────────────────────────────────────────────────── \n",
       "  <span style=\"color: #f8f8f2; text-decoration-color: #f8f8f2; background-color: #272822\">useful_links </span><span style=\"color: #ff4689; text-decoration-color: #ff4689; background-color: #272822\">=</span><span style=\"color: #f8f8f2; text-decoration-color: #f8f8f2; background-color: #272822\"> [</span><span style=\"background-color: #272822\">                                                                                               </span>  \n",
       "  <span style=\"color: #e6db74; text-decoration-color: #e6db74; background-color: #272822\">\"https://partyideaszone.com/superhero-theme-party-ideas-for-adults/\"</span><span style=\"color: #f8f8f2; text-decoration-color: #f8f8f2; background-color: #272822\">,</span><span style=\"background-color: #272822\">                                          </span>  \n",
       "  <span style=\"color: #e6db74; text-decoration-color: #e6db74; background-color: #272822\">\"https://playideas.com/25-superhero-party-ideas/\"</span><span style=\"color: #f8f8f2; text-decoration-color: #f8f8f2; background-color: #272822\">,</span><span style=\"background-color: #272822\">                                                             </span>  \n",
       "  <span style=\"color: #e6db74; text-decoration-color: #e6db74; background-color: #272822\">\"https://howdoesshe.com/24-incredible-superhero-party-ideas-that-will-make-you-wish-you-were-a-kid-again/\"</span><span style=\"color: #f8f8f2; text-decoration-color: #f8f8f2; background-color: #272822\">,</span><span style=\"background-color: #272822\">    </span>  \n",
       "  <span style=\"color: #e6db74; text-decoration-color: #e6db74; background-color: #272822\">\"https://corkcicle.com/blogs/lifestyle/marvel-themed-party-ideas\"</span><span style=\"color: #f8f8f2; text-decoration-color: #f8f8f2; background-color: #272822\">,</span><span style=\"background-color: #272822\">                                             </span>  \n",
       "  <span style=\"color: #e6db74; text-decoration-color: #e6db74; background-color: #272822\">\"https://partywizz.com/blog/family/party-ideas/superhero-party-ideas/\"</span><span style=\"color: #f8f8f2; text-decoration-color: #f8f8f2; background-color: #272822\">,</span><span style=\"background-color: #272822\">                                        </span>  \n",
       "  <span style=\"color: #e6db74; text-decoration-color: #e6db74; background-color: #272822\">\"https://party-ideas-by-a-pro.com/party-themes/superhero-party/\"</span><span style=\"color: #f8f8f2; text-decoration-color: #f8f8f2; background-color: #272822\">,</span><span style=\"background-color: #272822\">                                              </span>  \n",
       "  <span style=\"color: #e6db74; text-decoration-color: #e6db74; background-color: #272822\">\"https://www.birthdayinspire.com/superhero-birthday-party-ideas/\"</span><span style=\"color: #f8f8f2; text-decoration-color: #f8f8f2; background-color: #272822\">,</span><span style=\"background-color: #272822\">                                             </span>  \n",
       "  <span style=\"color: #e6db74; text-decoration-color: #e6db74; background-color: #272822\">\"https://partywhammy.com/planning-a-superhero-themed-party-ideas-and-inspiration/\"</span><span style=\"color: #f8f8f2; text-decoration-color: #f8f8f2; background-color: #272822\">,</span><span style=\"background-color: #272822\">                            </span>  \n",
       "  <span style=\"color: #e6db74; text-decoration-color: #e6db74; background-color: #272822\">\"https://www.gigsalad.com/blog/superhero-party/\"</span><span style=\"color: #f8f8f2; text-decoration-color: #f8f8f2; background-color: #272822\">,</span><span style=\"background-color: #272822\">                                                              </span>  \n",
       "  <span style=\"color: #e6db74; text-decoration-color: #e6db74; background-color: #272822\">\"https://www.frugalcouponliving.com/superhero-party-ideas/\"</span><span style=\"background-color: #272822\">                                                    </span>  \n",
       "  <span style=\"color: #f8f8f2; text-decoration-color: #f8f8f2; background-color: #272822\">]</span><span style=\"background-color: #272822\">                                                                                                              </span>  \n",
       "  <span style=\"background-color: #272822\">                                                                                                               </span>  \n",
       "  <span style=\"color: #66d9ef; text-decoration-color: #66d9ef; background-color: #272822\">for</span><span style=\"color: #f8f8f2; text-decoration-color: #f8f8f2; background-color: #272822\"> link </span><span style=\"color: #ff4689; text-decoration-color: #ff4689; background-color: #272822\">in</span><span style=\"color: #f8f8f2; text-decoration-color: #f8f8f2; background-color: #272822\"> useful_links:</span><span style=\"background-color: #272822\">                                                                                      </span>  \n",
       "  <span style=\"color: #f8f8f2; text-decoration-color: #f8f8f2; background-color: #272822\">print(</span><span style=\"color: #e6db74; text-decoration-color: #e6db74; background-color: #272822\">\"</span><span style=\"color: #ae81ff; text-decoration-color: #ae81ff; background-color: #272822\">\\n</span><span style=\"color: #e6db74; text-decoration-color: #e6db74; background-color: #272822\">Observing information from the link:\"</span><span style=\"color: #f8f8f2; text-decoration-color: #f8f8f2; background-color: #272822\">, link)</span><span style=\"background-color: #272822\">                                                          </span>  \n",
       "  <span style=\"color: #f8f8f2; text-decoration-color: #f8f8f2; background-color: #272822\">visited_page </span><span style=\"color: #ff4689; text-decoration-color: #ff4689; background-color: #272822\">=</span><span style=\"color: #f8f8f2; text-decoration-color: #f8f8f2; background-color: #272822\"> visit_webpage(url</span><span style=\"color: #ff4689; text-decoration-color: #ff4689; background-color: #272822\">=</span><span style=\"color: #f8f8f2; text-decoration-color: #f8f8f2; background-color: #272822\">link)</span><span style=\"background-color: #272822\">                                                                         </span>  \n",
       "  <span style=\"color: #f8f8f2; text-decoration-color: #f8f8f2; background-color: #272822\">print(</span><span style=\"color: #e6db74; text-decoration-color: #e6db74; background-color: #272822\">\"Page visit result:\"</span><span style=\"color: #f8f8f2; text-decoration-color: #f8f8f2; background-color: #272822\">, visited_page)</span><span style=\"background-color: #272822\">                                                                      </span>  \n",
       " ───────────────────────────────────────────────────────────────────────────────────────────────────────────────── \n",
       "</pre>\n"
      ],
      "text/plain": [
       " ─ \u001b[1mExecuting parsed code:\u001b[0m ──────────────────────────────────────────────────────────────────────────────────────── \n",
       "  \u001b[38;2;248;248;242;48;2;39;40;34museful_links\u001b[0m\u001b[38;2;248;248;242;48;2;39;40;34m \u001b[0m\u001b[38;2;255;70;137;48;2;39;40;34m=\u001b[0m\u001b[38;2;248;248;242;48;2;39;40;34m \u001b[0m\u001b[38;2;248;248;242;48;2;39;40;34m[\u001b[0m\u001b[48;2;39;40;34m                                                                                               \u001b[0m  \n",
       "  \u001b[38;2;230;219;116;48;2;39;40;34m\"\u001b[0m\u001b[38;2;230;219;116;48;2;39;40;34mhttps://partyideaszone.com/superhero-theme-party-ideas-for-adults/\u001b[0m\u001b[38;2;230;219;116;48;2;39;40;34m\"\u001b[0m\u001b[38;2;248;248;242;48;2;39;40;34m,\u001b[0m\u001b[48;2;39;40;34m                                          \u001b[0m  \n",
       "  \u001b[38;2;230;219;116;48;2;39;40;34m\"\u001b[0m\u001b[38;2;230;219;116;48;2;39;40;34mhttps://playideas.com/25-superhero-party-ideas/\u001b[0m\u001b[38;2;230;219;116;48;2;39;40;34m\"\u001b[0m\u001b[38;2;248;248;242;48;2;39;40;34m,\u001b[0m\u001b[48;2;39;40;34m                                                             \u001b[0m  \n",
       "  \u001b[38;2;230;219;116;48;2;39;40;34m\"\u001b[0m\u001b[38;2;230;219;116;48;2;39;40;34mhttps://howdoesshe.com/24-incredible-superhero-party-ideas-that-will-make-you-wish-you-were-a-kid-again/\u001b[0m\u001b[38;2;230;219;116;48;2;39;40;34m\"\u001b[0m\u001b[38;2;248;248;242;48;2;39;40;34m,\u001b[0m\u001b[48;2;39;40;34m    \u001b[0m  \n",
       "  \u001b[38;2;230;219;116;48;2;39;40;34m\"\u001b[0m\u001b[38;2;230;219;116;48;2;39;40;34mhttps://corkcicle.com/blogs/lifestyle/marvel-themed-party-ideas\u001b[0m\u001b[38;2;230;219;116;48;2;39;40;34m\"\u001b[0m\u001b[38;2;248;248;242;48;2;39;40;34m,\u001b[0m\u001b[48;2;39;40;34m                                             \u001b[0m  \n",
       "  \u001b[38;2;230;219;116;48;2;39;40;34m\"\u001b[0m\u001b[38;2;230;219;116;48;2;39;40;34mhttps://partywizz.com/blog/family/party-ideas/superhero-party-ideas/\u001b[0m\u001b[38;2;230;219;116;48;2;39;40;34m\"\u001b[0m\u001b[38;2;248;248;242;48;2;39;40;34m,\u001b[0m\u001b[48;2;39;40;34m                                        \u001b[0m  \n",
       "  \u001b[38;2;230;219;116;48;2;39;40;34m\"\u001b[0m\u001b[38;2;230;219;116;48;2;39;40;34mhttps://party-ideas-by-a-pro.com/party-themes/superhero-party/\u001b[0m\u001b[38;2;230;219;116;48;2;39;40;34m\"\u001b[0m\u001b[38;2;248;248;242;48;2;39;40;34m,\u001b[0m\u001b[48;2;39;40;34m                                              \u001b[0m  \n",
       "  \u001b[38;2;230;219;116;48;2;39;40;34m\"\u001b[0m\u001b[38;2;230;219;116;48;2;39;40;34mhttps://www.birthdayinspire.com/superhero-birthday-party-ideas/\u001b[0m\u001b[38;2;230;219;116;48;2;39;40;34m\"\u001b[0m\u001b[38;2;248;248;242;48;2;39;40;34m,\u001b[0m\u001b[48;2;39;40;34m                                             \u001b[0m  \n",
       "  \u001b[38;2;230;219;116;48;2;39;40;34m\"\u001b[0m\u001b[38;2;230;219;116;48;2;39;40;34mhttps://partywhammy.com/planning-a-superhero-themed-party-ideas-and-inspiration/\u001b[0m\u001b[38;2;230;219;116;48;2;39;40;34m\"\u001b[0m\u001b[38;2;248;248;242;48;2;39;40;34m,\u001b[0m\u001b[48;2;39;40;34m                            \u001b[0m  \n",
       "  \u001b[38;2;230;219;116;48;2;39;40;34m\"\u001b[0m\u001b[38;2;230;219;116;48;2;39;40;34mhttps://www.gigsalad.com/blog/superhero-party/\u001b[0m\u001b[38;2;230;219;116;48;2;39;40;34m\"\u001b[0m\u001b[38;2;248;248;242;48;2;39;40;34m,\u001b[0m\u001b[48;2;39;40;34m                                                              \u001b[0m  \n",
       "  \u001b[38;2;230;219;116;48;2;39;40;34m\"\u001b[0m\u001b[38;2;230;219;116;48;2;39;40;34mhttps://www.frugalcouponliving.com/superhero-party-ideas/\u001b[0m\u001b[38;2;230;219;116;48;2;39;40;34m\"\u001b[0m\u001b[48;2;39;40;34m                                                    \u001b[0m  \n",
       "  \u001b[38;2;248;248;242;48;2;39;40;34m]\u001b[0m\u001b[48;2;39;40;34m                                                                                                              \u001b[0m  \n",
       "  \u001b[48;2;39;40;34m                                                                                                               \u001b[0m  \n",
       "  \u001b[38;2;102;217;239;48;2;39;40;34mfor\u001b[0m\u001b[38;2;248;248;242;48;2;39;40;34m \u001b[0m\u001b[38;2;248;248;242;48;2;39;40;34mlink\u001b[0m\u001b[38;2;248;248;242;48;2;39;40;34m \u001b[0m\u001b[38;2;255;70;137;48;2;39;40;34min\u001b[0m\u001b[38;2;248;248;242;48;2;39;40;34m \u001b[0m\u001b[38;2;248;248;242;48;2;39;40;34museful_links\u001b[0m\u001b[38;2;248;248;242;48;2;39;40;34m:\u001b[0m\u001b[48;2;39;40;34m                                                                                      \u001b[0m  \n",
       "  \u001b[38;2;248;248;242;48;2;39;40;34mprint\u001b[0m\u001b[38;2;248;248;242;48;2;39;40;34m(\u001b[0m\u001b[38;2;230;219;116;48;2;39;40;34m\"\u001b[0m\u001b[38;2;174;129;255;48;2;39;40;34m\\n\u001b[0m\u001b[38;2;230;219;116;48;2;39;40;34mObserving information from the link:\u001b[0m\u001b[38;2;230;219;116;48;2;39;40;34m\"\u001b[0m\u001b[38;2;248;248;242;48;2;39;40;34m,\u001b[0m\u001b[38;2;248;248;242;48;2;39;40;34m \u001b[0m\u001b[38;2;248;248;242;48;2;39;40;34mlink\u001b[0m\u001b[38;2;248;248;242;48;2;39;40;34m)\u001b[0m\u001b[48;2;39;40;34m                                                          \u001b[0m  \n",
       "  \u001b[38;2;248;248;242;48;2;39;40;34mvisited_page\u001b[0m\u001b[38;2;248;248;242;48;2;39;40;34m \u001b[0m\u001b[38;2;255;70;137;48;2;39;40;34m=\u001b[0m\u001b[38;2;248;248;242;48;2;39;40;34m \u001b[0m\u001b[38;2;248;248;242;48;2;39;40;34mvisit_webpage\u001b[0m\u001b[38;2;248;248;242;48;2;39;40;34m(\u001b[0m\u001b[38;2;248;248;242;48;2;39;40;34murl\u001b[0m\u001b[38;2;255;70;137;48;2;39;40;34m=\u001b[0m\u001b[38;2;248;248;242;48;2;39;40;34mlink\u001b[0m\u001b[38;2;248;248;242;48;2;39;40;34m)\u001b[0m\u001b[48;2;39;40;34m                                                                         \u001b[0m  \n",
       "  \u001b[38;2;248;248;242;48;2;39;40;34mprint\u001b[0m\u001b[38;2;248;248;242;48;2;39;40;34m(\u001b[0m\u001b[38;2;230;219;116;48;2;39;40;34m\"\u001b[0m\u001b[38;2;230;219;116;48;2;39;40;34mPage visit result:\u001b[0m\u001b[38;2;230;219;116;48;2;39;40;34m\"\u001b[0m\u001b[38;2;248;248;242;48;2;39;40;34m,\u001b[0m\u001b[38;2;248;248;242;48;2;39;40;34m \u001b[0m\u001b[38;2;248;248;242;48;2;39;40;34mvisited_page\u001b[0m\u001b[38;2;248;248;242;48;2;39;40;34m)\u001b[0m\u001b[48;2;39;40;34m                                                                      \u001b[0m  \n",
       " ───────────────────────────────────────────────────────────────────────────────────────────────────────────────── \n"
      ]
     },
     "metadata": {},
     "output_type": "display_data"
    },
    {
     "data": {
      "text/html": [
       "<pre style=\"white-space:pre;overflow-x:auto;line-height:normal;font-family:Menlo,'DejaVu Sans Mono',consolas,'Courier New',monospace\"><span style=\"font-weight: bold\">Execution logs:</span>\n",
       "## Search Results\n",
       "\n",
       "[Superhero Theme Party Ideas for Adults to Create an Unforgettable \n",
       "...](https://partyideaszone.com/superhero-theme-party-ideas-for-adults/)\n",
       "Unleash your inner hero with our ultimate guide to hosting an unforgettable superhero-themed party for adults! \n",
       "Explore creative costume ideas , vibrant decorations, and mouthwatering themed snacks and drinks. Engage your \n",
       "guests with fun activities like trivia, costume contests, and movie screenings. Follow our planning tips to create \n",
       "a cohesive, memorable experience that your friends will rave ...\n",
       "\n",
       "[25 Superhero Party Ideas For All Ages](https://playideas.com/25-superhero-party-ideas/)\n",
       "They are perfect for your next superhero-themed food and party ! We have found some amazingly fantastic party ideas\n",
       "from treats, decor, crafts to souvenirs for different sorts of superheroes, from Batman, Super-Man, the Hulk, Iron \n",
       "Man, and even villains!. No matter who your favorite superhero is we've got some great party tips for you!\n",
       "\n",
       "[24 Superhero Party Ideas that Will Make You Wish You Were a \n",
       "Kid](https://howdoesshe.com/24-incredible-superhero-party-ideas-that-will-make-you-wish-you-were-a-kid-again/)\n",
       "24 incredible superhero party ideas that kids will love and make adults wish they were kids again. From decor ideas\n",
       ", party foods, and costume ideas to superhero-themed activities, we have all of your party needs covered.\n",
       "\n",
       "[Superhero-Themed Party Ideas &amp; Decorations | \n",
       "CORKCICLE.](https://corkcicle.com/blogs/lifestyle/marvel-themed-party-ideas)\n",
       "Marvel™ Superhero-Themed Party Ideas Superhero-themed parties have become a beloved trend, offering an exciting way\n",
       "to celebrate special occasions. The thrill of donning capes and masks, the vibrant decorations, and the heroic \n",
       "atmosphere make these parties a hit among kids and adults alike.\n",
       "\n",
       "[Superhero Party Ideas | PartyWizz Blog](https://partywizz.com/blog/family/party-ideas/superhero-party-ideas/)\n",
       "Use superhero-themed paper party bags - Amazon have a good selection - or keep costs down with plain paper bags and\n",
       "decorate/personalise them yourself. This is a task you could definitely delegate to your own small superhero !\n",
       "\n",
       "[By a Pro: Superhero Party Ideas by a Professional](https://party-ideas-by-a-pro.com/party-themes/superhero-party/)\n",
       "The Superhero party ideas below were mainly designed with a kid's birthday in mind. However, a lot of the ideas \n",
       "could easily be adapted for an adult costume party so I've also included some tips and supplies specifically for \n",
       "adults—such as cocktail recipes. The great thing about throwing a generic Superhero party is that there are lots of\n",
       "elements that are common to all comic book heroes ...\n",
       "\n",
       "[10 Best Superhero Birthday Party Ideas To Plan in \n",
       "2025](https://www.birthdayinspire.com/superhero-birthday-party-ideas/)\n",
       "Here i have tried my best to cover everything you need to know to plan a perfect superhero birthday party . So stay\n",
       "tuned and enjoy the ideas mentioned below: 1. Superhero themes A superhero party is incomplete without centralizing\n",
       "it with a theme. So which theme is in your mind? There are thousands of superhero characters you can pick to plan a\n",
       "...\n",
       "\n",
       "[Planning a Superhero Themed Party: Ideas and \n",
       "Inspiration](https://partywhammy.com/planning-a-superhero-themed-party-ideas-and-inspiration/)\n",
       "When planing a superhero party , there are lots of great sources of inspiration out there - from websites and \n",
       "magazines to family and friends. Social media is also an invaluable source of ideas ; join related groups on \n",
       "Facebook or browse Pinterest for some great tips on how to make your party stand out.\n",
       "\n",
       "[Simple Ideas for an Epic Superhero Birthday Party - GigSalad](https://www.gigsalad.com/blog/superhero-party/)\n",
       "Superhero Party Decor Transform your party space into a scene straight out of a comic book with bold colors, \n",
       "dynamic designs, and heroic details. Using interactive elements and themed backdrops, these superhero -worthy \n",
       "decorations will immerse your guests in an unforgettable adventure! Check out our Pinterest board for decor ideas \n",
       "and more.\n",
       "\n",
       "[30+ Easy Superhero Party Ideas You Can Perfect on a \n",
       "Budget](https://www.frugalcouponliving.com/superhero-party-ideas/)\n",
       "Host a superhero-themed party that is sure to be a hit without a ton of time, money, or effort. Enjoy the best DIY \n",
       "superhero party ideas , recipes, décor, &amp; games to make party planning easy-peasy.\n",
       "\n",
       "</pre>\n"
      ],
      "text/plain": [
       "\u001b[1mExecution logs:\u001b[0m\n",
       "## Search Results\n",
       "\n",
       "[Superhero Theme Party Ideas for Adults to Create an Unforgettable \n",
       "...](https://partyideaszone.com/superhero-theme-party-ideas-for-adults/)\n",
       "Unleash your inner hero with our ultimate guide to hosting an unforgettable superhero-themed party for adults! \n",
       "Explore creative costume ideas , vibrant decorations, and mouthwatering themed snacks and drinks. Engage your \n",
       "guests with fun activities like trivia, costume contests, and movie screenings. Follow our planning tips to create \n",
       "a cohesive, memorable experience that your friends will rave ...\n",
       "\n",
       "[25 Superhero Party Ideas For All Ages](https://playideas.com/25-superhero-party-ideas/)\n",
       "They are perfect for your next superhero-themed food and party ! We have found some amazingly fantastic party ideas\n",
       "from treats, decor, crafts to souvenirs for different sorts of superheroes, from Batman, Super-Man, the Hulk, Iron \n",
       "Man, and even villains!. No matter who your favorite superhero is we've got some great party tips for you!\n",
       "\n",
       "[24 Superhero Party Ideas that Will Make You Wish You Were a \n",
       "Kid](https://howdoesshe.com/24-incredible-superhero-party-ideas-that-will-make-you-wish-you-were-a-kid-again/)\n",
       "24 incredible superhero party ideas that kids will love and make adults wish they were kids again. From decor ideas\n",
       ", party foods, and costume ideas to superhero-themed activities, we have all of your party needs covered.\n",
       "\n",
       "[Superhero-Themed Party Ideas & Decorations | \n",
       "CORKCICLE.](https://corkcicle.com/blogs/lifestyle/marvel-themed-party-ideas)\n",
       "Marvel™ Superhero-Themed Party Ideas Superhero-themed parties have become a beloved trend, offering an exciting way\n",
       "to celebrate special occasions. The thrill of donning capes and masks, the vibrant decorations, and the heroic \n",
       "atmosphere make these parties a hit among kids and adults alike.\n",
       "\n",
       "[Superhero Party Ideas | PartyWizz Blog](https://partywizz.com/blog/family/party-ideas/superhero-party-ideas/)\n",
       "Use superhero-themed paper party bags - Amazon have a good selection - or keep costs down with plain paper bags and\n",
       "decorate/personalise them yourself. This is a task you could definitely delegate to your own small superhero !\n",
       "\n",
       "[By a Pro: Superhero Party Ideas by a Professional](https://party-ideas-by-a-pro.com/party-themes/superhero-party/)\n",
       "The Superhero party ideas below were mainly designed with a kid's birthday in mind. However, a lot of the ideas \n",
       "could easily be adapted for an adult costume party so I've also included some tips and supplies specifically for \n",
       "adults—such as cocktail recipes. The great thing about throwing a generic Superhero party is that there are lots of\n",
       "elements that are common to all comic book heroes ...\n",
       "\n",
       "[10 Best Superhero Birthday Party Ideas To Plan in \n",
       "2025](https://www.birthdayinspire.com/superhero-birthday-party-ideas/)\n",
       "Here i have tried my best to cover everything you need to know to plan a perfect superhero birthday party . So stay\n",
       "tuned and enjoy the ideas mentioned below: 1. Superhero themes A superhero party is incomplete without centralizing\n",
       "it with a theme. So which theme is in your mind? There are thousands of superhero characters you can pick to plan a\n",
       "...\n",
       "\n",
       "[Planning a Superhero Themed Party: Ideas and \n",
       "Inspiration](https://partywhammy.com/planning-a-superhero-themed-party-ideas-and-inspiration/)\n",
       "When planing a superhero party , there are lots of great sources of inspiration out there - from websites and \n",
       "magazines to family and friends. Social media is also an invaluable source of ideas ; join related groups on \n",
       "Facebook or browse Pinterest for some great tips on how to make your party stand out.\n",
       "\n",
       "[Simple Ideas for an Epic Superhero Birthday Party - GigSalad](https://www.gigsalad.com/blog/superhero-party/)\n",
       "Superhero Party Decor Transform your party space into a scene straight out of a comic book with bold colors, \n",
       "dynamic designs, and heroic details. Using interactive elements and themed backdrops, these superhero -worthy \n",
       "decorations will immerse your guests in an unforgettable adventure! Check out our Pinterest board for decor ideas \n",
       "and more.\n",
       "\n",
       "[30+ Easy Superhero Party Ideas You Can Perfect on a \n",
       "Budget](https://www.frugalcouponliving.com/superhero-party-ideas/)\n",
       "Host a superhero-themed party that is sure to be a hit without a ton of time, money, or effort. Enjoy the best DIY \n",
       "superhero party ideas , recipes, décor, & games to make party planning easy-peasy.\n",
       "\n"
      ]
     },
     "metadata": {},
     "output_type": "display_data"
    },
    {
     "data": {
      "text/html": [
       "<pre style=\"white-space:pre;overflow-x:auto;line-height:normal;font-family:Menlo,'DejaVu Sans Mono',consolas,'Courier New',monospace\"><span style=\"color: #800000; text-decoration-color: #800000; font-weight: bold\">Code parsing failed on line 15 due to: IndentationError</span>\n",
       "<span style=\"color: #800000; text-decoration-color: #800000; font-weight: bold\">print(\"\\nObserving information from the link:\", link)</span>\n",
       "<span style=\"color: #800000; text-decoration-color: #800000; font-weight: bold\"> ^</span>\n",
       "<span style=\"color: #800000; text-decoration-color: #800000; font-weight: bold\">Error: expected an indented block after 'for' statement on line 14 (&lt;unknown&gt;, line 15)</span>\n",
       "</pre>\n"
      ],
      "text/plain": [
       "\u001b[1;31mCode parsing failed on line 15 due to: IndentationError\u001b[0m\n",
       "\u001b[1;31mprint(\"\\nObserving information from the link:\", link)\u001b[0m\n",
       "\u001b[1;31m ^\u001b[0m\n",
       "\u001b[1;31mError: expected an indented block after 'for' statement on line 14 (<unknown>, line 15)\u001b[0m\n"
      ]
     },
     "metadata": {},
     "output_type": "display_data"
    },
    {
     "data": {
      "text/html": [
       "<pre style=\"white-space:pre;overflow-x:auto;line-height:normal;font-family:Menlo,'DejaVu Sans Mono',consolas,'Courier New',monospace\"><span style=\"color: #7f7f7f; text-decoration-color: #7f7f7f\">[Step 3: Duration 12.77 seconds| Input tokens: 10,885 | Output tokens: 582]</span>\n",
       "</pre>\n"
      ],
      "text/plain": [
       "\u001b[2m[Step 3: Duration 12.77 seconds| Input tokens: 10,885 | Output tokens: 582]\u001b[0m\n"
      ]
     },
     "metadata": {},
     "output_type": "display_data"
    },
    {
     "data": {
      "text/html": [
       "<pre style=\"white-space:pre;overflow-x:auto;line-height:normal;font-family:Menlo,'DejaVu Sans Mono',consolas,'Courier New',monospace\"><span style=\"color: #d4b702; text-decoration-color: #d4b702\">━━━━━━━━━━━━━━━━━━━━━━━━━━━━━━━━━━━━━━━━━━━━━━━━━━━━━ </span><span style=\"font-weight: bold\">Step 4</span><span style=\"color: #d4b702; text-decoration-color: #d4b702\"> ━━━━━━━━━━━━━━━━━━━━━━━━━━━━━━━━━━━━━━━━━━━━━━━━━━━━━━</span>\n",
       "</pre>\n"
      ],
      "text/plain": [
       "\u001b[38;2;212;183;2m━━━━━━━━━━━━━━━━━━━━━━━━━━━━━━━━━━━━━━━━━━━━━━━━━━━━━ \u001b[0m\u001b[1mStep 4\u001b[0m\u001b[38;2;212;183;2m ━━━━━━━━━━━━━━━━━━━━━━━━━━━━━━━━━━━━━━━━━━━━━━━━━━━━━━\u001b[0m\n"
      ]
     },
     "metadata": {},
     "output_type": "display_data"
    },
    {
     "data": {
      "text/html": [
       "<pre style=\"white-space:pre;overflow-x:auto;line-height:normal;font-family:Menlo,'DejaVu Sans Mono',consolas,'Courier New',monospace\"> ─ <span style=\"font-weight: bold\">Executing parsed code:</span> ──────────────────────────────────────────────────────────────────────────────────────── \n",
       "  <span style=\"color: #f8f8f2; text-decoration-color: #f8f8f2; background-color: #272822\">useful_links </span><span style=\"color: #ff4689; text-decoration-color: #ff4689; background-color: #272822\">=</span><span style=\"color: #f8f8f2; text-decoration-color: #f8f8f2; background-color: #272822\"> [</span><span style=\"background-color: #272822\">                                                                                               </span>  \n",
       "  <span style=\"color: #e6db74; text-decoration-color: #e6db74; background-color: #272822\">\"https://partyideaszone.com/superhero-theme-party-ideas-for-adults/\"</span><span style=\"color: #f8f8f2; text-decoration-color: #f8f8f2; background-color: #272822\">,</span><span style=\"background-color: #272822\">                                          </span>  \n",
       "  <span style=\"color: #e6db74; text-decoration-color: #e6db74; background-color: #272822\">\"https://playideas.com/25-superhero-party-ideas/\"</span><span style=\"color: #f8f8f2; text-decoration-color: #f8f8f2; background-color: #272822\">,</span><span style=\"background-color: #272822\">                                                             </span>  \n",
       "  <span style=\"color: #e6db74; text-decoration-color: #e6db74; background-color: #272822\">\"https://howdoesshe.com/24-incredible-superhero-party-ideas-that-will-make-you-wish-you-were-a-kid-again/\"</span><span style=\"color: #f8f8f2; text-decoration-color: #f8f8f2; background-color: #272822\">,</span><span style=\"background-color: #272822\">    </span>  \n",
       "  <span style=\"color: #e6db74; text-decoration-color: #e6db74; background-color: #272822\">\"https://corkcicle.com/blogs/lifestyle/marvel-themed-party-ideas\"</span><span style=\"color: #f8f8f2; text-decoration-color: #f8f8f2; background-color: #272822\">,</span><span style=\"background-color: #272822\">                                             </span>  \n",
       "  <span style=\"color: #e6db74; text-decoration-color: #e6db74; background-color: #272822\">\"https://partywizz.com/blog/family/party-ideas/superhero-party-ideas/\"</span><span style=\"color: #f8f8f2; text-decoration-color: #f8f8f2; background-color: #272822\">,</span><span style=\"background-color: #272822\">                                        </span>  \n",
       "  <span style=\"color: #e6db74; text-decoration-color: #e6db74; background-color: #272822\">\"https://party-ideas-by-a-pro.com/party-themes/superhero-party/\"</span><span style=\"color: #f8f8f2; text-decoration-color: #f8f8f2; background-color: #272822\">,</span><span style=\"background-color: #272822\">                                              </span>  \n",
       "  <span style=\"color: #e6db74; text-decoration-color: #e6db74; background-color: #272822\">\"https://www.birthdayinspire.com/superhero-birthday-party-ideas/\"</span><span style=\"color: #f8f8f2; text-decoration-color: #f8f8f2; background-color: #272822\">,</span><span style=\"background-color: #272822\">                                             </span>  \n",
       "  <span style=\"color: #e6db74; text-decoration-color: #e6db74; background-color: #272822\">\"https://partywhammy.com/planning-a-superhero-themed-party-ideas-and-inspiration/\"</span><span style=\"color: #f8f8f2; text-decoration-color: #f8f8f2; background-color: #272822\">,</span><span style=\"background-color: #272822\">                            </span>  \n",
       "  <span style=\"color: #e6db74; text-decoration-color: #e6db74; background-color: #272822\">\"https://www.gigsalad.com/blog/superhero-party/\"</span><span style=\"color: #f8f8f2; text-decoration-color: #f8f8f2; background-color: #272822\">,</span><span style=\"background-color: #272822\">                                                              </span>  \n",
       "  <span style=\"color: #e6db74; text-decoration-color: #e6db74; background-color: #272822\">\"https://www.frugalcouponliving.com/superhero-party-ideas/\"</span><span style=\"background-color: #272822\">                                                    </span>  \n",
       "  <span style=\"color: #f8f8f2; text-decoration-color: #f8f8f2; background-color: #272822\">]</span><span style=\"background-color: #272822\">                                                                                                              </span>  \n",
       "  <span style=\"background-color: #272822\">                                                                                                               </span>  \n",
       "  <span style=\"color: #66d9ef; text-decoration-color: #66d9ef; background-color: #272822\">for</span><span style=\"color: #f8f8f2; text-decoration-color: #f8f8f2; background-color: #272822\"> link </span><span style=\"color: #ff4689; text-decoration-color: #ff4689; background-color: #272822\">in</span><span style=\"color: #f8f8f2; text-decoration-color: #f8f8f2; background-color: #272822\"> useful_links:</span><span style=\"background-color: #272822\">                                                                                      </span>  \n",
       "  <span style=\"color: #f8f8f2; text-decoration-color: #f8f8f2; background-color: #272822\">print(</span><span style=\"color: #e6db74; text-decoration-color: #e6db74; background-color: #272822\">\"</span><span style=\"color: #ae81ff; text-decoration-color: #ae81ff; background-color: #272822\">\\n</span><span style=\"color: #e6db74; text-decoration-color: #e6db74; background-color: #272822\">Observing information from the link:\"</span><span style=\"color: #f8f8f2; text-decoration-color: #f8f8f2; background-color: #272822\">, link)</span><span style=\"background-color: #272822\">                                                          </span>  \n",
       "  <span style=\"color: #f8f8f2; text-decoration-color: #f8f8f2; background-color: #272822\">visited_page </span><span style=\"color: #ff4689; text-decoration-color: #ff4689; background-color: #272822\">=</span><span style=\"color: #f8f8f2; text-decoration-color: #f8f8f2; background-color: #272822\"> visit_webpage(url</span><span style=\"color: #ff4689; text-decoration-color: #ff4689; background-color: #272822\">=</span><span style=\"color: #f8f8f2; text-decoration-color: #f8f8f2; background-color: #272822\">link)</span><span style=\"background-color: #272822\">                                                                         </span>  \n",
       "  <span style=\"color: #f8f8f2; text-decoration-color: #f8f8f2; background-color: #272822\">print(</span><span style=\"color: #e6db74; text-decoration-color: #e6db74; background-color: #272822\">\"Page visit result:\"</span><span style=\"color: #f8f8f2; text-decoration-color: #f8f8f2; background-color: #272822\">, visited_page)</span><span style=\"background-color: #272822\">                                                                      </span>  \n",
       " ───────────────────────────────────────────────────────────────────────────────────────────────────────────────── \n",
       "</pre>\n"
      ],
      "text/plain": [
       " ─ \u001b[1mExecuting parsed code:\u001b[0m ──────────────────────────────────────────────────────────────────────────────────────── \n",
       "  \u001b[38;2;248;248;242;48;2;39;40;34museful_links\u001b[0m\u001b[38;2;248;248;242;48;2;39;40;34m \u001b[0m\u001b[38;2;255;70;137;48;2;39;40;34m=\u001b[0m\u001b[38;2;248;248;242;48;2;39;40;34m \u001b[0m\u001b[38;2;248;248;242;48;2;39;40;34m[\u001b[0m\u001b[48;2;39;40;34m                                                                                               \u001b[0m  \n",
       "  \u001b[38;2;230;219;116;48;2;39;40;34m\"\u001b[0m\u001b[38;2;230;219;116;48;2;39;40;34mhttps://partyideaszone.com/superhero-theme-party-ideas-for-adults/\u001b[0m\u001b[38;2;230;219;116;48;2;39;40;34m\"\u001b[0m\u001b[38;2;248;248;242;48;2;39;40;34m,\u001b[0m\u001b[48;2;39;40;34m                                          \u001b[0m  \n",
       "  \u001b[38;2;230;219;116;48;2;39;40;34m\"\u001b[0m\u001b[38;2;230;219;116;48;2;39;40;34mhttps://playideas.com/25-superhero-party-ideas/\u001b[0m\u001b[38;2;230;219;116;48;2;39;40;34m\"\u001b[0m\u001b[38;2;248;248;242;48;2;39;40;34m,\u001b[0m\u001b[48;2;39;40;34m                                                             \u001b[0m  \n",
       "  \u001b[38;2;230;219;116;48;2;39;40;34m\"\u001b[0m\u001b[38;2;230;219;116;48;2;39;40;34mhttps://howdoesshe.com/24-incredible-superhero-party-ideas-that-will-make-you-wish-you-were-a-kid-again/\u001b[0m\u001b[38;2;230;219;116;48;2;39;40;34m\"\u001b[0m\u001b[38;2;248;248;242;48;2;39;40;34m,\u001b[0m\u001b[48;2;39;40;34m    \u001b[0m  \n",
       "  \u001b[38;2;230;219;116;48;2;39;40;34m\"\u001b[0m\u001b[38;2;230;219;116;48;2;39;40;34mhttps://corkcicle.com/blogs/lifestyle/marvel-themed-party-ideas\u001b[0m\u001b[38;2;230;219;116;48;2;39;40;34m\"\u001b[0m\u001b[38;2;248;248;242;48;2;39;40;34m,\u001b[0m\u001b[48;2;39;40;34m                                             \u001b[0m  \n",
       "  \u001b[38;2;230;219;116;48;2;39;40;34m\"\u001b[0m\u001b[38;2;230;219;116;48;2;39;40;34mhttps://partywizz.com/blog/family/party-ideas/superhero-party-ideas/\u001b[0m\u001b[38;2;230;219;116;48;2;39;40;34m\"\u001b[0m\u001b[38;2;248;248;242;48;2;39;40;34m,\u001b[0m\u001b[48;2;39;40;34m                                        \u001b[0m  \n",
       "  \u001b[38;2;230;219;116;48;2;39;40;34m\"\u001b[0m\u001b[38;2;230;219;116;48;2;39;40;34mhttps://party-ideas-by-a-pro.com/party-themes/superhero-party/\u001b[0m\u001b[38;2;230;219;116;48;2;39;40;34m\"\u001b[0m\u001b[38;2;248;248;242;48;2;39;40;34m,\u001b[0m\u001b[48;2;39;40;34m                                              \u001b[0m  \n",
       "  \u001b[38;2;230;219;116;48;2;39;40;34m\"\u001b[0m\u001b[38;2;230;219;116;48;2;39;40;34mhttps://www.birthdayinspire.com/superhero-birthday-party-ideas/\u001b[0m\u001b[38;2;230;219;116;48;2;39;40;34m\"\u001b[0m\u001b[38;2;248;248;242;48;2;39;40;34m,\u001b[0m\u001b[48;2;39;40;34m                                             \u001b[0m  \n",
       "  \u001b[38;2;230;219;116;48;2;39;40;34m\"\u001b[0m\u001b[38;2;230;219;116;48;2;39;40;34mhttps://partywhammy.com/planning-a-superhero-themed-party-ideas-and-inspiration/\u001b[0m\u001b[38;2;230;219;116;48;2;39;40;34m\"\u001b[0m\u001b[38;2;248;248;242;48;2;39;40;34m,\u001b[0m\u001b[48;2;39;40;34m                            \u001b[0m  \n",
       "  \u001b[38;2;230;219;116;48;2;39;40;34m\"\u001b[0m\u001b[38;2;230;219;116;48;2;39;40;34mhttps://www.gigsalad.com/blog/superhero-party/\u001b[0m\u001b[38;2;230;219;116;48;2;39;40;34m\"\u001b[0m\u001b[38;2;248;248;242;48;2;39;40;34m,\u001b[0m\u001b[48;2;39;40;34m                                                              \u001b[0m  \n",
       "  \u001b[38;2;230;219;116;48;2;39;40;34m\"\u001b[0m\u001b[38;2;230;219;116;48;2;39;40;34mhttps://www.frugalcouponliving.com/superhero-party-ideas/\u001b[0m\u001b[38;2;230;219;116;48;2;39;40;34m\"\u001b[0m\u001b[48;2;39;40;34m                                                    \u001b[0m  \n",
       "  \u001b[38;2;248;248;242;48;2;39;40;34m]\u001b[0m\u001b[48;2;39;40;34m                                                                                                              \u001b[0m  \n",
       "  \u001b[48;2;39;40;34m                                                                                                               \u001b[0m  \n",
       "  \u001b[38;2;102;217;239;48;2;39;40;34mfor\u001b[0m\u001b[38;2;248;248;242;48;2;39;40;34m \u001b[0m\u001b[38;2;248;248;242;48;2;39;40;34mlink\u001b[0m\u001b[38;2;248;248;242;48;2;39;40;34m \u001b[0m\u001b[38;2;255;70;137;48;2;39;40;34min\u001b[0m\u001b[38;2;248;248;242;48;2;39;40;34m \u001b[0m\u001b[38;2;248;248;242;48;2;39;40;34museful_links\u001b[0m\u001b[38;2;248;248;242;48;2;39;40;34m:\u001b[0m\u001b[48;2;39;40;34m                                                                                      \u001b[0m  \n",
       "  \u001b[38;2;248;248;242;48;2;39;40;34mprint\u001b[0m\u001b[38;2;248;248;242;48;2;39;40;34m(\u001b[0m\u001b[38;2;230;219;116;48;2;39;40;34m\"\u001b[0m\u001b[38;2;174;129;255;48;2;39;40;34m\\n\u001b[0m\u001b[38;2;230;219;116;48;2;39;40;34mObserving information from the link:\u001b[0m\u001b[38;2;230;219;116;48;2;39;40;34m\"\u001b[0m\u001b[38;2;248;248;242;48;2;39;40;34m,\u001b[0m\u001b[38;2;248;248;242;48;2;39;40;34m \u001b[0m\u001b[38;2;248;248;242;48;2;39;40;34mlink\u001b[0m\u001b[38;2;248;248;242;48;2;39;40;34m)\u001b[0m\u001b[48;2;39;40;34m                                                          \u001b[0m  \n",
       "  \u001b[38;2;248;248;242;48;2;39;40;34mvisited_page\u001b[0m\u001b[38;2;248;248;242;48;2;39;40;34m \u001b[0m\u001b[38;2;255;70;137;48;2;39;40;34m=\u001b[0m\u001b[38;2;248;248;242;48;2;39;40;34m \u001b[0m\u001b[38;2;248;248;242;48;2;39;40;34mvisit_webpage\u001b[0m\u001b[38;2;248;248;242;48;2;39;40;34m(\u001b[0m\u001b[38;2;248;248;242;48;2;39;40;34murl\u001b[0m\u001b[38;2;255;70;137;48;2;39;40;34m=\u001b[0m\u001b[38;2;248;248;242;48;2;39;40;34mlink\u001b[0m\u001b[38;2;248;248;242;48;2;39;40;34m)\u001b[0m\u001b[48;2;39;40;34m                                                                         \u001b[0m  \n",
       "  \u001b[38;2;248;248;242;48;2;39;40;34mprint\u001b[0m\u001b[38;2;248;248;242;48;2;39;40;34m(\u001b[0m\u001b[38;2;230;219;116;48;2;39;40;34m\"\u001b[0m\u001b[38;2;230;219;116;48;2;39;40;34mPage visit result:\u001b[0m\u001b[38;2;230;219;116;48;2;39;40;34m\"\u001b[0m\u001b[38;2;248;248;242;48;2;39;40;34m,\u001b[0m\u001b[38;2;248;248;242;48;2;39;40;34m \u001b[0m\u001b[38;2;248;248;242;48;2;39;40;34mvisited_page\u001b[0m\u001b[38;2;248;248;242;48;2;39;40;34m)\u001b[0m\u001b[48;2;39;40;34m                                                                      \u001b[0m  \n",
       " ───────────────────────────────────────────────────────────────────────────────────────────────────────────────── \n"
      ]
     },
     "metadata": {},
     "output_type": "display_data"
    },
    {
     "data": {
      "text/html": [
       "<pre style=\"white-space:pre;overflow-x:auto;line-height:normal;font-family:Menlo,'DejaVu Sans Mono',consolas,'Courier New',monospace\"><span style=\"font-weight: bold\">Execution logs:</span>\n",
       "## Search Results\n",
       "\n",
       "[Superhero Theme Party Ideas for Adults to Create an Unforgettable \n",
       "...](https://partyideaszone.com/superhero-theme-party-ideas-for-adults/)\n",
       "Unleash your inner hero with our ultimate guide to hosting an unforgettable superhero-themed party for adults! \n",
       "Explore creative costume ideas , vibrant decorations, and mouthwatering themed snacks and drinks. Engage your \n",
       "guests with fun activities like trivia, costume contests, and movie screenings. Follow our planning tips to create \n",
       "a cohesive, memorable experience that your friends will rave ...\n",
       "\n",
       "[25 Superhero Party Ideas For All Ages](https://playideas.com/25-superhero-party-ideas/)\n",
       "They are perfect for your next superhero-themed food and party ! We have found some amazingly fantastic party ideas\n",
       "from treats, decor, crafts to souvenirs for different sorts of superheroes, from Batman, Super-Man, the Hulk, Iron \n",
       "Man, and even villains!. No matter who your favorite superhero is we've got some great party tips for you!\n",
       "\n",
       "[24 Superhero Party Ideas that Will Make You Wish You Were a \n",
       "Kid](https://howdoesshe.com/24-incredible-superhero-party-ideas-that-will-make-you-wish-you-were-a-kid-again/)\n",
       "24 incredible superhero party ideas that kids will love and make adults wish they were kids again. From decor ideas\n",
       ", party foods, and costume ideas to superhero-themed activities, we have all of your party needs covered.\n",
       "\n",
       "[Superhero-Themed Party Ideas &amp; Decorations | \n",
       "CORKCICLE.](https://corkcicle.com/blogs/lifestyle/marvel-themed-party-ideas)\n",
       "Marvel™ Superhero-Themed Party Ideas Superhero-themed parties have become a beloved trend, offering an exciting way\n",
       "to celebrate special occasions. The thrill of donning capes and masks, the vibrant decorations, and the heroic \n",
       "atmosphere make these parties a hit among kids and adults alike.\n",
       "\n",
       "[Superhero Party Ideas | PartyWizz Blog](https://partywizz.com/blog/family/party-ideas/superhero-party-ideas/)\n",
       "Use superhero-themed paper party bags - Amazon have a good selection - or keep costs down with plain paper bags and\n",
       "decorate/personalise them yourself. This is a task you could definitely delegate to your own small superhero !\n",
       "\n",
       "[By a Pro: Superhero Party Ideas by a Professional](https://party-ideas-by-a-pro.com/party-themes/superhero-party/)\n",
       "The Superhero party ideas below were mainly designed with a kid's birthday in mind. However, a lot of the ideas \n",
       "could easily be adapted for an adult costume party so I've also included some tips and supplies specifically for \n",
       "adults—such as cocktail recipes. The great thing about throwing a generic Superhero party is that there are lots of\n",
       "elements that are common to all comic book heroes ...\n",
       "\n",
       "[10 Best Superhero Birthday Party Ideas To Plan in \n",
       "2025](https://www.birthdayinspire.com/superhero-birthday-party-ideas/)\n",
       "Here i have tried my best to cover everything you need to know to plan a perfect superhero birthday party . So stay\n",
       "tuned and enjoy the ideas mentioned below: 1. Superhero themes A superhero party is incomplete without centralizing\n",
       "it with a theme. So which theme is in your mind? There are thousands of superhero characters you can pick to plan a\n",
       "...\n",
       "\n",
       "[Planning a Superhero Themed Party: Ideas and \n",
       "Inspiration](https://partywhammy.com/planning-a-superhero-themed-party-ideas-and-inspiration/)\n",
       "When planing a superhero party , there are lots of great sources of inspiration out there - from websites and \n",
       "magazines to family and friends. Social media is also an invaluable source of ideas ; join related groups on \n",
       "Facebook or browse Pinterest for some great tips on how to make your party stand out.\n",
       "\n",
       "[Simple Ideas for an Epic Superhero Birthday Party - GigSalad](https://www.gigsalad.com/blog/superhero-party/)\n",
       "Superhero Party Decor Transform your party space into a scene straight out of a comic book with bold colors, \n",
       "dynamic designs, and heroic details. Using interactive elements and themed backdrops, these superhero -worthy \n",
       "decorations will immerse your guests in an unforgettable adventure! Check out our Pinterest board for decor ideas \n",
       "and more.\n",
       "\n",
       "[30+ Easy Superhero Party Ideas You Can Perfect on a \n",
       "Budget](https://www.frugalcouponliving.com/superhero-party-ideas/)\n",
       "Host a superhero-themed party that is sure to be a hit without a ton of time, money, or effort. Enjoy the best DIY \n",
       "superhero party ideas , recipes, décor, &amp; games to make party planning easy-peasy.\n",
       "\n",
       "</pre>\n"
      ],
      "text/plain": [
       "\u001b[1mExecution logs:\u001b[0m\n",
       "## Search Results\n",
       "\n",
       "[Superhero Theme Party Ideas for Adults to Create an Unforgettable \n",
       "...](https://partyideaszone.com/superhero-theme-party-ideas-for-adults/)\n",
       "Unleash your inner hero with our ultimate guide to hosting an unforgettable superhero-themed party for adults! \n",
       "Explore creative costume ideas , vibrant decorations, and mouthwatering themed snacks and drinks. Engage your \n",
       "guests with fun activities like trivia, costume contests, and movie screenings. Follow our planning tips to create \n",
       "a cohesive, memorable experience that your friends will rave ...\n",
       "\n",
       "[25 Superhero Party Ideas For All Ages](https://playideas.com/25-superhero-party-ideas/)\n",
       "They are perfect for your next superhero-themed food and party ! We have found some amazingly fantastic party ideas\n",
       "from treats, decor, crafts to souvenirs for different sorts of superheroes, from Batman, Super-Man, the Hulk, Iron \n",
       "Man, and even villains!. No matter who your favorite superhero is we've got some great party tips for you!\n",
       "\n",
       "[24 Superhero Party Ideas that Will Make You Wish You Were a \n",
       "Kid](https://howdoesshe.com/24-incredible-superhero-party-ideas-that-will-make-you-wish-you-were-a-kid-again/)\n",
       "24 incredible superhero party ideas that kids will love and make adults wish they were kids again. From decor ideas\n",
       ", party foods, and costume ideas to superhero-themed activities, we have all of your party needs covered.\n",
       "\n",
       "[Superhero-Themed Party Ideas & Decorations | \n",
       "CORKCICLE.](https://corkcicle.com/blogs/lifestyle/marvel-themed-party-ideas)\n",
       "Marvel™ Superhero-Themed Party Ideas Superhero-themed parties have become a beloved trend, offering an exciting way\n",
       "to celebrate special occasions. The thrill of donning capes and masks, the vibrant decorations, and the heroic \n",
       "atmosphere make these parties a hit among kids and adults alike.\n",
       "\n",
       "[Superhero Party Ideas | PartyWizz Blog](https://partywizz.com/blog/family/party-ideas/superhero-party-ideas/)\n",
       "Use superhero-themed paper party bags - Amazon have a good selection - or keep costs down with plain paper bags and\n",
       "decorate/personalise them yourself. This is a task you could definitely delegate to your own small superhero !\n",
       "\n",
       "[By a Pro: Superhero Party Ideas by a Professional](https://party-ideas-by-a-pro.com/party-themes/superhero-party/)\n",
       "The Superhero party ideas below were mainly designed with a kid's birthday in mind. However, a lot of the ideas \n",
       "could easily be adapted for an adult costume party so I've also included some tips and supplies specifically for \n",
       "adults—such as cocktail recipes. The great thing about throwing a generic Superhero party is that there are lots of\n",
       "elements that are common to all comic book heroes ...\n",
       "\n",
       "[10 Best Superhero Birthday Party Ideas To Plan in \n",
       "2025](https://www.birthdayinspire.com/superhero-birthday-party-ideas/)\n",
       "Here i have tried my best to cover everything you need to know to plan a perfect superhero birthday party . So stay\n",
       "tuned and enjoy the ideas mentioned below: 1. Superhero themes A superhero party is incomplete without centralizing\n",
       "it with a theme. So which theme is in your mind? There are thousands of superhero characters you can pick to plan a\n",
       "...\n",
       "\n",
       "[Planning a Superhero Themed Party: Ideas and \n",
       "Inspiration](https://partywhammy.com/planning-a-superhero-themed-party-ideas-and-inspiration/)\n",
       "When planing a superhero party , there are lots of great sources of inspiration out there - from websites and \n",
       "magazines to family and friends. Social media is also an invaluable source of ideas ; join related groups on \n",
       "Facebook or browse Pinterest for some great tips on how to make your party stand out.\n",
       "\n",
       "[Simple Ideas for an Epic Superhero Birthday Party - GigSalad](https://www.gigsalad.com/blog/superhero-party/)\n",
       "Superhero Party Decor Transform your party space into a scene straight out of a comic book with bold colors, \n",
       "dynamic designs, and heroic details. Using interactive elements and themed backdrops, these superhero -worthy \n",
       "decorations will immerse your guests in an unforgettable adventure! Check out our Pinterest board for decor ideas \n",
       "and more.\n",
       "\n",
       "[30+ Easy Superhero Party Ideas You Can Perfect on a \n",
       "Budget](https://www.frugalcouponliving.com/superhero-party-ideas/)\n",
       "Host a superhero-themed party that is sure to be a hit without a ton of time, money, or effort. Enjoy the best DIY \n",
       "superhero party ideas , recipes, décor, & games to make party planning easy-peasy.\n",
       "\n"
      ]
     },
     "metadata": {},
     "output_type": "display_data"
    },
    {
     "data": {
      "text/html": [
       "<pre style=\"white-space:pre;overflow-x:auto;line-height:normal;font-family:Menlo,'DejaVu Sans Mono',consolas,'Courier New',monospace\"><span style=\"color: #800000; text-decoration-color: #800000; font-weight: bold\">Code parsing failed on line 15 due to: IndentationError</span>\n",
       "<span style=\"color: #800000; text-decoration-color: #800000; font-weight: bold\">print(\"\\nObserving information from the link:\", link)</span>\n",
       "<span style=\"color: #800000; text-decoration-color: #800000; font-weight: bold\"> ^</span>\n",
       "<span style=\"color: #800000; text-decoration-color: #800000; font-weight: bold\">Error: expected an indented block after 'for' statement on line 14 (&lt;unknown&gt;, line 15)</span>\n",
       "</pre>\n"
      ],
      "text/plain": [
       "\u001b[1;31mCode parsing failed on line 15 due to: IndentationError\u001b[0m\n",
       "\u001b[1;31mprint(\"\\nObserving information from the link:\", link)\u001b[0m\n",
       "\u001b[1;31m ^\u001b[0m\n",
       "\u001b[1;31mError: expected an indented block after 'for' statement on line 14 (<unknown>, line 15)\u001b[0m\n"
      ]
     },
     "metadata": {},
     "output_type": "display_data"
    },
    {
     "data": {
      "text/html": [
       "<pre style=\"white-space:pre;overflow-x:auto;line-height:normal;font-family:Menlo,'DejaVu Sans Mono',consolas,'Courier New',monospace\"><span style=\"color: #7f7f7f; text-decoration-color: #7f7f7f\">[Step 4: Duration 8.81 seconds| Input tokens: 17,823 | Output tokens: 963]</span>\n",
       "</pre>\n"
      ],
      "text/plain": [
       "\u001b[2m[Step 4: Duration 8.81 seconds| Input tokens: 17,823 | Output tokens: 963]\u001b[0m\n"
      ]
     },
     "metadata": {},
     "output_type": "display_data"
    },
    {
     "data": {
      "text/html": [
       "<pre style=\"white-space:pre;overflow-x:auto;line-height:normal;font-family:Menlo,'DejaVu Sans Mono',consolas,'Courier New',monospace\"><span style=\"color: #d4b702; text-decoration-color: #d4b702\">━━━━━━━━━━━━━━━━━━━━━━━━━━━━━━━━━━━━━━━━━━━━━━━━━━━━━ </span><span style=\"font-weight: bold\">Step 5</span><span style=\"color: #d4b702; text-decoration-color: #d4b702\"> ━━━━━━━━━━━━━━━━━━━━━━━━━━━━━━━━━━━━━━━━━━━━━━━━━━━━━━</span>\n",
       "</pre>\n"
      ],
      "text/plain": [
       "\u001b[38;2;212;183;2m━━━━━━━━━━━━━━━━━━━━━━━━━━━━━━━━━━━━━━━━━━━━━━━━━━━━━ \u001b[0m\u001b[1mStep 5\u001b[0m\u001b[38;2;212;183;2m ━━━━━━━━━━━━━━━━━━━━━━━━━━━━━━━━━━━━━━━━━━━━━━━━━━━━━━\u001b[0m\n"
      ]
     },
     "metadata": {},
     "output_type": "display_data"
    },
    {
     "data": {
      "text/html": [
       "<pre style=\"white-space:pre;overflow-x:auto;line-height:normal;font-family:Menlo,'DejaVu Sans Mono',consolas,'Courier New',monospace\"> ─ <span style=\"font-weight: bold\">Executing parsed code:</span> ──────────────────────────────────────────────────────────────────────────────────────── \n",
       "  <span style=\"color: #f8f8f2; text-decoration-color: #f8f8f2; background-color: #272822\">useful_links </span><span style=\"color: #ff4689; text-decoration-color: #ff4689; background-color: #272822\">=</span><span style=\"color: #f8f8f2; text-decoration-color: #f8f8f2; background-color: #272822\"> [</span><span style=\"background-color: #272822\">                                                                                               </span>  \n",
       "  <span style=\"color: #e6db74; text-decoration-color: #e6db74; background-color: #272822\">\"https://partyideaszone.com/superhero-theme-party-ideas-for-adults/\"</span><span style=\"color: #f8f8f2; text-decoration-color: #f8f8f2; background-color: #272822\">,</span><span style=\"background-color: #272822\">                                          </span>  \n",
       "  <span style=\"color: #e6db74; text-decoration-color: #e6db74; background-color: #272822\">\"https://playideas.com/25-superhero-party-ideas/\"</span><span style=\"color: #f8f8f2; text-decoration-color: #f8f8f2; background-color: #272822\">,</span><span style=\"background-color: #272822\">                                                             </span>  \n",
       "  <span style=\"color: #e6db74; text-decoration-color: #e6db74; background-color: #272822\">\"https://howdoesshe.com/24-incredible-superhero-party-ideas-that-will-make-you-wish-you-were-a-kid-again/\"</span><span style=\"color: #f8f8f2; text-decoration-color: #f8f8f2; background-color: #272822\">,</span><span style=\"background-color: #272822\">    </span>  \n",
       "  <span style=\"color: #e6db74; text-decoration-color: #e6db74; background-color: #272822\">\"https://corkcicle.com/blogs/lifestyle/marvel-themed-party-ideas\"</span><span style=\"color: #f8f8f2; text-decoration-color: #f8f8f2; background-color: #272822\">,</span><span style=\"background-color: #272822\">                                             </span>  \n",
       "  <span style=\"color: #e6db74; text-decoration-color: #e6db74; background-color: #272822\">\"https://partywizz.com/blog/family/party-ideas/superhero-party-ideas/\"</span><span style=\"color: #f8f8f2; text-decoration-color: #f8f8f2; background-color: #272822\">,</span><span style=\"background-color: #272822\">                                        </span>  \n",
       "  <span style=\"color: #e6db74; text-decoration-color: #e6db74; background-color: #272822\">\"https://party-ideas-by-a-pro.com/party-themes/superhero-party/\"</span><span style=\"color: #f8f8f2; text-decoration-color: #f8f8f2; background-color: #272822\">,</span><span style=\"background-color: #272822\">                                              </span>  \n",
       "  <span style=\"color: #e6db74; text-decoration-color: #e6db74; background-color: #272822\">\"https://www.birthdayinspire.com/superhero-birthday-party-ideas/\"</span><span style=\"color: #f8f8f2; text-decoration-color: #f8f8f2; background-color: #272822\">,</span><span style=\"background-color: #272822\">                                             </span>  \n",
       "  <span style=\"color: #e6db74; text-decoration-color: #e6db74; background-color: #272822\">\"https://partywhammy.com/planning-a-superhero-themed-party-ideas-and-inspiration/\"</span><span style=\"color: #f8f8f2; text-decoration-color: #f8f8f2; background-color: #272822\">,</span><span style=\"background-color: #272822\">                            </span>  \n",
       "  <span style=\"color: #e6db74; text-decoration-color: #e6db74; background-color: #272822\">\"https://www.gigsalad.com/blog/superhero-party/\"</span><span style=\"color: #f8f8f2; text-decoration-color: #f8f8f2; background-color: #272822\">,</span><span style=\"background-color: #272822\">                                                              </span>  \n",
       "  <span style=\"color: #e6db74; text-decoration-color: #e6db74; background-color: #272822\">\"https://www.frugalcouponliving.com/superhero-party-ideas/\"</span><span style=\"background-color: #272822\">                                                    </span>  \n",
       "  <span style=\"color: #f8f8f2; text-decoration-color: #f8f8f2; background-color: #272822\">]</span><span style=\"background-color: #272822\">                                                                                                              </span>  \n",
       "  <span style=\"background-color: #272822\">                                                                                                               </span>  \n",
       "  <span style=\"color: #66d9ef; text-decoration-color: #66d9ef; background-color: #272822\">for</span><span style=\"color: #f8f8f2; text-decoration-color: #f8f8f2; background-color: #272822\"> link </span><span style=\"color: #ff4689; text-decoration-color: #ff4689; background-color: #272822\">in</span><span style=\"color: #f8f8f2; text-decoration-color: #f8f8f2; background-color: #272822\"> useful_links:</span><span style=\"background-color: #272822\">                                                                                      </span>  \n",
       "  <span style=\"color: #f8f8f2; text-decoration-color: #f8f8f2; background-color: #272822\">print(</span><span style=\"color: #e6db74; text-decoration-color: #e6db74; background-color: #272822\">\"</span><span style=\"color: #ae81ff; text-decoration-color: #ae81ff; background-color: #272822\">\\n</span><span style=\"color: #e6db74; text-decoration-color: #e6db74; background-color: #272822\">Observing information from the link:\"</span><span style=\"color: #f8f8f2; text-decoration-color: #f8f8f2; background-color: #272822\">, link)</span><span style=\"background-color: #272822\">                                                          </span>  \n",
       "  <span style=\"color: #f8f8f2; text-decoration-color: #f8f8f2; background-color: #272822\">visited_page </span><span style=\"color: #ff4689; text-decoration-color: #ff4689; background-color: #272822\">=</span><span style=\"color: #f8f8f2; text-decoration-color: #f8f8f2; background-color: #272822\"> visit_webpage(url</span><span style=\"color: #ff4689; text-decoration-color: #ff4689; background-color: #272822\">=</span><span style=\"color: #f8f8f2; text-decoration-color: #f8f8f2; background-color: #272822\">link)</span><span style=\"background-color: #272822\">                                                                         </span>  \n",
       "  <span style=\"color: #f8f8f2; text-decoration-color: #f8f8f2; background-color: #272822\">print(</span><span style=\"color: #e6db74; text-decoration-color: #e6db74; background-color: #272822\">\"Page visit result:\"</span><span style=\"color: #f8f8f2; text-decoration-color: #f8f8f2; background-color: #272822\">, visited_page)</span><span style=\"background-color: #272822\">                                                                      </span>  \n",
       " ───────────────────────────────────────────────────────────────────────────────────────────────────────────────── \n",
       "</pre>\n"
      ],
      "text/plain": [
       " ─ \u001b[1mExecuting parsed code:\u001b[0m ──────────────────────────────────────────────────────────────────────────────────────── \n",
       "  \u001b[38;2;248;248;242;48;2;39;40;34museful_links\u001b[0m\u001b[38;2;248;248;242;48;2;39;40;34m \u001b[0m\u001b[38;2;255;70;137;48;2;39;40;34m=\u001b[0m\u001b[38;2;248;248;242;48;2;39;40;34m \u001b[0m\u001b[38;2;248;248;242;48;2;39;40;34m[\u001b[0m\u001b[48;2;39;40;34m                                                                                               \u001b[0m  \n",
       "  \u001b[38;2;230;219;116;48;2;39;40;34m\"\u001b[0m\u001b[38;2;230;219;116;48;2;39;40;34mhttps://partyideaszone.com/superhero-theme-party-ideas-for-adults/\u001b[0m\u001b[38;2;230;219;116;48;2;39;40;34m\"\u001b[0m\u001b[38;2;248;248;242;48;2;39;40;34m,\u001b[0m\u001b[48;2;39;40;34m                                          \u001b[0m  \n",
       "  \u001b[38;2;230;219;116;48;2;39;40;34m\"\u001b[0m\u001b[38;2;230;219;116;48;2;39;40;34mhttps://playideas.com/25-superhero-party-ideas/\u001b[0m\u001b[38;2;230;219;116;48;2;39;40;34m\"\u001b[0m\u001b[38;2;248;248;242;48;2;39;40;34m,\u001b[0m\u001b[48;2;39;40;34m                                                             \u001b[0m  \n",
       "  \u001b[38;2;230;219;116;48;2;39;40;34m\"\u001b[0m\u001b[38;2;230;219;116;48;2;39;40;34mhttps://howdoesshe.com/24-incredible-superhero-party-ideas-that-will-make-you-wish-you-were-a-kid-again/\u001b[0m\u001b[38;2;230;219;116;48;2;39;40;34m\"\u001b[0m\u001b[38;2;248;248;242;48;2;39;40;34m,\u001b[0m\u001b[48;2;39;40;34m    \u001b[0m  \n",
       "  \u001b[38;2;230;219;116;48;2;39;40;34m\"\u001b[0m\u001b[38;2;230;219;116;48;2;39;40;34mhttps://corkcicle.com/blogs/lifestyle/marvel-themed-party-ideas\u001b[0m\u001b[38;2;230;219;116;48;2;39;40;34m\"\u001b[0m\u001b[38;2;248;248;242;48;2;39;40;34m,\u001b[0m\u001b[48;2;39;40;34m                                             \u001b[0m  \n",
       "  \u001b[38;2;230;219;116;48;2;39;40;34m\"\u001b[0m\u001b[38;2;230;219;116;48;2;39;40;34mhttps://partywizz.com/blog/family/party-ideas/superhero-party-ideas/\u001b[0m\u001b[38;2;230;219;116;48;2;39;40;34m\"\u001b[0m\u001b[38;2;248;248;242;48;2;39;40;34m,\u001b[0m\u001b[48;2;39;40;34m                                        \u001b[0m  \n",
       "  \u001b[38;2;230;219;116;48;2;39;40;34m\"\u001b[0m\u001b[38;2;230;219;116;48;2;39;40;34mhttps://party-ideas-by-a-pro.com/party-themes/superhero-party/\u001b[0m\u001b[38;2;230;219;116;48;2;39;40;34m\"\u001b[0m\u001b[38;2;248;248;242;48;2;39;40;34m,\u001b[0m\u001b[48;2;39;40;34m                                              \u001b[0m  \n",
       "  \u001b[38;2;230;219;116;48;2;39;40;34m\"\u001b[0m\u001b[38;2;230;219;116;48;2;39;40;34mhttps://www.birthdayinspire.com/superhero-birthday-party-ideas/\u001b[0m\u001b[38;2;230;219;116;48;2;39;40;34m\"\u001b[0m\u001b[38;2;248;248;242;48;2;39;40;34m,\u001b[0m\u001b[48;2;39;40;34m                                             \u001b[0m  \n",
       "  \u001b[38;2;230;219;116;48;2;39;40;34m\"\u001b[0m\u001b[38;2;230;219;116;48;2;39;40;34mhttps://partywhammy.com/planning-a-superhero-themed-party-ideas-and-inspiration/\u001b[0m\u001b[38;2;230;219;116;48;2;39;40;34m\"\u001b[0m\u001b[38;2;248;248;242;48;2;39;40;34m,\u001b[0m\u001b[48;2;39;40;34m                            \u001b[0m  \n",
       "  \u001b[38;2;230;219;116;48;2;39;40;34m\"\u001b[0m\u001b[38;2;230;219;116;48;2;39;40;34mhttps://www.gigsalad.com/blog/superhero-party/\u001b[0m\u001b[38;2;230;219;116;48;2;39;40;34m\"\u001b[0m\u001b[38;2;248;248;242;48;2;39;40;34m,\u001b[0m\u001b[48;2;39;40;34m                                                              \u001b[0m  \n",
       "  \u001b[38;2;230;219;116;48;2;39;40;34m\"\u001b[0m\u001b[38;2;230;219;116;48;2;39;40;34mhttps://www.frugalcouponliving.com/superhero-party-ideas/\u001b[0m\u001b[38;2;230;219;116;48;2;39;40;34m\"\u001b[0m\u001b[48;2;39;40;34m                                                    \u001b[0m  \n",
       "  \u001b[38;2;248;248;242;48;2;39;40;34m]\u001b[0m\u001b[48;2;39;40;34m                                                                                                              \u001b[0m  \n",
       "  \u001b[48;2;39;40;34m                                                                                                               \u001b[0m  \n",
       "  \u001b[38;2;102;217;239;48;2;39;40;34mfor\u001b[0m\u001b[38;2;248;248;242;48;2;39;40;34m \u001b[0m\u001b[38;2;248;248;242;48;2;39;40;34mlink\u001b[0m\u001b[38;2;248;248;242;48;2;39;40;34m \u001b[0m\u001b[38;2;255;70;137;48;2;39;40;34min\u001b[0m\u001b[38;2;248;248;242;48;2;39;40;34m \u001b[0m\u001b[38;2;248;248;242;48;2;39;40;34museful_links\u001b[0m\u001b[38;2;248;248;242;48;2;39;40;34m:\u001b[0m\u001b[48;2;39;40;34m                                                                                      \u001b[0m  \n",
       "  \u001b[38;2;248;248;242;48;2;39;40;34mprint\u001b[0m\u001b[38;2;248;248;242;48;2;39;40;34m(\u001b[0m\u001b[38;2;230;219;116;48;2;39;40;34m\"\u001b[0m\u001b[38;2;174;129;255;48;2;39;40;34m\\n\u001b[0m\u001b[38;2;230;219;116;48;2;39;40;34mObserving information from the link:\u001b[0m\u001b[38;2;230;219;116;48;2;39;40;34m\"\u001b[0m\u001b[38;2;248;248;242;48;2;39;40;34m,\u001b[0m\u001b[38;2;248;248;242;48;2;39;40;34m \u001b[0m\u001b[38;2;248;248;242;48;2;39;40;34mlink\u001b[0m\u001b[38;2;248;248;242;48;2;39;40;34m)\u001b[0m\u001b[48;2;39;40;34m                                                          \u001b[0m  \n",
       "  \u001b[38;2;248;248;242;48;2;39;40;34mvisited_page\u001b[0m\u001b[38;2;248;248;242;48;2;39;40;34m \u001b[0m\u001b[38;2;255;70;137;48;2;39;40;34m=\u001b[0m\u001b[38;2;248;248;242;48;2;39;40;34m \u001b[0m\u001b[38;2;248;248;242;48;2;39;40;34mvisit_webpage\u001b[0m\u001b[38;2;248;248;242;48;2;39;40;34m(\u001b[0m\u001b[38;2;248;248;242;48;2;39;40;34murl\u001b[0m\u001b[38;2;255;70;137;48;2;39;40;34m=\u001b[0m\u001b[38;2;248;248;242;48;2;39;40;34mlink\u001b[0m\u001b[38;2;248;248;242;48;2;39;40;34m)\u001b[0m\u001b[48;2;39;40;34m                                                                         \u001b[0m  \n",
       "  \u001b[38;2;248;248;242;48;2;39;40;34mprint\u001b[0m\u001b[38;2;248;248;242;48;2;39;40;34m(\u001b[0m\u001b[38;2;230;219;116;48;2;39;40;34m\"\u001b[0m\u001b[38;2;230;219;116;48;2;39;40;34mPage visit result:\u001b[0m\u001b[38;2;230;219;116;48;2;39;40;34m\"\u001b[0m\u001b[38;2;248;248;242;48;2;39;40;34m,\u001b[0m\u001b[38;2;248;248;242;48;2;39;40;34m \u001b[0m\u001b[38;2;248;248;242;48;2;39;40;34mvisited_page\u001b[0m\u001b[38;2;248;248;242;48;2;39;40;34m)\u001b[0m\u001b[48;2;39;40;34m                                                                      \u001b[0m  \n",
       " ───────────────────────────────────────────────────────────────────────────────────────────────────────────────── \n"
      ]
     },
     "metadata": {},
     "output_type": "display_data"
    },
    {
     "data": {
      "text/html": [
       "<pre style=\"white-space:pre;overflow-x:auto;line-height:normal;font-family:Menlo,'DejaVu Sans Mono',consolas,'Courier New',monospace\"><span style=\"font-weight: bold\">Execution logs:</span>\n",
       "## Search Results\n",
       "\n",
       "[Superhero Theme Party Ideas for Adults to Create an Unforgettable \n",
       "...](https://partyideaszone.com/superhero-theme-party-ideas-for-adults/)\n",
       "Unleash your inner hero with our ultimate guide to hosting an unforgettable superhero-themed party for adults! \n",
       "Explore creative costume ideas , vibrant decorations, and mouthwatering themed snacks and drinks. Engage your \n",
       "guests with fun activities like trivia, costume contests, and movie screenings. Follow our planning tips to create \n",
       "a cohesive, memorable experience that your friends will rave ...\n",
       "\n",
       "[25 Superhero Party Ideas For All Ages](https://playideas.com/25-superhero-party-ideas/)\n",
       "They are perfect for your next superhero-themed food and party ! We have found some amazingly fantastic party ideas\n",
       "from treats, decor, crafts to souvenirs for different sorts of superheroes, from Batman, Super-Man, the Hulk, Iron \n",
       "Man, and even villains!. No matter who your favorite superhero is we've got some great party tips for you!\n",
       "\n",
       "[24 Superhero Party Ideas that Will Make You Wish You Were a \n",
       "Kid](https://howdoesshe.com/24-incredible-superhero-party-ideas-that-will-make-you-wish-you-were-a-kid-again/)\n",
       "24 incredible superhero party ideas that kids will love and make adults wish they were kids again. From decor ideas\n",
       ", party foods, and costume ideas to superhero-themed activities, we have all of your party needs covered.\n",
       "\n",
       "[Superhero-Themed Party Ideas &amp; Decorations | \n",
       "CORKCICLE.](https://corkcicle.com/blogs/lifestyle/marvel-themed-party-ideas)\n",
       "Marvel™ Superhero-Themed Party Ideas Superhero-themed parties have become a beloved trend, offering an exciting way\n",
       "to celebrate special occasions. The thrill of donning capes and masks, the vibrant decorations, and the heroic \n",
       "atmosphere make these parties a hit among kids and adults alike.\n",
       "\n",
       "[Superhero Party Ideas | PartyWizz Blog](https://partywizz.com/blog/family/party-ideas/superhero-party-ideas/)\n",
       "Use superhero-themed paper party bags - Amazon have a good selection - or keep costs down with plain paper bags and\n",
       "decorate/personalise them yourself. This is a task you could definitely delegate to your own small superhero !\n",
       "\n",
       "[By a Pro: Superhero Party Ideas by a Professional](https://party-ideas-by-a-pro.com/party-themes/superhero-party/)\n",
       "The Superhero party ideas below were mainly designed with a kid's birthday in mind. However, a lot of the ideas \n",
       "could easily be adapted for an adult costume party so I've also included some tips and supplies specifically for \n",
       "adults—such as cocktail recipes. The great thing about throwing a generic Superhero party is that there are lots of\n",
       "elements that are common to all comic book heroes ...\n",
       "\n",
       "[10 Best Superhero Birthday Party Ideas To Plan in \n",
       "2025](https://www.birthdayinspire.com/superhero-birthday-party-ideas/)\n",
       "Here i have tried my best to cover everything you need to know to plan a perfect superhero birthday party . So stay\n",
       "tuned and enjoy the ideas mentioned below: 1. Superhero themes A superhero party is incomplete without centralizing\n",
       "it with a theme. So which theme is in your mind? There are thousands of superhero characters you can pick to plan a\n",
       "...\n",
       "\n",
       "[Planning a Superhero Themed Party: Ideas and \n",
       "Inspiration](https://partywhammy.com/planning-a-superhero-themed-party-ideas-and-inspiration/)\n",
       "When planing a superhero party , there are lots of great sources of inspiration out there - from websites and \n",
       "magazines to family and friends. Social media is also an invaluable source of ideas ; join related groups on \n",
       "Facebook or browse Pinterest for some great tips on how to make your party stand out.\n",
       "\n",
       "[Simple Ideas for an Epic Superhero Birthday Party - GigSalad](https://www.gigsalad.com/blog/superhero-party/)\n",
       "Superhero Party Decor Transform your party space into a scene straight out of a comic book with bold colors, \n",
       "dynamic designs, and heroic details. Using interactive elements and themed backdrops, these superhero -worthy \n",
       "decorations will immerse your guests in an unforgettable adventure! Check out our Pinterest board for decor ideas \n",
       "and more.\n",
       "\n",
       "[30+ Easy Superhero Party Ideas You Can Perfect on a \n",
       "Budget](https://www.frugalcouponliving.com/superhero-party-ideas/)\n",
       "Host a superhero-themed party that is sure to be a hit without a ton of time, money, or effort. Enjoy the best DIY \n",
       "superhero party ideas , recipes, décor, &amp; games to make party planning easy-peasy.\n",
       "\n",
       "</pre>\n"
      ],
      "text/plain": [
       "\u001b[1mExecution logs:\u001b[0m\n",
       "## Search Results\n",
       "\n",
       "[Superhero Theme Party Ideas for Adults to Create an Unforgettable \n",
       "...](https://partyideaszone.com/superhero-theme-party-ideas-for-adults/)\n",
       "Unleash your inner hero with our ultimate guide to hosting an unforgettable superhero-themed party for adults! \n",
       "Explore creative costume ideas , vibrant decorations, and mouthwatering themed snacks and drinks. Engage your \n",
       "guests with fun activities like trivia, costume contests, and movie screenings. Follow our planning tips to create \n",
       "a cohesive, memorable experience that your friends will rave ...\n",
       "\n",
       "[25 Superhero Party Ideas For All Ages](https://playideas.com/25-superhero-party-ideas/)\n",
       "They are perfect for your next superhero-themed food and party ! We have found some amazingly fantastic party ideas\n",
       "from treats, decor, crafts to souvenirs for different sorts of superheroes, from Batman, Super-Man, the Hulk, Iron \n",
       "Man, and even villains!. No matter who your favorite superhero is we've got some great party tips for you!\n",
       "\n",
       "[24 Superhero Party Ideas that Will Make You Wish You Were a \n",
       "Kid](https://howdoesshe.com/24-incredible-superhero-party-ideas-that-will-make-you-wish-you-were-a-kid-again/)\n",
       "24 incredible superhero party ideas that kids will love and make adults wish they were kids again. From decor ideas\n",
       ", party foods, and costume ideas to superhero-themed activities, we have all of your party needs covered.\n",
       "\n",
       "[Superhero-Themed Party Ideas & Decorations | \n",
       "CORKCICLE.](https://corkcicle.com/blogs/lifestyle/marvel-themed-party-ideas)\n",
       "Marvel™ Superhero-Themed Party Ideas Superhero-themed parties have become a beloved trend, offering an exciting way\n",
       "to celebrate special occasions. The thrill of donning capes and masks, the vibrant decorations, and the heroic \n",
       "atmosphere make these parties a hit among kids and adults alike.\n",
       "\n",
       "[Superhero Party Ideas | PartyWizz Blog](https://partywizz.com/blog/family/party-ideas/superhero-party-ideas/)\n",
       "Use superhero-themed paper party bags - Amazon have a good selection - or keep costs down with plain paper bags and\n",
       "decorate/personalise them yourself. This is a task you could definitely delegate to your own small superhero !\n",
       "\n",
       "[By a Pro: Superhero Party Ideas by a Professional](https://party-ideas-by-a-pro.com/party-themes/superhero-party/)\n",
       "The Superhero party ideas below were mainly designed with a kid's birthday in mind. However, a lot of the ideas \n",
       "could easily be adapted for an adult costume party so I've also included some tips and supplies specifically for \n",
       "adults—such as cocktail recipes. The great thing about throwing a generic Superhero party is that there are lots of\n",
       "elements that are common to all comic book heroes ...\n",
       "\n",
       "[10 Best Superhero Birthday Party Ideas To Plan in \n",
       "2025](https://www.birthdayinspire.com/superhero-birthday-party-ideas/)\n",
       "Here i have tried my best to cover everything you need to know to plan a perfect superhero birthday party . So stay\n",
       "tuned and enjoy the ideas mentioned below: 1. Superhero themes A superhero party is incomplete without centralizing\n",
       "it with a theme. So which theme is in your mind? There are thousands of superhero characters you can pick to plan a\n",
       "...\n",
       "\n",
       "[Planning a Superhero Themed Party: Ideas and \n",
       "Inspiration](https://partywhammy.com/planning-a-superhero-themed-party-ideas-and-inspiration/)\n",
       "When planing a superhero party , there are lots of great sources of inspiration out there - from websites and \n",
       "magazines to family and friends. Social media is also an invaluable source of ideas ; join related groups on \n",
       "Facebook or browse Pinterest for some great tips on how to make your party stand out.\n",
       "\n",
       "[Simple Ideas for an Epic Superhero Birthday Party - GigSalad](https://www.gigsalad.com/blog/superhero-party/)\n",
       "Superhero Party Decor Transform your party space into a scene straight out of a comic book with bold colors, \n",
       "dynamic designs, and heroic details. Using interactive elements and themed backdrops, these superhero -worthy \n",
       "decorations will immerse your guests in an unforgettable adventure! Check out our Pinterest board for decor ideas \n",
       "and more.\n",
       "\n",
       "[30+ Easy Superhero Party Ideas You Can Perfect on a \n",
       "Budget](https://www.frugalcouponliving.com/superhero-party-ideas/)\n",
       "Host a superhero-themed party that is sure to be a hit without a ton of time, money, or effort. Enjoy the best DIY \n",
       "superhero party ideas , recipes, décor, & games to make party planning easy-peasy.\n",
       "\n"
      ]
     },
     "metadata": {},
     "output_type": "display_data"
    },
    {
     "data": {
      "text/html": [
       "<pre style=\"white-space:pre;overflow-x:auto;line-height:normal;font-family:Menlo,'DejaVu Sans Mono',consolas,'Courier New',monospace\"><span style=\"color: #800000; text-decoration-color: #800000; font-weight: bold\">Code parsing failed on line 15 due to: IndentationError</span>\n",
       "<span style=\"color: #800000; text-decoration-color: #800000; font-weight: bold\">print(\"\\nObserving information from the link:\", link)</span>\n",
       "<span style=\"color: #800000; text-decoration-color: #800000; font-weight: bold\"> ^</span>\n",
       "<span style=\"color: #800000; text-decoration-color: #800000; font-weight: bold\">Error: expected an indented block after 'for' statement on line 14 (&lt;unknown&gt;, line 15)</span>\n",
       "</pre>\n"
      ],
      "text/plain": [
       "\u001b[1;31mCode parsing failed on line 15 due to: IndentationError\u001b[0m\n",
       "\u001b[1;31mprint(\"\\nObserving information from the link:\", link)\u001b[0m\n",
       "\u001b[1;31m ^\u001b[0m\n",
       "\u001b[1;31mError: expected an indented block after 'for' statement on line 14 (<unknown>, line 15)\u001b[0m\n"
      ]
     },
     "metadata": {},
     "output_type": "display_data"
    },
    {
     "data": {
      "text/html": [
       "<pre style=\"white-space:pre;overflow-x:auto;line-height:normal;font-family:Menlo,'DejaVu Sans Mono',consolas,'Courier New',monospace\"><span style=\"color: #7f7f7f; text-decoration-color: #7f7f7f\">[Step 5: Duration 8.78 seconds| Input tokens: 26,800 | Output tokens: 1,362]</span>\n",
       "</pre>\n"
      ],
      "text/plain": [
       "\u001b[2m[Step 5: Duration 8.78 seconds| Input tokens: 26,800 | Output tokens: 1,362]\u001b[0m\n"
      ]
     },
     "metadata": {},
     "output_type": "display_data"
    },
    {
     "data": {
      "text/html": [
       "<pre style=\"white-space:pre;overflow-x:auto;line-height:normal;font-family:Menlo,'DejaVu Sans Mono',consolas,'Courier New',monospace\"><span style=\"color: #d4b702; text-decoration-color: #d4b702\">━━━━━━━━━━━━━━━━━━━━━━━━━━━━━━━━━━━━━━━━━━━━━━━━━━━━━ </span><span style=\"font-weight: bold\">Step 6</span><span style=\"color: #d4b702; text-decoration-color: #d4b702\"> ━━━━━━━━━━━━━━━━━━━━━━━━━━━━━━━━━━━━━━━━━━━━━━━━━━━━━━</span>\n",
       "</pre>\n"
      ],
      "text/plain": [
       "\u001b[38;2;212;183;2m━━━━━━━━━━━━━━━━━━━━━━━━━━━━━━━━━━━━━━━━━━━━━━━━━━━━━ \u001b[0m\u001b[1mStep 6\u001b[0m\u001b[38;2;212;183;2m ━━━━━━━━━━━━━━━━━━━━━━━━━━━━━━━━━━━━━━━━━━━━━━━━━━━━━━\u001b[0m\n"
      ]
     },
     "metadata": {},
     "output_type": "display_data"
    },
    {
     "data": {
      "text/html": [
       "<pre style=\"white-space:pre;overflow-x:auto;line-height:normal;font-family:Menlo,'DejaVu Sans Mono',consolas,'Courier New',monospace\"> ─ <span style=\"font-weight: bold\">Executing parsed code:</span> ──────────────────────────────────────────────────────────────────────────────────────── \n",
       "  <span style=\"color: #f8f8f2; text-decoration-color: #f8f8f2; background-color: #272822\">current_link_index </span><span style=\"color: #ff4689; text-decoration-color: #ff4689; background-color: #272822\">=</span><span style=\"color: #f8f8f2; text-decoration-color: #f8f8f2; background-color: #272822\"> </span><span style=\"color: #ae81ff; text-decoration-color: #ae81ff; background-color: #272822\">0</span><span style=\"background-color: #272822\">                                                                                         </span>  \n",
       "  <span style=\"color: #66d9ef; text-decoration-color: #66d9ef; background-color: #272822\">while</span><span style=\"color: #f8f8f2; text-decoration-color: #f8f8f2; background-color: #272822\"> current_link_index </span><span style=\"color: #ff4689; text-decoration-color: #ff4689; background-color: #272822\">&lt;</span><span style=\"color: #f8f8f2; text-decoration-color: #f8f8f2; background-color: #272822\"> len(useful_links):</span><span style=\"background-color: #272822\">                                                                  </span>  \n",
       "  <span style=\"color: #f8f8f2; text-decoration-color: #f8f8f2; background-color: #272822\">link </span><span style=\"color: #ff4689; text-decoration-color: #ff4689; background-color: #272822\">=</span><span style=\"color: #f8f8f2; text-decoration-color: #f8f8f2; background-color: #272822\"> useful_links[current_link_index]</span><span style=\"background-color: #272822\">                                                                        </span>  \n",
       "  <span style=\"color: #f8f8f2; text-decoration-color: #f8f8f2; background-color: #272822\">print(</span><span style=\"color: #e6db74; text-decoration-color: #e6db74; background-color: #272822\">\"</span><span style=\"color: #ae81ff; text-decoration-color: #ae81ff; background-color: #272822\">\\n</span><span style=\"color: #e6db74; text-decoration-color: #e6db74; background-color: #272822\">Observing information from the link:\"</span><span style=\"color: #f8f8f2; text-decoration-color: #f8f8f2; background-color: #272822\">, link)</span><span style=\"background-color: #272822\">                                                          </span>  \n",
       "  <span style=\"color: #f8f8f2; text-decoration-color: #f8f8f2; background-color: #272822\">visited_page </span><span style=\"color: #ff4689; text-decoration-color: #ff4689; background-color: #272822\">=</span><span style=\"color: #f8f8f2; text-decoration-color: #f8f8f2; background-color: #272822\"> visit_webpage(url</span><span style=\"color: #ff4689; text-decoration-color: #ff4689; background-color: #272822\">=</span><span style=\"color: #f8f8f2; text-decoration-color: #f8f8f2; background-color: #272822\">link)</span><span style=\"background-color: #272822\">                                                                         </span>  \n",
       "  <span style=\"color: #f8f8f2; text-decoration-color: #f8f8f2; background-color: #272822\">print(</span><span style=\"color: #e6db74; text-decoration-color: #e6db74; background-color: #272822\">\"Page visit result:\"</span><span style=\"color: #f8f8f2; text-decoration-color: #f8f8f2; background-color: #272822\">, visited_page)</span><span style=\"background-color: #272822\">                                                                      </span>  \n",
       "  <span style=\"color: #f8f8f2; text-decoration-color: #f8f8f2; background-color: #272822\">current_link_index </span><span style=\"color: #ff4689; text-decoration-color: #ff4689; background-color: #272822\">+=</span><span style=\"color: #f8f8f2; text-decoration-color: #f8f8f2; background-color: #272822\"> </span><span style=\"color: #ae81ff; text-decoration-color: #ae81ff; background-color: #272822\">1</span><span style=\"background-color: #272822\">                                                                                        </span>  \n",
       " ───────────────────────────────────────────────────────────────────────────────────────────────────────────────── \n",
       "</pre>\n"
      ],
      "text/plain": [
       " ─ \u001b[1mExecuting parsed code:\u001b[0m ──────────────────────────────────────────────────────────────────────────────────────── \n",
       "  \u001b[38;2;248;248;242;48;2;39;40;34mcurrent_link_index\u001b[0m\u001b[38;2;248;248;242;48;2;39;40;34m \u001b[0m\u001b[38;2;255;70;137;48;2;39;40;34m=\u001b[0m\u001b[38;2;248;248;242;48;2;39;40;34m \u001b[0m\u001b[38;2;174;129;255;48;2;39;40;34m0\u001b[0m\u001b[48;2;39;40;34m                                                                                         \u001b[0m  \n",
       "  \u001b[38;2;102;217;239;48;2;39;40;34mwhile\u001b[0m\u001b[38;2;248;248;242;48;2;39;40;34m \u001b[0m\u001b[38;2;248;248;242;48;2;39;40;34mcurrent_link_index\u001b[0m\u001b[38;2;248;248;242;48;2;39;40;34m \u001b[0m\u001b[38;2;255;70;137;48;2;39;40;34m<\u001b[0m\u001b[38;2;248;248;242;48;2;39;40;34m \u001b[0m\u001b[38;2;248;248;242;48;2;39;40;34mlen\u001b[0m\u001b[38;2;248;248;242;48;2;39;40;34m(\u001b[0m\u001b[38;2;248;248;242;48;2;39;40;34museful_links\u001b[0m\u001b[38;2;248;248;242;48;2;39;40;34m)\u001b[0m\u001b[38;2;248;248;242;48;2;39;40;34m:\u001b[0m\u001b[48;2;39;40;34m                                                                  \u001b[0m  \n",
       "  \u001b[38;2;248;248;242;48;2;39;40;34mlink\u001b[0m\u001b[38;2;248;248;242;48;2;39;40;34m \u001b[0m\u001b[38;2;255;70;137;48;2;39;40;34m=\u001b[0m\u001b[38;2;248;248;242;48;2;39;40;34m \u001b[0m\u001b[38;2;248;248;242;48;2;39;40;34museful_links\u001b[0m\u001b[38;2;248;248;242;48;2;39;40;34m[\u001b[0m\u001b[38;2;248;248;242;48;2;39;40;34mcurrent_link_index\u001b[0m\u001b[38;2;248;248;242;48;2;39;40;34m]\u001b[0m\u001b[48;2;39;40;34m                                                                        \u001b[0m  \n",
       "  \u001b[38;2;248;248;242;48;2;39;40;34mprint\u001b[0m\u001b[38;2;248;248;242;48;2;39;40;34m(\u001b[0m\u001b[38;2;230;219;116;48;2;39;40;34m\"\u001b[0m\u001b[38;2;174;129;255;48;2;39;40;34m\\n\u001b[0m\u001b[38;2;230;219;116;48;2;39;40;34mObserving information from the link:\u001b[0m\u001b[38;2;230;219;116;48;2;39;40;34m\"\u001b[0m\u001b[38;2;248;248;242;48;2;39;40;34m,\u001b[0m\u001b[38;2;248;248;242;48;2;39;40;34m \u001b[0m\u001b[38;2;248;248;242;48;2;39;40;34mlink\u001b[0m\u001b[38;2;248;248;242;48;2;39;40;34m)\u001b[0m\u001b[48;2;39;40;34m                                                          \u001b[0m  \n",
       "  \u001b[38;2;248;248;242;48;2;39;40;34mvisited_page\u001b[0m\u001b[38;2;248;248;242;48;2;39;40;34m \u001b[0m\u001b[38;2;255;70;137;48;2;39;40;34m=\u001b[0m\u001b[38;2;248;248;242;48;2;39;40;34m \u001b[0m\u001b[38;2;248;248;242;48;2;39;40;34mvisit_webpage\u001b[0m\u001b[38;2;248;248;242;48;2;39;40;34m(\u001b[0m\u001b[38;2;248;248;242;48;2;39;40;34murl\u001b[0m\u001b[38;2;255;70;137;48;2;39;40;34m=\u001b[0m\u001b[38;2;248;248;242;48;2;39;40;34mlink\u001b[0m\u001b[38;2;248;248;242;48;2;39;40;34m)\u001b[0m\u001b[48;2;39;40;34m                                                                         \u001b[0m  \n",
       "  \u001b[38;2;248;248;242;48;2;39;40;34mprint\u001b[0m\u001b[38;2;248;248;242;48;2;39;40;34m(\u001b[0m\u001b[38;2;230;219;116;48;2;39;40;34m\"\u001b[0m\u001b[38;2;230;219;116;48;2;39;40;34mPage visit result:\u001b[0m\u001b[38;2;230;219;116;48;2;39;40;34m\"\u001b[0m\u001b[38;2;248;248;242;48;2;39;40;34m,\u001b[0m\u001b[38;2;248;248;242;48;2;39;40;34m \u001b[0m\u001b[38;2;248;248;242;48;2;39;40;34mvisited_page\u001b[0m\u001b[38;2;248;248;242;48;2;39;40;34m)\u001b[0m\u001b[48;2;39;40;34m                                                                      \u001b[0m  \n",
       "  \u001b[38;2;248;248;242;48;2;39;40;34mcurrent_link_index\u001b[0m\u001b[38;2;248;248;242;48;2;39;40;34m \u001b[0m\u001b[38;2;255;70;137;48;2;39;40;34m+\u001b[0m\u001b[38;2;255;70;137;48;2;39;40;34m=\u001b[0m\u001b[38;2;248;248;242;48;2;39;40;34m \u001b[0m\u001b[38;2;174;129;255;48;2;39;40;34m1\u001b[0m\u001b[48;2;39;40;34m                                                                                        \u001b[0m  \n",
       " ───────────────────────────────────────────────────────────────────────────────────────────────────────────────── \n"
      ]
     },
     "metadata": {},
     "output_type": "display_data"
    },
    {
     "data": {
      "text/html": [
       "<pre style=\"white-space:pre;overflow-x:auto;line-height:normal;font-family:Menlo,'DejaVu Sans Mono',consolas,'Courier New',monospace\"><span style=\"font-weight: bold\">Execution logs:</span>\n",
       "## Search Results\n",
       "\n",
       "[Superhero Theme Party Ideas for Adults to Create an Unforgettable \n",
       "...](https://partyideaszone.com/superhero-theme-party-ideas-for-adults/)\n",
       "Unleash your inner hero with our ultimate guide to hosting an unforgettable superhero-themed party for adults! \n",
       "Explore creative costume ideas , vibrant decorations, and mouthwatering themed snacks and drinks. Engage your \n",
       "guests with fun activities like trivia, costume contests, and movie screenings. Follow our planning tips to create \n",
       "a cohesive, memorable experience that your friends will rave ...\n",
       "\n",
       "[25 Superhero Party Ideas For All Ages](https://playideas.com/25-superhero-party-ideas/)\n",
       "They are perfect for your next superhero-themed food and party ! We have found some amazingly fantastic party ideas\n",
       "from treats, decor, crafts to souvenirs for different sorts of superheroes, from Batman, Super-Man, the Hulk, Iron \n",
       "Man, and even villains!. No matter who your favorite superhero is we've got some great party tips for you!\n",
       "\n",
       "[24 Superhero Party Ideas that Will Make You Wish You Were a \n",
       "Kid](https://howdoesshe.com/24-incredible-superhero-party-ideas-that-will-make-you-wish-you-were-a-kid-again/)\n",
       "24 incredible superhero party ideas that kids will love and make adults wish they were kids again. From decor ideas\n",
       ", party foods, and costume ideas to superhero-themed activities, we have all of your party needs covered.\n",
       "\n",
       "[Superhero-Themed Party Ideas &amp; Decorations | \n",
       "CORKCICLE.](https://corkcicle.com/blogs/lifestyle/marvel-themed-party-ideas)\n",
       "Marvel™ Superhero-Themed Party Ideas Superhero-themed parties have become a beloved trend, offering an exciting way\n",
       "to celebrate special occasions. The thrill of donning capes and masks, the vibrant decorations, and the heroic \n",
       "atmosphere make these parties a hit among kids and adults alike.\n",
       "\n",
       "[Superhero Party Ideas | PartyWizz Blog](https://partywizz.com/blog/family/party-ideas/superhero-party-ideas/)\n",
       "Use superhero-themed paper party bags - Amazon have a good selection - or keep costs down with plain paper bags and\n",
       "decorate/personalise them yourself. This is a task you could definitely delegate to your own small superhero !\n",
       "\n",
       "[By a Pro: Superhero Party Ideas by a Professional](https://party-ideas-by-a-pro.com/party-themes/superhero-party/)\n",
       "The Superhero party ideas below were mainly designed with a kid's birthday in mind. However, a lot of the ideas \n",
       "could easily be adapted for an adult costume party so I've also included some tips and supplies specifically for \n",
       "adults—such as cocktail recipes. The great thing about throwing a generic Superhero party is that there are lots of\n",
       "elements that are common to all comic book heroes ...\n",
       "\n",
       "[10 Best Superhero Birthday Party Ideas To Plan in \n",
       "2025](https://www.birthdayinspire.com/superhero-birthday-party-ideas/)\n",
       "Here i have tried my best to cover everything you need to know to plan a perfect superhero birthday party . So stay\n",
       "tuned and enjoy the ideas mentioned below: 1. Superhero themes A superhero party is incomplete without centralizing\n",
       "it with a theme. So which theme is in your mind? There are thousands of superhero characters you can pick to plan a\n",
       "...\n",
       "\n",
       "[Planning a Superhero Themed Party: Ideas and \n",
       "Inspiration](https://partywhammy.com/planning-a-superhero-themed-party-ideas-and-inspiration/)\n",
       "When planing a superhero party , there are lots of great sources of inspiration out there - from websites and \n",
       "magazines to family and friends. Social media is also an invaluable source of ideas ; join related groups on \n",
       "Facebook or browse Pinterest for some great tips on how to make your party stand out.\n",
       "\n",
       "[Simple Ideas for an Epic Superhero Birthday Party - GigSalad](https://www.gigsalad.com/blog/superhero-party/)\n",
       "Superhero Party Decor Transform your party space into a scene straight out of a comic book with bold colors, \n",
       "dynamic designs, and heroic details. Using interactive elements and themed backdrops, these superhero -worthy \n",
       "decorations will immerse your guests in an unforgettable adventure! Check out our Pinterest board for decor ideas \n",
       "and more.\n",
       "\n",
       "[30+ Easy Superhero Party Ideas You Can Perfect on a \n",
       "Budget](https://www.frugalcouponliving.com/superhero-party-ideas/)\n",
       "Host a superhero-themed party that is sure to be a hit without a ton of time, money, or effort. Enjoy the best DIY \n",
       "superhero party ideas , recipes, décor, &amp; games to make party planning easy-peasy.\n",
       "\n",
       "</pre>\n"
      ],
      "text/plain": [
       "\u001b[1mExecution logs:\u001b[0m\n",
       "## Search Results\n",
       "\n",
       "[Superhero Theme Party Ideas for Adults to Create an Unforgettable \n",
       "...](https://partyideaszone.com/superhero-theme-party-ideas-for-adults/)\n",
       "Unleash your inner hero with our ultimate guide to hosting an unforgettable superhero-themed party for adults! \n",
       "Explore creative costume ideas , vibrant decorations, and mouthwatering themed snacks and drinks. Engage your \n",
       "guests with fun activities like trivia, costume contests, and movie screenings. Follow our planning tips to create \n",
       "a cohesive, memorable experience that your friends will rave ...\n",
       "\n",
       "[25 Superhero Party Ideas For All Ages](https://playideas.com/25-superhero-party-ideas/)\n",
       "They are perfect for your next superhero-themed food and party ! We have found some amazingly fantastic party ideas\n",
       "from treats, decor, crafts to souvenirs for different sorts of superheroes, from Batman, Super-Man, the Hulk, Iron \n",
       "Man, and even villains!. No matter who your favorite superhero is we've got some great party tips for you!\n",
       "\n",
       "[24 Superhero Party Ideas that Will Make You Wish You Were a \n",
       "Kid](https://howdoesshe.com/24-incredible-superhero-party-ideas-that-will-make-you-wish-you-were-a-kid-again/)\n",
       "24 incredible superhero party ideas that kids will love and make adults wish they were kids again. From decor ideas\n",
       ", party foods, and costume ideas to superhero-themed activities, we have all of your party needs covered.\n",
       "\n",
       "[Superhero-Themed Party Ideas & Decorations | \n",
       "CORKCICLE.](https://corkcicle.com/blogs/lifestyle/marvel-themed-party-ideas)\n",
       "Marvel™ Superhero-Themed Party Ideas Superhero-themed parties have become a beloved trend, offering an exciting way\n",
       "to celebrate special occasions. The thrill of donning capes and masks, the vibrant decorations, and the heroic \n",
       "atmosphere make these parties a hit among kids and adults alike.\n",
       "\n",
       "[Superhero Party Ideas | PartyWizz Blog](https://partywizz.com/blog/family/party-ideas/superhero-party-ideas/)\n",
       "Use superhero-themed paper party bags - Amazon have a good selection - or keep costs down with plain paper bags and\n",
       "decorate/personalise them yourself. This is a task you could definitely delegate to your own small superhero !\n",
       "\n",
       "[By a Pro: Superhero Party Ideas by a Professional](https://party-ideas-by-a-pro.com/party-themes/superhero-party/)\n",
       "The Superhero party ideas below were mainly designed with a kid's birthday in mind. However, a lot of the ideas \n",
       "could easily be adapted for an adult costume party so I've also included some tips and supplies specifically for \n",
       "adults—such as cocktail recipes. The great thing about throwing a generic Superhero party is that there are lots of\n",
       "elements that are common to all comic book heroes ...\n",
       "\n",
       "[10 Best Superhero Birthday Party Ideas To Plan in \n",
       "2025](https://www.birthdayinspire.com/superhero-birthday-party-ideas/)\n",
       "Here i have tried my best to cover everything you need to know to plan a perfect superhero birthday party . So stay\n",
       "tuned and enjoy the ideas mentioned below: 1. Superhero themes A superhero party is incomplete without centralizing\n",
       "it with a theme. So which theme is in your mind? There are thousands of superhero characters you can pick to plan a\n",
       "...\n",
       "\n",
       "[Planning a Superhero Themed Party: Ideas and \n",
       "Inspiration](https://partywhammy.com/planning-a-superhero-themed-party-ideas-and-inspiration/)\n",
       "When planing a superhero party , there are lots of great sources of inspiration out there - from websites and \n",
       "magazines to family and friends. Social media is also an invaluable source of ideas ; join related groups on \n",
       "Facebook or browse Pinterest for some great tips on how to make your party stand out.\n",
       "\n",
       "[Simple Ideas for an Epic Superhero Birthday Party - GigSalad](https://www.gigsalad.com/blog/superhero-party/)\n",
       "Superhero Party Decor Transform your party space into a scene straight out of a comic book with bold colors, \n",
       "dynamic designs, and heroic details. Using interactive elements and themed backdrops, these superhero -worthy \n",
       "decorations will immerse your guests in an unforgettable adventure! Check out our Pinterest board for decor ideas \n",
       "and more.\n",
       "\n",
       "[30+ Easy Superhero Party Ideas You Can Perfect on a \n",
       "Budget](https://www.frugalcouponliving.com/superhero-party-ideas/)\n",
       "Host a superhero-themed party that is sure to be a hit without a ton of time, money, or effort. Enjoy the best DIY \n",
       "superhero party ideas , recipes, décor, & games to make party planning easy-peasy.\n",
       "\n"
      ]
     },
     "metadata": {},
     "output_type": "display_data"
    },
    {
     "data": {
      "text/html": [
       "<pre style=\"white-space:pre;overflow-x:auto;line-height:normal;font-family:Menlo,'DejaVu Sans Mono',consolas,'Courier New',monospace\"><span style=\"color: #800000; text-decoration-color: #800000; font-weight: bold\">Code parsing failed on line 3 due to: IndentationError</span>\n",
       "<span style=\"color: #800000; text-decoration-color: #800000; font-weight: bold\">link = useful_links[current_link_index\\]</span>\n",
       "<span style=\"color: #800000; text-decoration-color: #800000; font-weight: bold\"> ^</span>\n",
       "<span style=\"color: #800000; text-decoration-color: #800000; font-weight: bold\">Error: expected an indented block after 'while' statement on line 2 (&lt;unknown&gt;, line 3)</span>\n",
       "</pre>\n"
      ],
      "text/plain": [
       "\u001b[1;31mCode parsing failed on line 3 due to: IndentationError\u001b[0m\n",
       "\u001b[1;31mlink = useful_links[current_link_index\\]\u001b[0m\n",
       "\u001b[1;31m ^\u001b[0m\n",
       "\u001b[1;31mError: expected an indented block after 'while' statement on line 2 (<unknown>, line 3)\u001b[0m\n"
      ]
     },
     "metadata": {},
     "output_type": "display_data"
    },
    {
     "data": {
      "text/html": [
       "<pre style=\"white-space:pre;overflow-x:auto;line-height:normal;font-family:Menlo,'DejaVu Sans Mono',consolas,'Courier New',monospace\"><span style=\"color: #7f7f7f; text-decoration-color: #7f7f7f\">[Step 6: Duration 3.23 seconds| Input tokens: 37,834 | Output tokens: 1,518]</span>\n",
       "</pre>\n"
      ],
      "text/plain": [
       "\u001b[2m[Step 6: Duration 3.23 seconds| Input tokens: 37,834 | Output tokens: 1,518]\u001b[0m\n"
      ]
     },
     "metadata": {},
     "output_type": "display_data"
    },
    {
     "data": {
      "text/html": [
       "<pre style=\"white-space:pre;overflow-x:auto;line-height:normal;font-family:Menlo,'DejaVu Sans Mono',consolas,'Courier New',monospace\"><span style=\"color: #d4b702; text-decoration-color: #d4b702\">━━━━━━━━━━━━━━━━━━━━━━━━━━━━━━━━━━━━━━━━━━━━━━━━━━━━━ </span><span style=\"font-weight: bold\">Step 7</span><span style=\"color: #d4b702; text-decoration-color: #d4b702\"> ━━━━━━━━━━━━━━━━━━━━━━━━━━━━━━━━━━━━━━━━━━━━━━━━━━━━━━</span>\n",
       "</pre>\n"
      ],
      "text/plain": [
       "\u001b[38;2;212;183;2m━━━━━━━━━━━━━━━━━━━━━━━━━━━━━━━━━━━━━━━━━━━━━━━━━━━━━ \u001b[0m\u001b[1mStep 7\u001b[0m\u001b[38;2;212;183;2m ━━━━━━━━━━━━━━━━━━━━━━━━━━━━━━━━━━━━━━━━━━━━━━━━━━━━━━\u001b[0m\n"
      ]
     },
     "metadata": {},
     "output_type": "display_data"
    },
    {
     "data": {
      "text/html": [
       "<pre style=\"white-space:pre;overflow-x:auto;line-height:normal;font-family:Menlo,'DejaVu Sans Mono',consolas,'Courier New',monospace\"> ─ <span style=\"font-weight: bold\">Executing parsed code:</span> ──────────────────────────────────────────────────────────────────────────────────────── \n",
       "  <span style=\"color: #f8f8f2; text-decoration-color: #f8f8f2; background-color: #272822\">current_link_index </span><span style=\"color: #ff4689; text-decoration-color: #ff4689; background-color: #272822\">=</span><span style=\"color: #f8f8f2; text-decoration-color: #f8f8f2; background-color: #272822\"> </span><span style=\"color: #ae81ff; text-decoration-color: #ae81ff; background-color: #272822\">0</span><span style=\"color: #f8f8f2; text-decoration-color: #f8f8f2; background-color: #272822\">; </span><span style=\"color: #66d9ef; text-decoration-color: #66d9ef; background-color: #272822\">while</span><span style=\"color: #f8f8f2; text-decoration-color: #f8f8f2; background-color: #272822\"> current_link_index </span><span style=\"color: #ff4689; text-decoration-color: #ff4689; background-color: #272822\">&lt;</span><span style=\"color: #f8f8f2; text-decoration-color: #f8f8f2; background-color: #272822\"> len(useful_links): link </span><span style=\"color: #ff4689; text-decoration-color: #ff4689; background-color: #272822\">=</span><span style=\"color: #f8f8f2; text-decoration-color: #f8f8f2; background-color: #272822\"> useful_links[current_link_index]; </span>  \n",
       "  <span style=\"color: #f8f8f2; text-decoration-color: #f8f8f2; background-color: #272822\">print(</span><span style=\"color: #e6db74; text-decoration-color: #e6db74; background-color: #272822\">\"</span><span style=\"color: #ae81ff; text-decoration-color: #ae81ff; background-color: #272822\">\\\\</span><span style=\"color: #e6db74; text-decoration-color: #e6db74; background-color: #272822\">nObserving information from the link:\"</span><span style=\"color: #f8f8f2; text-decoration-color: #f8f8f2; background-color: #272822\">, link); visited_page </span><span style=\"color: #ff4689; text-decoration-color: #ff4689; background-color: #272822\">=</span><span style=\"color: #f8f8f2; text-decoration-color: #f8f8f2; background-color: #272822\"> visit_webpage(url</span><span style=\"color: #ff4689; text-decoration-color: #ff4689; background-color: #272822\">=</span><span style=\"color: #f8f8f2; text-decoration-color: #f8f8f2; background-color: #272822\">link); print(</span><span style=\"color: #e6db74; text-decoration-color: #e6db74; background-color: #272822\">\"Page </span><span style=\"background-color: #272822\">   </span>  \n",
       "  <span style=\"color: #e6db74; text-decoration-color: #e6db74; background-color: #272822\">visit result:\"</span><span style=\"color: #f8f8f2; text-decoration-color: #f8f8f2; background-color: #272822\">, visited_page); current_link_index </span><span style=\"color: #ff4689; text-decoration-color: #ff4689; background-color: #272822\">+=</span><span style=\"color: #f8f8f2; text-decoration-color: #f8f8f2; background-color: #272822\"> </span><span style=\"color: #ae81ff; text-decoration-color: #ae81ff; background-color: #272822\">1</span><span style=\"background-color: #272822\">                                                         </span>  \n",
       " ───────────────────────────────────────────────────────────────────────────────────────────────────────────────── \n",
       "</pre>\n"
      ],
      "text/plain": [
       " ─ \u001b[1mExecuting parsed code:\u001b[0m ──────────────────────────────────────────────────────────────────────────────────────── \n",
       "  \u001b[38;2;248;248;242;48;2;39;40;34mcurrent_link_index\u001b[0m\u001b[38;2;248;248;242;48;2;39;40;34m \u001b[0m\u001b[38;2;255;70;137;48;2;39;40;34m=\u001b[0m\u001b[38;2;248;248;242;48;2;39;40;34m \u001b[0m\u001b[38;2;174;129;255;48;2;39;40;34m0\u001b[0m\u001b[38;2;248;248;242;48;2;39;40;34m;\u001b[0m\u001b[38;2;248;248;242;48;2;39;40;34m \u001b[0m\u001b[38;2;102;217;239;48;2;39;40;34mwhile\u001b[0m\u001b[38;2;248;248;242;48;2;39;40;34m \u001b[0m\u001b[38;2;248;248;242;48;2;39;40;34mcurrent_link_index\u001b[0m\u001b[38;2;248;248;242;48;2;39;40;34m \u001b[0m\u001b[38;2;255;70;137;48;2;39;40;34m<\u001b[0m\u001b[38;2;248;248;242;48;2;39;40;34m \u001b[0m\u001b[38;2;248;248;242;48;2;39;40;34mlen\u001b[0m\u001b[38;2;248;248;242;48;2;39;40;34m(\u001b[0m\u001b[38;2;248;248;242;48;2;39;40;34museful_links\u001b[0m\u001b[38;2;248;248;242;48;2;39;40;34m)\u001b[0m\u001b[38;2;248;248;242;48;2;39;40;34m:\u001b[0m\u001b[38;2;248;248;242;48;2;39;40;34m \u001b[0m\u001b[38;2;248;248;242;48;2;39;40;34mlink\u001b[0m\u001b[38;2;248;248;242;48;2;39;40;34m \u001b[0m\u001b[38;2;255;70;137;48;2;39;40;34m=\u001b[0m\u001b[38;2;248;248;242;48;2;39;40;34m \u001b[0m\u001b[38;2;248;248;242;48;2;39;40;34museful_links\u001b[0m\u001b[38;2;248;248;242;48;2;39;40;34m[\u001b[0m\u001b[38;2;248;248;242;48;2;39;40;34mcurrent_link_index\u001b[0m\u001b[38;2;248;248;242;48;2;39;40;34m]\u001b[0m\u001b[38;2;248;248;242;48;2;39;40;34m;\u001b[0m\u001b[38;2;248;248;242;48;2;39;40;34m \u001b[0m  \n",
       "  \u001b[38;2;248;248;242;48;2;39;40;34mprint\u001b[0m\u001b[38;2;248;248;242;48;2;39;40;34m(\u001b[0m\u001b[38;2;230;219;116;48;2;39;40;34m\"\u001b[0m\u001b[38;2;174;129;255;48;2;39;40;34m\\\\\u001b[0m\u001b[38;2;230;219;116;48;2;39;40;34mnObserving information from the link:\u001b[0m\u001b[38;2;230;219;116;48;2;39;40;34m\"\u001b[0m\u001b[38;2;248;248;242;48;2;39;40;34m,\u001b[0m\u001b[38;2;248;248;242;48;2;39;40;34m \u001b[0m\u001b[38;2;248;248;242;48;2;39;40;34mlink\u001b[0m\u001b[38;2;248;248;242;48;2;39;40;34m)\u001b[0m\u001b[38;2;248;248;242;48;2;39;40;34m;\u001b[0m\u001b[38;2;248;248;242;48;2;39;40;34m \u001b[0m\u001b[38;2;248;248;242;48;2;39;40;34mvisited_page\u001b[0m\u001b[38;2;248;248;242;48;2;39;40;34m \u001b[0m\u001b[38;2;255;70;137;48;2;39;40;34m=\u001b[0m\u001b[38;2;248;248;242;48;2;39;40;34m \u001b[0m\u001b[38;2;248;248;242;48;2;39;40;34mvisit_webpage\u001b[0m\u001b[38;2;248;248;242;48;2;39;40;34m(\u001b[0m\u001b[38;2;248;248;242;48;2;39;40;34murl\u001b[0m\u001b[38;2;255;70;137;48;2;39;40;34m=\u001b[0m\u001b[38;2;248;248;242;48;2;39;40;34mlink\u001b[0m\u001b[38;2;248;248;242;48;2;39;40;34m)\u001b[0m\u001b[38;2;248;248;242;48;2;39;40;34m;\u001b[0m\u001b[38;2;248;248;242;48;2;39;40;34m \u001b[0m\u001b[38;2;248;248;242;48;2;39;40;34mprint\u001b[0m\u001b[38;2;248;248;242;48;2;39;40;34m(\u001b[0m\u001b[38;2;230;219;116;48;2;39;40;34m\"\u001b[0m\u001b[38;2;230;219;116;48;2;39;40;34mPage \u001b[0m\u001b[48;2;39;40;34m   \u001b[0m  \n",
       "  \u001b[38;2;230;219;116;48;2;39;40;34mvisit result:\u001b[0m\u001b[38;2;230;219;116;48;2;39;40;34m\"\u001b[0m\u001b[38;2;248;248;242;48;2;39;40;34m,\u001b[0m\u001b[38;2;248;248;242;48;2;39;40;34m \u001b[0m\u001b[38;2;248;248;242;48;2;39;40;34mvisited_page\u001b[0m\u001b[38;2;248;248;242;48;2;39;40;34m)\u001b[0m\u001b[38;2;248;248;242;48;2;39;40;34m;\u001b[0m\u001b[38;2;248;248;242;48;2;39;40;34m \u001b[0m\u001b[38;2;248;248;242;48;2;39;40;34mcurrent_link_index\u001b[0m\u001b[38;2;248;248;242;48;2;39;40;34m \u001b[0m\u001b[38;2;255;70;137;48;2;39;40;34m+\u001b[0m\u001b[38;2;255;70;137;48;2;39;40;34m=\u001b[0m\u001b[38;2;248;248;242;48;2;39;40;34m \u001b[0m\u001b[38;2;174;129;255;48;2;39;40;34m1\u001b[0m\u001b[48;2;39;40;34m                                                         \u001b[0m  \n",
       " ───────────────────────────────────────────────────────────────────────────────────────────────────────────────── \n"
      ]
     },
     "metadata": {},
     "output_type": "display_data"
    },
    {
     "data": {
      "text/html": [
       "<pre style=\"white-space:pre;overflow-x:auto;line-height:normal;font-family:Menlo,'DejaVu Sans Mono',consolas,'Courier New',monospace\"><span style=\"font-weight: bold\">Execution logs:</span>\n",
       "## Search Results\n",
       "\n",
       "[Superhero Theme Party Ideas for Adults to Create an Unforgettable \n",
       "...](https://partyideaszone.com/superhero-theme-party-ideas-for-adults/)\n",
       "Unleash your inner hero with our ultimate guide to hosting an unforgettable superhero-themed party for adults! \n",
       "Explore creative costume ideas , vibrant decorations, and mouthwatering themed snacks and drinks. Engage your \n",
       "guests with fun activities like trivia, costume contests, and movie screenings. Follow our planning tips to create \n",
       "a cohesive, memorable experience that your friends will rave ...\n",
       "\n",
       "[25 Superhero Party Ideas For All Ages](https://playideas.com/25-superhero-party-ideas/)\n",
       "They are perfect for your next superhero-themed food and party ! We have found some amazingly fantastic party ideas\n",
       "from treats, decor, crafts to souvenirs for different sorts of superheroes, from Batman, Super-Man, the Hulk, Iron \n",
       "Man, and even villains!. No matter who your favorite superhero is we've got some great party tips for you!\n",
       "\n",
       "[24 Superhero Party Ideas that Will Make You Wish You Were a \n",
       "Kid](https://howdoesshe.com/24-incredible-superhero-party-ideas-that-will-make-you-wish-you-were-a-kid-again/)\n",
       "24 incredible superhero party ideas that kids will love and make adults wish they were kids again. From decor ideas\n",
       ", party foods, and costume ideas to superhero-themed activities, we have all of your party needs covered.\n",
       "\n",
       "[Superhero-Themed Party Ideas &amp; Decorations | \n",
       "CORKCICLE.](https://corkcicle.com/blogs/lifestyle/marvel-themed-party-ideas)\n",
       "Marvel™ Superhero-Themed Party Ideas Superhero-themed parties have become a beloved trend, offering an exciting way\n",
       "to celebrate special occasions. The thrill of donning capes and masks, the vibrant decorations, and the heroic \n",
       "atmosphere make these parties a hit among kids and adults alike.\n",
       "\n",
       "[Superhero Party Ideas | PartyWizz Blog](https://partywizz.com/blog/family/party-ideas/superhero-party-ideas/)\n",
       "Use superhero-themed paper party bags - Amazon have a good selection - or keep costs down with plain paper bags and\n",
       "decorate/personalise them yourself. This is a task you could definitely delegate to your own small superhero !\n",
       "\n",
       "[By a Pro: Superhero Party Ideas by a Professional](https://party-ideas-by-a-pro.com/party-themes/superhero-party/)\n",
       "The Superhero party ideas below were mainly designed with a kid's birthday in mind. However, a lot of the ideas \n",
       "could easily be adapted for an adult costume party so I've also included some tips and supplies specifically for \n",
       "adults—such as cocktail recipes. The great thing about throwing a generic Superhero party is that there are lots of\n",
       "elements that are common to all comic book heroes ...\n",
       "\n",
       "[10 Best Superhero Birthday Party Ideas To Plan in \n",
       "2025](https://www.birthdayinspire.com/superhero-birthday-party-ideas/)\n",
       "Here i have tried my best to cover everything you need to know to plan a perfect superhero birthday party . So stay\n",
       "tuned and enjoy the ideas mentioned below: 1. Superhero themes A superhero party is incomplete without centralizing\n",
       "it with a theme. So which theme is in your mind? There are thousands of superhero characters you can pick to plan a\n",
       "...\n",
       "\n",
       "[Planning a Superhero Themed Party: Ideas and \n",
       "Inspiration](https://partywhammy.com/planning-a-superhero-themed-party-ideas-and-inspiration/)\n",
       "When planing a superhero party , there are lots of great sources of inspiration out there - from websites and \n",
       "magazines to family and friends. Social media is also an invaluable source of ideas ; join related groups on \n",
       "Facebook or browse Pinterest for some great tips on how to make your party stand out.\n",
       "\n",
       "[Simple Ideas for an Epic Superhero Birthday Party - GigSalad](https://www.gigsalad.com/blog/superhero-party/)\n",
       "Superhero Party Decor Transform your party space into a scene straight out of a comic book with bold colors, \n",
       "dynamic designs, and heroic details. Using interactive elements and themed backdrops, these superhero -worthy \n",
       "decorations will immerse your guests in an unforgettable adventure! Check out our Pinterest board for decor ideas \n",
       "and more.\n",
       "\n",
       "[30+ Easy Superhero Party Ideas You Can Perfect on a \n",
       "Budget](https://www.frugalcouponliving.com/superhero-party-ideas/)\n",
       "Host a superhero-themed party that is sure to be a hit without a ton of time, money, or effort. Enjoy the best DIY \n",
       "superhero party ideas , recipes, décor, &amp; games to make party planning easy-peasy.\n",
       "\n",
       "</pre>\n"
      ],
      "text/plain": [
       "\u001b[1mExecution logs:\u001b[0m\n",
       "## Search Results\n",
       "\n",
       "[Superhero Theme Party Ideas for Adults to Create an Unforgettable \n",
       "...](https://partyideaszone.com/superhero-theme-party-ideas-for-adults/)\n",
       "Unleash your inner hero with our ultimate guide to hosting an unforgettable superhero-themed party for adults! \n",
       "Explore creative costume ideas , vibrant decorations, and mouthwatering themed snacks and drinks. Engage your \n",
       "guests with fun activities like trivia, costume contests, and movie screenings. Follow our planning tips to create \n",
       "a cohesive, memorable experience that your friends will rave ...\n",
       "\n",
       "[25 Superhero Party Ideas For All Ages](https://playideas.com/25-superhero-party-ideas/)\n",
       "They are perfect for your next superhero-themed food and party ! We have found some amazingly fantastic party ideas\n",
       "from treats, decor, crafts to souvenirs for different sorts of superheroes, from Batman, Super-Man, the Hulk, Iron \n",
       "Man, and even villains!. No matter who your favorite superhero is we've got some great party tips for you!\n",
       "\n",
       "[24 Superhero Party Ideas that Will Make You Wish You Were a \n",
       "Kid](https://howdoesshe.com/24-incredible-superhero-party-ideas-that-will-make-you-wish-you-were-a-kid-again/)\n",
       "24 incredible superhero party ideas that kids will love and make adults wish they were kids again. From decor ideas\n",
       ", party foods, and costume ideas to superhero-themed activities, we have all of your party needs covered.\n",
       "\n",
       "[Superhero-Themed Party Ideas & Decorations | \n",
       "CORKCICLE.](https://corkcicle.com/blogs/lifestyle/marvel-themed-party-ideas)\n",
       "Marvel™ Superhero-Themed Party Ideas Superhero-themed parties have become a beloved trend, offering an exciting way\n",
       "to celebrate special occasions. The thrill of donning capes and masks, the vibrant decorations, and the heroic \n",
       "atmosphere make these parties a hit among kids and adults alike.\n",
       "\n",
       "[Superhero Party Ideas | PartyWizz Blog](https://partywizz.com/blog/family/party-ideas/superhero-party-ideas/)\n",
       "Use superhero-themed paper party bags - Amazon have a good selection - or keep costs down with plain paper bags and\n",
       "decorate/personalise them yourself. This is a task you could definitely delegate to your own small superhero !\n",
       "\n",
       "[By a Pro: Superhero Party Ideas by a Professional](https://party-ideas-by-a-pro.com/party-themes/superhero-party/)\n",
       "The Superhero party ideas below were mainly designed with a kid's birthday in mind. However, a lot of the ideas \n",
       "could easily be adapted for an adult costume party so I've also included some tips and supplies specifically for \n",
       "adults—such as cocktail recipes. The great thing about throwing a generic Superhero party is that there are lots of\n",
       "elements that are common to all comic book heroes ...\n",
       "\n",
       "[10 Best Superhero Birthday Party Ideas To Plan in \n",
       "2025](https://www.birthdayinspire.com/superhero-birthday-party-ideas/)\n",
       "Here i have tried my best to cover everything you need to know to plan a perfect superhero birthday party . So stay\n",
       "tuned and enjoy the ideas mentioned below: 1. Superhero themes A superhero party is incomplete without centralizing\n",
       "it with a theme. So which theme is in your mind? There are thousands of superhero characters you can pick to plan a\n",
       "...\n",
       "\n",
       "[Planning a Superhero Themed Party: Ideas and \n",
       "Inspiration](https://partywhammy.com/planning-a-superhero-themed-party-ideas-and-inspiration/)\n",
       "When planing a superhero party , there are lots of great sources of inspiration out there - from websites and \n",
       "magazines to family and friends. Social media is also an invaluable source of ideas ; join related groups on \n",
       "Facebook or browse Pinterest for some great tips on how to make your party stand out.\n",
       "\n",
       "[Simple Ideas for an Epic Superhero Birthday Party - GigSalad](https://www.gigsalad.com/blog/superhero-party/)\n",
       "Superhero Party Decor Transform your party space into a scene straight out of a comic book with bold colors, \n",
       "dynamic designs, and heroic details. Using interactive elements and themed backdrops, these superhero -worthy \n",
       "decorations will immerse your guests in an unforgettable adventure! Check out our Pinterest board for decor ideas \n",
       "and more.\n",
       "\n",
       "[30+ Easy Superhero Party Ideas You Can Perfect on a \n",
       "Budget](https://www.frugalcouponliving.com/superhero-party-ideas/)\n",
       "Host a superhero-themed party that is sure to be a hit without a ton of time, money, or effort. Enjoy the best DIY \n",
       "superhero party ideas , recipes, décor, & games to make party planning easy-peasy.\n",
       "\n"
      ]
     },
     "metadata": {},
     "output_type": "display_data"
    },
    {
     "data": {
      "text/html": [
       "<pre style=\"white-space:pre;overflow-x:auto;line-height:normal;font-family:Menlo,'DejaVu Sans Mono',consolas,'Courier New',monospace\"><span style=\"color: #800000; text-decoration-color: #800000; font-weight: bold\">Code parsing failed on line 1 due to: SyntaxError</span>\n",
       "<span style=\"color: #800000; text-decoration-color: #800000; font-weight: bold\">current_link_index = 0; while current_link_index &lt; len(useful_links): link = useful_links[current_link_index\\]; </span>\n",
       "<span style=\"color: #800000; text-decoration-color: #800000; font-weight: bold\">print(\"\\\\nObserving information from the link:\", link); visited_page = visit_webpage(url=link); print(\"Page visit </span>\n",
       "<span style=\"color: #800000; text-decoration-color: #800000; font-weight: bold\">result:\", visited_page); current_link_index += 1</span>\n",
       "<span style=\"color: #800000; text-decoration-color: #800000; font-weight: bold\">                         ^</span>\n",
       "<span style=\"color: #800000; text-decoration-color: #800000; font-weight: bold\">Error: invalid syntax (&lt;unknown&gt;, line 1)</span>\n",
       "</pre>\n"
      ],
      "text/plain": [
       "\u001b[1;31mCode parsing failed on line 1 due to: SyntaxError\u001b[0m\n",
       "\u001b[1;31mcurrent_link_index = 0; while current_link_index < len(useful_links): link = useful_links[current_link_index\\]; \u001b[0m\n",
       "\u001b[1;31mprint(\"\\\\nObserving information from the link:\", link); visited_page = visit_webpage(url=link); print(\"Page visit \u001b[0m\n",
       "\u001b[1;31mresult:\", visited_page); current_link_index += 1\u001b[0m\n",
       "\u001b[1;31m                         ^\u001b[0m\n",
       "\u001b[1;31mError: invalid syntax (<unknown>, line 1)\u001b[0m\n"
      ]
     },
     "metadata": {},
     "output_type": "display_data"
    },
    {
     "data": {
      "text/html": [
       "<pre style=\"white-space:pre;overflow-x:auto;line-height:normal;font-family:Menlo,'DejaVu Sans Mono',consolas,'Courier New',monospace\"><span style=\"color: #7f7f7f; text-decoration-color: #7f7f7f\">[Step 7: Duration 2.20 seconds| Input tokens: 50,408 | Output tokens: 1,641]</span>\n",
       "</pre>\n"
      ],
      "text/plain": [
       "\u001b[2m[Step 7: Duration 2.20 seconds| Input tokens: 50,408 | Output tokens: 1,641]\u001b[0m\n"
      ]
     },
     "metadata": {},
     "output_type": "display_data"
    },
    {
     "data": {
      "text/html": [
       "<pre style=\"white-space:pre;overflow-x:auto;line-height:normal;font-family:Menlo,'DejaVu Sans Mono',consolas,'Courier New',monospace\"><span style=\"color: #d4b702; text-decoration-color: #d4b702\">━━━━━━━━━━━━━━━━━━━━━━━━━━━━━━━━━━━━━━━━━━━━━━━━━━━━━ </span><span style=\"font-weight: bold\">Step 8</span><span style=\"color: #d4b702; text-decoration-color: #d4b702\"> ━━━━━━━━━━━━━━━━━━━━━━━━━━━━━━━━━━━━━━━━━━━━━━━━━━━━━━</span>\n",
       "</pre>\n"
      ],
      "text/plain": [
       "\u001b[38;2;212;183;2m━━━━━━━━━━━━━━━━━━━━━━━━━━━━━━━━━━━━━━━━━━━━━━━━━━━━━ \u001b[0m\u001b[1mStep 8\u001b[0m\u001b[38;2;212;183;2m ━━━━━━━━━━━━━━━━━━━━━━━━━━━━━━━━━━━━━━━━━━━━━━━━━━━━━━\u001b[0m\n"
      ]
     },
     "metadata": {},
     "output_type": "display_data"
    },
    {
     "data": {
      "text/html": [
       "<pre style=\"white-space:pre;overflow-x:auto;line-height:normal;font-family:Menlo,'DejaVu Sans Mono',consolas,'Courier New',monospace\"> ─ <span style=\"font-weight: bold\">Executing parsed code:</span> ──────────────────────────────────────────────────────────────────────────────────────── \n",
       "  <span style=\"color: #f8f8f2; text-decoration-color: #f8f8f2; background-color: #272822\">current_link_index </span><span style=\"color: #ff4689; text-decoration-color: #ff4689; background-color: #272822\">=</span><span style=\"color: #f8f8f2; text-decoration-color: #f8f8f2; background-color: #272822\"> </span><span style=\"color: #ae81ff; text-decoration-color: #ae81ff; background-color: #272822\">0</span><span style=\"color: #f8f8f2; text-decoration-color: #f8f8f2; background-color: #272822\">; </span><span style=\"color: #ae81ff; text-decoration-color: #ae81ff; background-color: #272822\">1</span><span style=\"color: #f8f8f2; text-decoration-color: #f8f8f2; background-color: #272822\"> </span><span style=\"color: #66d9ef; text-decoration-color: #66d9ef; background-color: #272822\">while</span><span style=\"color: #f8f8f2; text-decoration-color: #f8f8f2; background-color: #272822\"> current_link_index </span><span style=\"color: #ff4689; text-decoration-color: #ff4689; background-color: #272822\">&lt;</span><span style=\"color: #f8f8f2; text-decoration-color: #f8f8f2; background-color: #272822\"> len(useful_links): </span><span style=\"color: #ae81ff; text-decoration-color: #ae81ff; background-color: #272822\">2</span><span style=\"color: #f8f8f2; text-decoration-color: #f8f8f2; background-color: #272822\"> link </span><span style=\"color: #ff4689; text-decoration-color: #ff4689; background-color: #272822\">=</span><span style=\"color: #f8f8f2; text-decoration-color: #f8f8f2; background-color: #272822\"> </span><span style=\"background-color: #272822\">                              </span>  \n",
       "  <span style=\"color: #f8f8f2; text-decoration-color: #f8f8f2; background-color: #272822\">useful_links[current_link_index]; </span><span style=\"color: #ae81ff; text-decoration-color: #ae81ff; background-color: #272822\">3</span><span style=\"color: #f8f8f2; text-decoration-color: #f8f8f2; background-color: #272822\"> print(</span><span style=\"color: #e6db74; text-decoration-color: #e6db74; background-color: #272822\">\"</span><span style=\"color: #ae81ff; text-decoration-color: #ae81ff; background-color: #272822\">\\\\</span><span style=\"color: #e6db74; text-decoration-color: #e6db74; background-color: #272822\">nObserving information from the link:\"</span><span style=\"color: #f8f8f2; text-decoration-color: #f8f8f2; background-color: #272822\">, link); </span><span style=\"color: #ae81ff; text-decoration-color: #ae81ff; background-color: #272822\">4</span><span style=\"color: #f8f8f2; text-decoration-color: #f8f8f2; background-color: #272822\"> visited_page </span><span style=\"color: #ff4689; text-decoration-color: #ff4689; background-color: #272822\">=</span><span style=\"color: #f8f8f2; text-decoration-color: #f8f8f2; background-color: #272822\"> </span><span style=\"background-color: #272822\">  </span>  \n",
       "  <span style=\"color: #f8f8f2; text-decoration-color: #f8f8f2; background-color: #272822\">visit_webpage(url</span><span style=\"color: #ff4689; text-decoration-color: #ff4689; background-color: #272822\">=</span><span style=\"color: #f8f8f2; text-decoration-color: #f8f8f2; background-color: #272822\">link); </span><span style=\"color: #ae81ff; text-decoration-color: #ae81ff; background-color: #272822\">5</span><span style=\"color: #f8f8f2; text-decoration-color: #f8f8f2; background-color: #272822\"> print(</span><span style=\"color: #e6db74; text-decoration-color: #e6db74; background-color: #272822\">\"Page visit result:\"</span><span style=\"color: #f8f8f2; text-decoration-color: #f8f8f2; background-color: #272822\">, visited_page); </span><span style=\"color: #ae81ff; text-decoration-color: #ae81ff; background-color: #272822\">6</span><span style=\"color: #f8f8f2; text-decoration-color: #f8f8f2; background-color: #272822\"> current_link_index </span><span style=\"color: #ff4689; text-decoration-color: #ff4689; background-color: #272822\">+=</span><span style=\"color: #f8f8f2; text-decoration-color: #f8f8f2; background-color: #272822\"> </span><span style=\"color: #ae81ff; text-decoration-color: #ae81ff; background-color: #272822\">1</span><span style=\"background-color: #272822\">                </span>  \n",
       " ───────────────────────────────────────────────────────────────────────────────────────────────────────────────── \n",
       "</pre>\n"
      ],
      "text/plain": [
       " ─ \u001b[1mExecuting parsed code:\u001b[0m ──────────────────────────────────────────────────────────────────────────────────────── \n",
       "  \u001b[38;2;248;248;242;48;2;39;40;34mcurrent_link_index\u001b[0m\u001b[38;2;248;248;242;48;2;39;40;34m \u001b[0m\u001b[38;2;255;70;137;48;2;39;40;34m=\u001b[0m\u001b[38;2;248;248;242;48;2;39;40;34m \u001b[0m\u001b[38;2;174;129;255;48;2;39;40;34m0\u001b[0m\u001b[38;2;248;248;242;48;2;39;40;34m;\u001b[0m\u001b[38;2;248;248;242;48;2;39;40;34m \u001b[0m\u001b[38;2;174;129;255;48;2;39;40;34m1\u001b[0m\u001b[38;2;248;248;242;48;2;39;40;34m \u001b[0m\u001b[38;2;102;217;239;48;2;39;40;34mwhile\u001b[0m\u001b[38;2;248;248;242;48;2;39;40;34m \u001b[0m\u001b[38;2;248;248;242;48;2;39;40;34mcurrent_link_index\u001b[0m\u001b[38;2;248;248;242;48;2;39;40;34m \u001b[0m\u001b[38;2;255;70;137;48;2;39;40;34m<\u001b[0m\u001b[38;2;248;248;242;48;2;39;40;34m \u001b[0m\u001b[38;2;248;248;242;48;2;39;40;34mlen\u001b[0m\u001b[38;2;248;248;242;48;2;39;40;34m(\u001b[0m\u001b[38;2;248;248;242;48;2;39;40;34museful_links\u001b[0m\u001b[38;2;248;248;242;48;2;39;40;34m)\u001b[0m\u001b[38;2;248;248;242;48;2;39;40;34m:\u001b[0m\u001b[38;2;248;248;242;48;2;39;40;34m \u001b[0m\u001b[38;2;174;129;255;48;2;39;40;34m2\u001b[0m\u001b[38;2;248;248;242;48;2;39;40;34m \u001b[0m\u001b[38;2;248;248;242;48;2;39;40;34mlink\u001b[0m\u001b[38;2;248;248;242;48;2;39;40;34m \u001b[0m\u001b[38;2;255;70;137;48;2;39;40;34m=\u001b[0m\u001b[38;2;248;248;242;48;2;39;40;34m \u001b[0m\u001b[48;2;39;40;34m                              \u001b[0m  \n",
       "  \u001b[38;2;248;248;242;48;2;39;40;34museful_links\u001b[0m\u001b[38;2;248;248;242;48;2;39;40;34m[\u001b[0m\u001b[38;2;248;248;242;48;2;39;40;34mcurrent_link_index\u001b[0m\u001b[38;2;248;248;242;48;2;39;40;34m]\u001b[0m\u001b[38;2;248;248;242;48;2;39;40;34m;\u001b[0m\u001b[38;2;248;248;242;48;2;39;40;34m \u001b[0m\u001b[38;2;174;129;255;48;2;39;40;34m3\u001b[0m\u001b[38;2;248;248;242;48;2;39;40;34m \u001b[0m\u001b[38;2;248;248;242;48;2;39;40;34mprint\u001b[0m\u001b[38;2;248;248;242;48;2;39;40;34m(\u001b[0m\u001b[38;2;230;219;116;48;2;39;40;34m\"\u001b[0m\u001b[38;2;174;129;255;48;2;39;40;34m\\\\\u001b[0m\u001b[38;2;230;219;116;48;2;39;40;34mnObserving information from the link:\u001b[0m\u001b[38;2;230;219;116;48;2;39;40;34m\"\u001b[0m\u001b[38;2;248;248;242;48;2;39;40;34m,\u001b[0m\u001b[38;2;248;248;242;48;2;39;40;34m \u001b[0m\u001b[38;2;248;248;242;48;2;39;40;34mlink\u001b[0m\u001b[38;2;248;248;242;48;2;39;40;34m)\u001b[0m\u001b[38;2;248;248;242;48;2;39;40;34m;\u001b[0m\u001b[38;2;248;248;242;48;2;39;40;34m \u001b[0m\u001b[38;2;174;129;255;48;2;39;40;34m4\u001b[0m\u001b[38;2;248;248;242;48;2;39;40;34m \u001b[0m\u001b[38;2;248;248;242;48;2;39;40;34mvisited_page\u001b[0m\u001b[38;2;248;248;242;48;2;39;40;34m \u001b[0m\u001b[38;2;255;70;137;48;2;39;40;34m=\u001b[0m\u001b[38;2;248;248;242;48;2;39;40;34m \u001b[0m\u001b[48;2;39;40;34m  \u001b[0m  \n",
       "  \u001b[38;2;248;248;242;48;2;39;40;34mvisit_webpage\u001b[0m\u001b[38;2;248;248;242;48;2;39;40;34m(\u001b[0m\u001b[38;2;248;248;242;48;2;39;40;34murl\u001b[0m\u001b[38;2;255;70;137;48;2;39;40;34m=\u001b[0m\u001b[38;2;248;248;242;48;2;39;40;34mlink\u001b[0m\u001b[38;2;248;248;242;48;2;39;40;34m)\u001b[0m\u001b[38;2;248;248;242;48;2;39;40;34m;\u001b[0m\u001b[38;2;248;248;242;48;2;39;40;34m \u001b[0m\u001b[38;2;174;129;255;48;2;39;40;34m5\u001b[0m\u001b[38;2;248;248;242;48;2;39;40;34m \u001b[0m\u001b[38;2;248;248;242;48;2;39;40;34mprint\u001b[0m\u001b[38;2;248;248;242;48;2;39;40;34m(\u001b[0m\u001b[38;2;230;219;116;48;2;39;40;34m\"\u001b[0m\u001b[38;2;230;219;116;48;2;39;40;34mPage visit result:\u001b[0m\u001b[38;2;230;219;116;48;2;39;40;34m\"\u001b[0m\u001b[38;2;248;248;242;48;2;39;40;34m,\u001b[0m\u001b[38;2;248;248;242;48;2;39;40;34m \u001b[0m\u001b[38;2;248;248;242;48;2;39;40;34mvisited_page\u001b[0m\u001b[38;2;248;248;242;48;2;39;40;34m)\u001b[0m\u001b[38;2;248;248;242;48;2;39;40;34m;\u001b[0m\u001b[38;2;248;248;242;48;2;39;40;34m \u001b[0m\u001b[38;2;174;129;255;48;2;39;40;34m6\u001b[0m\u001b[38;2;248;248;242;48;2;39;40;34m \u001b[0m\u001b[38;2;248;248;242;48;2;39;40;34mcurrent_link_index\u001b[0m\u001b[38;2;248;248;242;48;2;39;40;34m \u001b[0m\u001b[38;2;255;70;137;48;2;39;40;34m+\u001b[0m\u001b[38;2;255;70;137;48;2;39;40;34m=\u001b[0m\u001b[38;2;248;248;242;48;2;39;40;34m \u001b[0m\u001b[38;2;174;129;255;48;2;39;40;34m1\u001b[0m\u001b[48;2;39;40;34m                \u001b[0m  \n",
       " ───────────────────────────────────────────────────────────────────────────────────────────────────────────────── \n"
      ]
     },
     "metadata": {},
     "output_type": "display_data"
    },
    {
     "data": {
      "text/html": [
       "<pre style=\"white-space:pre;overflow-x:auto;line-height:normal;font-family:Menlo,'DejaVu Sans Mono',consolas,'Courier New',monospace\"><span style=\"font-weight: bold\">Execution logs:</span>\n",
       "## Search Results\n",
       "\n",
       "[Superhero Theme Party Ideas for Adults to Create an Unforgettable \n",
       "...](https://partyideaszone.com/superhero-theme-party-ideas-for-adults/)\n",
       "Unleash your inner hero with our ultimate guide to hosting an unforgettable superhero-themed party for adults! \n",
       "Explore creative costume ideas , vibrant decorations, and mouthwatering themed snacks and drinks. Engage your \n",
       "guests with fun activities like trivia, costume contests, and movie screenings. Follow our planning tips to create \n",
       "a cohesive, memorable experience that your friends will rave ...\n",
       "\n",
       "[25 Superhero Party Ideas For All Ages](https://playideas.com/25-superhero-party-ideas/)\n",
       "They are perfect for your next superhero-themed food and party ! We have found some amazingly fantastic party ideas\n",
       "from treats, decor, crafts to souvenirs for different sorts of superheroes, from Batman, Super-Man, the Hulk, Iron \n",
       "Man, and even villains!. No matter who your favorite superhero is we've got some great party tips for you!\n",
       "\n",
       "[24 Superhero Party Ideas that Will Make You Wish You Were a \n",
       "Kid](https://howdoesshe.com/24-incredible-superhero-party-ideas-that-will-make-you-wish-you-were-a-kid-again/)\n",
       "24 incredible superhero party ideas that kids will love and make adults wish they were kids again. From decor ideas\n",
       ", party foods, and costume ideas to superhero-themed activities, we have all of your party needs covered.\n",
       "\n",
       "[Superhero-Themed Party Ideas &amp; Decorations | \n",
       "CORKCICLE.](https://corkcicle.com/blogs/lifestyle/marvel-themed-party-ideas)\n",
       "Marvel™ Superhero-Themed Party Ideas Superhero-themed parties have become a beloved trend, offering an exciting way\n",
       "to celebrate special occasions. The thrill of donning capes and masks, the vibrant decorations, and the heroic \n",
       "atmosphere make these parties a hit among kids and adults alike.\n",
       "\n",
       "[Superhero Party Ideas | PartyWizz Blog](https://partywizz.com/blog/family/party-ideas/superhero-party-ideas/)\n",
       "Use superhero-themed paper party bags - Amazon have a good selection - or keep costs down with plain paper bags and\n",
       "decorate/personalise them yourself. This is a task you could definitely delegate to your own small superhero !\n",
       "\n",
       "[By a Pro: Superhero Party Ideas by a Professional](https://party-ideas-by-a-pro.com/party-themes/superhero-party/)\n",
       "The Superhero party ideas below were mainly designed with a kid's birthday in mind. However, a lot of the ideas \n",
       "could easily be adapted for an adult costume party so I've also included some tips and supplies specifically for \n",
       "adults—such as cocktail recipes. The great thing about throwing a generic Superhero party is that there are lots of\n",
       "elements that are common to all comic book heroes ...\n",
       "\n",
       "[10 Best Superhero Birthday Party Ideas To Plan in \n",
       "2025](https://www.birthdayinspire.com/superhero-birthday-party-ideas/)\n",
       "Here i have tried my best to cover everything you need to know to plan a perfect superhero birthday party . So stay\n",
       "tuned and enjoy the ideas mentioned below: 1. Superhero themes A superhero party is incomplete without centralizing\n",
       "it with a theme. So which theme is in your mind? There are thousands of superhero characters you can pick to plan a\n",
       "...\n",
       "\n",
       "[Planning a Superhero Themed Party: Ideas and \n",
       "Inspiration](https://partywhammy.com/planning-a-superhero-themed-party-ideas-and-inspiration/)\n",
       "When planing a superhero party , there are lots of great sources of inspiration out there - from websites and \n",
       "magazines to family and friends. Social media is also an invaluable source of ideas ; join related groups on \n",
       "Facebook or browse Pinterest for some great tips on how to make your party stand out.\n",
       "\n",
       "[Simple Ideas for an Epic Superhero Birthday Party - GigSalad](https://www.gigsalad.com/blog/superhero-party/)\n",
       "Superhero Party Decor Transform your party space into a scene straight out of a comic book with bold colors, \n",
       "dynamic designs, and heroic details. Using interactive elements and themed backdrops, these superhero -worthy \n",
       "decorations will immerse your guests in an unforgettable adventure! Check out our Pinterest board for decor ideas \n",
       "and more.\n",
       "\n",
       "[30+ Easy Superhero Party Ideas You Can Perfect on a \n",
       "Budget](https://www.frugalcouponliving.com/superhero-party-ideas/)\n",
       "Host a superhero-themed party that is sure to be a hit without a ton of time, money, or effort. Enjoy the best DIY \n",
       "superhero party ideas , recipes, décor, &amp; games to make party planning easy-peasy.\n",
       "\n",
       "</pre>\n"
      ],
      "text/plain": [
       "\u001b[1mExecution logs:\u001b[0m\n",
       "## Search Results\n",
       "\n",
       "[Superhero Theme Party Ideas for Adults to Create an Unforgettable \n",
       "...](https://partyideaszone.com/superhero-theme-party-ideas-for-adults/)\n",
       "Unleash your inner hero with our ultimate guide to hosting an unforgettable superhero-themed party for adults! \n",
       "Explore creative costume ideas , vibrant decorations, and mouthwatering themed snacks and drinks. Engage your \n",
       "guests with fun activities like trivia, costume contests, and movie screenings. Follow our planning tips to create \n",
       "a cohesive, memorable experience that your friends will rave ...\n",
       "\n",
       "[25 Superhero Party Ideas For All Ages](https://playideas.com/25-superhero-party-ideas/)\n",
       "They are perfect for your next superhero-themed food and party ! We have found some amazingly fantastic party ideas\n",
       "from treats, decor, crafts to souvenirs for different sorts of superheroes, from Batman, Super-Man, the Hulk, Iron \n",
       "Man, and even villains!. No matter who your favorite superhero is we've got some great party tips for you!\n",
       "\n",
       "[24 Superhero Party Ideas that Will Make You Wish You Were a \n",
       "Kid](https://howdoesshe.com/24-incredible-superhero-party-ideas-that-will-make-you-wish-you-were-a-kid-again/)\n",
       "24 incredible superhero party ideas that kids will love and make adults wish they were kids again. From decor ideas\n",
       ", party foods, and costume ideas to superhero-themed activities, we have all of your party needs covered.\n",
       "\n",
       "[Superhero-Themed Party Ideas & Decorations | \n",
       "CORKCICLE.](https://corkcicle.com/blogs/lifestyle/marvel-themed-party-ideas)\n",
       "Marvel™ Superhero-Themed Party Ideas Superhero-themed parties have become a beloved trend, offering an exciting way\n",
       "to celebrate special occasions. The thrill of donning capes and masks, the vibrant decorations, and the heroic \n",
       "atmosphere make these parties a hit among kids and adults alike.\n",
       "\n",
       "[Superhero Party Ideas | PartyWizz Blog](https://partywizz.com/blog/family/party-ideas/superhero-party-ideas/)\n",
       "Use superhero-themed paper party bags - Amazon have a good selection - or keep costs down with plain paper bags and\n",
       "decorate/personalise them yourself. This is a task you could definitely delegate to your own small superhero !\n",
       "\n",
       "[By a Pro: Superhero Party Ideas by a Professional](https://party-ideas-by-a-pro.com/party-themes/superhero-party/)\n",
       "The Superhero party ideas below were mainly designed with a kid's birthday in mind. However, a lot of the ideas \n",
       "could easily be adapted for an adult costume party so I've also included some tips and supplies specifically for \n",
       "adults—such as cocktail recipes. The great thing about throwing a generic Superhero party is that there are lots of\n",
       "elements that are common to all comic book heroes ...\n",
       "\n",
       "[10 Best Superhero Birthday Party Ideas To Plan in \n",
       "2025](https://www.birthdayinspire.com/superhero-birthday-party-ideas/)\n",
       "Here i have tried my best to cover everything you need to know to plan a perfect superhero birthday party . So stay\n",
       "tuned and enjoy the ideas mentioned below: 1. Superhero themes A superhero party is incomplete without centralizing\n",
       "it with a theme. So which theme is in your mind? There are thousands of superhero characters you can pick to plan a\n",
       "...\n",
       "\n",
       "[Planning a Superhero Themed Party: Ideas and \n",
       "Inspiration](https://partywhammy.com/planning-a-superhero-themed-party-ideas-and-inspiration/)\n",
       "When planing a superhero party , there are lots of great sources of inspiration out there - from websites and \n",
       "magazines to family and friends. Social media is also an invaluable source of ideas ; join related groups on \n",
       "Facebook or browse Pinterest for some great tips on how to make your party stand out.\n",
       "\n",
       "[Simple Ideas for an Epic Superhero Birthday Party - GigSalad](https://www.gigsalad.com/blog/superhero-party/)\n",
       "Superhero Party Decor Transform your party space into a scene straight out of a comic book with bold colors, \n",
       "dynamic designs, and heroic details. Using interactive elements and themed backdrops, these superhero -worthy \n",
       "decorations will immerse your guests in an unforgettable adventure! Check out our Pinterest board for decor ideas \n",
       "and more.\n",
       "\n",
       "[30+ Easy Superhero Party Ideas You Can Perfect on a \n",
       "Budget](https://www.frugalcouponliving.com/superhero-party-ideas/)\n",
       "Host a superhero-themed party that is sure to be a hit without a ton of time, money, or effort. Enjoy the best DIY \n",
       "superhero party ideas , recipes, décor, & games to make party planning easy-peasy.\n",
       "\n"
      ]
     },
     "metadata": {},
     "output_type": "display_data"
    },
    {
     "data": {
      "text/html": [
       "<pre style=\"white-space:pre;overflow-x:auto;line-height:normal;font-family:Menlo,'DejaVu Sans Mono',consolas,'Courier New',monospace\"><span style=\"color: #800000; text-decoration-color: #800000; font-weight: bold\">Code parsing failed on line 1 due to: SyntaxError</span>\n",
       "<span style=\"color: #800000; text-decoration-color: #800000; font-weight: bold\">current_link_index = 0; 1 while current_link_index &lt; len(useful_links): 2 link = useful_links[current_link_index\\];</span>\n",
       "<span style=\"color: #800000; text-decoration-color: #800000; font-weight: bold\">3 print(\"\\\\nObserving information from the link:\", link); 4 visited_page = visit_webpage(url=link); 5 print(\"Page </span>\n",
       "<span style=\"color: #800000; text-decoration-color: #800000; font-weight: bold\">visit result:\", visited_page); 6 current_link_index += 1</span>\n",
       "<span style=\"color: #800000; text-decoration-color: #800000; font-weight: bold\">                           ^</span>\n",
       "<span style=\"color: #800000; text-decoration-color: #800000; font-weight: bold\">Error: invalid syntax (&lt;unknown&gt;, line 1)</span>\n",
       "</pre>\n"
      ],
      "text/plain": [
       "\u001b[1;31mCode parsing failed on line 1 due to: SyntaxError\u001b[0m\n",
       "\u001b[1;31mcurrent_link_index = 0; 1 while current_link_index < len(useful_links): 2 link = useful_links[current_link_index\\];\u001b[0m\n",
       "\u001b[1;31m3 print(\"\\\\nObserving information from the link:\", link); 4 visited_page = visit_webpage(url=link); 5 print(\"Page \u001b[0m\n",
       "\u001b[1;31mvisit result:\", visited_page); 6 current_link_index += 1\u001b[0m\n",
       "\u001b[1;31m                           ^\u001b[0m\n",
       "\u001b[1;31mError: invalid syntax (<unknown>, line 1)\u001b[0m\n"
      ]
     },
     "metadata": {},
     "output_type": "display_data"
    },
    {
     "data": {
      "text/html": [
       "<pre style=\"white-space:pre;overflow-x:auto;line-height:normal;font-family:Menlo,'DejaVu Sans Mono',consolas,'Courier New',monospace\"><span style=\"color: #7f7f7f; text-decoration-color: #7f7f7f\">[Step 8: Duration 2.87 seconds| Input tokens: 64,538 | Output tokens: 1,798]</span>\n",
       "</pre>\n"
      ],
      "text/plain": [
       "\u001b[2m[Step 8: Duration 2.87 seconds| Input tokens: 64,538 | Output tokens: 1,798]\u001b[0m\n"
      ]
     },
     "metadata": {},
     "output_type": "display_data"
    },
    {
     "data": {
      "text/html": [
       "<pre style=\"white-space:pre;overflow-x:auto;line-height:normal;font-family:Menlo,'DejaVu Sans Mono',consolas,'Courier New',monospace\"><span style=\"color: #d4b702; text-decoration-color: #d4b702\">━━━━━━━━━━━━━━━━━━━━━━━━━━━━━━━━━━━━━━━━━━━━━━━━━━━━━ </span><span style=\"font-weight: bold\">Step 9</span><span style=\"color: #d4b702; text-decoration-color: #d4b702\"> ━━━━━━━━━━━━━━━━━━━━━━━━━━━━━━━━━━━━━━━━━━━━━━━━━━━━━━</span>\n",
       "</pre>\n"
      ],
      "text/plain": [
       "\u001b[38;2;212;183;2m━━━━━━━━━━━━━━━━━━━━━━━━━━━━━━━━━━━━━━━━━━━━━━━━━━━━━ \u001b[0m\u001b[1mStep 9\u001b[0m\u001b[38;2;212;183;2m ━━━━━━━━━━━━━━━━━━━━━━━━━━━━━━━━━━━━━━━━━━━━━━━━━━━━━━\u001b[0m\n"
      ]
     },
     "metadata": {},
     "output_type": "display_data"
    },
    {
     "data": {
      "text/html": [
       "<pre style=\"white-space:pre;overflow-x:auto;line-height:normal;font-family:Menlo,'DejaVu Sans Mono',consolas,'Courier New',monospace\"> ─ <span style=\"font-weight: bold\">Executing parsed code:</span> ──────────────────────────────────────────────────────────────────────────────────────── \n",
       "  <span style=\"color: #f8f8f2; text-decoration-color: #f8f8f2; background-color: #272822\">reduce(</span><span style=\"color: #66d9ef; text-decoration-color: #66d9ef; background-color: #272822\">lambda</span><span style=\"color: #f8f8f2; text-decoration-color: #f8f8f2; background-color: #272822\"> current_link_index, _: (print(</span><span style=\"color: #e6db74; text-decoration-color: #e6db74; background-color: #272822\">\"</span><span style=\"color: #ae81ff; text-decoration-color: #ae81ff; background-color: #272822\">\\\\</span><span style=\"color: #e6db74; text-decoration-color: #e6db74; background-color: #272822\">nObserving information from the link:\"</span><span style=\"color: #f8f8f2; text-decoration-color: #f8f8f2; background-color: #272822\">, </span><span style=\"background-color: #272822\">                        </span>  \n",
       "  <span style=\"color: #f8f8f2; text-decoration-color: #f8f8f2; background-color: #272822\">useful_links[current_link_index]), visit_webpage(url</span><span style=\"color: #ff4689; text-decoration-color: #ff4689; background-color: #272822\">=</span><span style=\"color: #f8f8f2; text-decoration-color: #f8f8f2; background-color: #272822\">useful_links[current_link_index]), print(</span><span style=\"color: #e6db74; text-decoration-color: #e6db74; background-color: #272822\">\"Page visit </span><span style=\"background-color: #272822\">     </span>  \n",
       "  <span style=\"color: #e6db74; text-decoration-color: #e6db74; background-color: #272822\">result:\"</span><span style=\"color: #f8f8f2; text-decoration-color: #f8f8f2; background-color: #272822\">, visits[current_link_index]), {</span><span style=\"color: #ff4689; text-decoration-color: #ff4689; background-color: #272822\">**</span><span style=\"color: #f8f8f2; text-decoration-color: #f8f8f2; background-color: #272822\">visits, current_link_index: </span><span style=\"background-color: #272822\">                                         </span>  \n",
       "  <span style=\"color: #f8f8f2; text-decoration-color: #f8f8f2; background-color: #272822\">visits[current_link_index]}[current_link_index] </span><span style=\"color: #ff4689; text-decoration-color: #ff4689; background-color: #272822\">+</span><span style=\"color: #f8f8f2; text-decoration-color: #f8f8f2; background-color: #272822\"> </span><span style=\"color: #ae81ff; text-decoration-color: #ae81ff; background-color: #272822\">1</span><span style=\"color: #f8f8f2; text-decoration-color: #f8f8f2; background-color: #272822\">, current_link_index </span><span style=\"color: #ff4689; text-decoration-color: #ff4689; background-color: #272822\">+</span><span style=\"color: #f8f8f2; text-decoration-color: #f8f8f2; background-color: #272822\"> </span><span style=\"color: #ae81ff; text-decoration-color: #ae81ff; background-color: #272822\">1</span><span style=\"color: #f8f8f2; text-decoration-color: #f8f8f2; background-color: #272822\">), range(len(useful_links)), </span><span style=\"background-color: #272822\">       </span>  \n",
       "  <span style=\"color: #f8f8f2; text-decoration-color: #f8f8f2; background-color: #272822\">current_link_index)</span><span style=\"background-color: #272822\">                                                                                            </span>  \n",
       " ───────────────────────────────────────────────────────────────────────────────────────────────────────────────── \n",
       "</pre>\n"
      ],
      "text/plain": [
       " ─ \u001b[1mExecuting parsed code:\u001b[0m ──────────────────────────────────────────────────────────────────────────────────────── \n",
       "  \u001b[38;2;248;248;242;48;2;39;40;34mreduce\u001b[0m\u001b[38;2;248;248;242;48;2;39;40;34m(\u001b[0m\u001b[38;2;102;217;239;48;2;39;40;34mlambda\u001b[0m\u001b[38;2;248;248;242;48;2;39;40;34m \u001b[0m\u001b[38;2;248;248;242;48;2;39;40;34mcurrent_link_index\u001b[0m\u001b[38;2;248;248;242;48;2;39;40;34m,\u001b[0m\u001b[38;2;248;248;242;48;2;39;40;34m \u001b[0m\u001b[38;2;248;248;242;48;2;39;40;34m_\u001b[0m\u001b[38;2;248;248;242;48;2;39;40;34m:\u001b[0m\u001b[38;2;248;248;242;48;2;39;40;34m \u001b[0m\u001b[38;2;248;248;242;48;2;39;40;34m(\u001b[0m\u001b[38;2;248;248;242;48;2;39;40;34mprint\u001b[0m\u001b[38;2;248;248;242;48;2;39;40;34m(\u001b[0m\u001b[38;2;230;219;116;48;2;39;40;34m\"\u001b[0m\u001b[38;2;174;129;255;48;2;39;40;34m\\\\\u001b[0m\u001b[38;2;230;219;116;48;2;39;40;34mnObserving information from the link:\u001b[0m\u001b[38;2;230;219;116;48;2;39;40;34m\"\u001b[0m\u001b[38;2;248;248;242;48;2;39;40;34m,\u001b[0m\u001b[38;2;248;248;242;48;2;39;40;34m \u001b[0m\u001b[48;2;39;40;34m                        \u001b[0m  \n",
       "  \u001b[38;2;248;248;242;48;2;39;40;34museful_links\u001b[0m\u001b[38;2;248;248;242;48;2;39;40;34m[\u001b[0m\u001b[38;2;248;248;242;48;2;39;40;34mcurrent_link_index\u001b[0m\u001b[38;2;248;248;242;48;2;39;40;34m]\u001b[0m\u001b[38;2;248;248;242;48;2;39;40;34m)\u001b[0m\u001b[38;2;248;248;242;48;2;39;40;34m,\u001b[0m\u001b[38;2;248;248;242;48;2;39;40;34m \u001b[0m\u001b[38;2;248;248;242;48;2;39;40;34mvisit_webpage\u001b[0m\u001b[38;2;248;248;242;48;2;39;40;34m(\u001b[0m\u001b[38;2;248;248;242;48;2;39;40;34murl\u001b[0m\u001b[38;2;255;70;137;48;2;39;40;34m=\u001b[0m\u001b[38;2;248;248;242;48;2;39;40;34museful_links\u001b[0m\u001b[38;2;248;248;242;48;2;39;40;34m[\u001b[0m\u001b[38;2;248;248;242;48;2;39;40;34mcurrent_link_index\u001b[0m\u001b[38;2;248;248;242;48;2;39;40;34m]\u001b[0m\u001b[38;2;248;248;242;48;2;39;40;34m)\u001b[0m\u001b[38;2;248;248;242;48;2;39;40;34m,\u001b[0m\u001b[38;2;248;248;242;48;2;39;40;34m \u001b[0m\u001b[38;2;248;248;242;48;2;39;40;34mprint\u001b[0m\u001b[38;2;248;248;242;48;2;39;40;34m(\u001b[0m\u001b[38;2;230;219;116;48;2;39;40;34m\"\u001b[0m\u001b[38;2;230;219;116;48;2;39;40;34mPage visit \u001b[0m\u001b[48;2;39;40;34m     \u001b[0m  \n",
       "  \u001b[38;2;230;219;116;48;2;39;40;34mresult:\u001b[0m\u001b[38;2;230;219;116;48;2;39;40;34m\"\u001b[0m\u001b[38;2;248;248;242;48;2;39;40;34m,\u001b[0m\u001b[38;2;248;248;242;48;2;39;40;34m \u001b[0m\u001b[38;2;248;248;242;48;2;39;40;34mvisits\u001b[0m\u001b[38;2;248;248;242;48;2;39;40;34m[\u001b[0m\u001b[38;2;248;248;242;48;2;39;40;34mcurrent_link_index\u001b[0m\u001b[38;2;248;248;242;48;2;39;40;34m]\u001b[0m\u001b[38;2;248;248;242;48;2;39;40;34m)\u001b[0m\u001b[38;2;248;248;242;48;2;39;40;34m,\u001b[0m\u001b[38;2;248;248;242;48;2;39;40;34m \u001b[0m\u001b[38;2;248;248;242;48;2;39;40;34m{\u001b[0m\u001b[38;2;255;70;137;48;2;39;40;34m*\u001b[0m\u001b[38;2;255;70;137;48;2;39;40;34m*\u001b[0m\u001b[38;2;248;248;242;48;2;39;40;34mvisits\u001b[0m\u001b[38;2;248;248;242;48;2;39;40;34m,\u001b[0m\u001b[38;2;248;248;242;48;2;39;40;34m \u001b[0m\u001b[38;2;248;248;242;48;2;39;40;34mcurrent_link_index\u001b[0m\u001b[38;2;248;248;242;48;2;39;40;34m:\u001b[0m\u001b[38;2;248;248;242;48;2;39;40;34m \u001b[0m\u001b[48;2;39;40;34m                                         \u001b[0m  \n",
       "  \u001b[38;2;248;248;242;48;2;39;40;34mvisits\u001b[0m\u001b[38;2;248;248;242;48;2;39;40;34m[\u001b[0m\u001b[38;2;248;248;242;48;2;39;40;34mcurrent_link_index\u001b[0m\u001b[38;2;248;248;242;48;2;39;40;34m]\u001b[0m\u001b[38;2;248;248;242;48;2;39;40;34m}\u001b[0m\u001b[38;2;248;248;242;48;2;39;40;34m[\u001b[0m\u001b[38;2;248;248;242;48;2;39;40;34mcurrent_link_index\u001b[0m\u001b[38;2;248;248;242;48;2;39;40;34m]\u001b[0m\u001b[38;2;248;248;242;48;2;39;40;34m \u001b[0m\u001b[38;2;255;70;137;48;2;39;40;34m+\u001b[0m\u001b[38;2;248;248;242;48;2;39;40;34m \u001b[0m\u001b[38;2;174;129;255;48;2;39;40;34m1\u001b[0m\u001b[38;2;248;248;242;48;2;39;40;34m,\u001b[0m\u001b[38;2;248;248;242;48;2;39;40;34m \u001b[0m\u001b[38;2;248;248;242;48;2;39;40;34mcurrent_link_index\u001b[0m\u001b[38;2;248;248;242;48;2;39;40;34m \u001b[0m\u001b[38;2;255;70;137;48;2;39;40;34m+\u001b[0m\u001b[38;2;248;248;242;48;2;39;40;34m \u001b[0m\u001b[38;2;174;129;255;48;2;39;40;34m1\u001b[0m\u001b[38;2;248;248;242;48;2;39;40;34m)\u001b[0m\u001b[38;2;248;248;242;48;2;39;40;34m,\u001b[0m\u001b[38;2;248;248;242;48;2;39;40;34m \u001b[0m\u001b[38;2;248;248;242;48;2;39;40;34mrange\u001b[0m\u001b[38;2;248;248;242;48;2;39;40;34m(\u001b[0m\u001b[38;2;248;248;242;48;2;39;40;34mlen\u001b[0m\u001b[38;2;248;248;242;48;2;39;40;34m(\u001b[0m\u001b[38;2;248;248;242;48;2;39;40;34museful_links\u001b[0m\u001b[38;2;248;248;242;48;2;39;40;34m)\u001b[0m\u001b[38;2;248;248;242;48;2;39;40;34m)\u001b[0m\u001b[38;2;248;248;242;48;2;39;40;34m,\u001b[0m\u001b[38;2;248;248;242;48;2;39;40;34m \u001b[0m\u001b[48;2;39;40;34m       \u001b[0m  \n",
       "  \u001b[38;2;248;248;242;48;2;39;40;34mcurrent_link_index\u001b[0m\u001b[38;2;248;248;242;48;2;39;40;34m)\u001b[0m\u001b[48;2;39;40;34m                                                                                            \u001b[0m  \n",
       " ───────────────────────────────────────────────────────────────────────────────────────────────────────────────── \n"
      ]
     },
     "metadata": {},
     "output_type": "display_data"
    },
    {
     "data": {
      "text/html": [
       "<pre style=\"white-space:pre;overflow-x:auto;line-height:normal;font-family:Menlo,'DejaVu Sans Mono',consolas,'Courier New',monospace\"><span style=\"color: #800000; text-decoration-color: #800000; font-weight: bold\">Code execution failed at line 'reduce(lambda current_link_index, _: (print(\"\\\\nObserving information from the </span>\n",
       "<span style=\"color: #800000; text-decoration-color: #800000; font-weight: bold\">link:\", useful_links[current_link_index\\]), visit_webpage(url=useful_links[current_link_index\\]), print(\"Page visit</span>\n",
       "<span style=\"color: #800000; text-decoration-color: #800000; font-weight: bold\">result:\", visits[current_link_index\\]), {**visits, current_link_index: </span>\n",
       "<span style=\"color: #800000; text-decoration-color: #800000; font-weight: bold\">visits[current_link_index\\]}[current_link_index\\] + 1, current_link_index + 1), range(len(useful_links)), </span>\n",
       "<span style=\"color: #800000; text-decoration-color: #800000; font-weight: bold\">current_link_index)' due to: InterpreterError: Forbidden function evaluation: 'reduce' is not among the explicitly </span>\n",
       "<span style=\"color: #800000; text-decoration-color: #800000; font-weight: bold\">allowed tools or defined/imported in the preceding code</span>\n",
       "</pre>\n"
      ],
      "text/plain": [
       "\u001b[1;31mCode execution failed at line 'reduce(lambda current_link_index, _: (print(\"\\\\nObserving information from the \u001b[0m\n",
       "\u001b[1;31mlink:\", useful_links[current_link_index\\]), visit_webpage(url=useful_links[current_link_index\\]), print(\"Page visit\u001b[0m\n",
       "\u001b[1;31mresult:\", visits[current_link_index\\]), {**visits, current_link_index: \u001b[0m\n",
       "\u001b[1;31mvisits[current_link_index\\]}[current_link_index\\] + 1, current_link_index + 1), range(len(useful_links)), \u001b[0m\n",
       "\u001b[1;31mcurrent_link_index)' due to: InterpreterError: Forbidden function evaluation: 'reduce' is not among the explicitly \u001b[0m\n",
       "\u001b[1;31mallowed tools or defined/imported in the preceding code\u001b[0m\n"
      ]
     },
     "metadata": {},
     "output_type": "display_data"
    },
    {
     "data": {
      "text/html": [
       "<pre style=\"white-space:pre;overflow-x:auto;line-height:normal;font-family:Menlo,'DejaVu Sans Mono',consolas,'Courier New',monospace\"><span style=\"color: #7f7f7f; text-decoration-color: #7f7f7f\">[Step 9: Duration 2.83 seconds| Input tokens: 80,282 | Output tokens: 1,983]</span>\n",
       "</pre>\n"
      ],
      "text/plain": [
       "\u001b[2m[Step 9: Duration 2.83 seconds| Input tokens: 80,282 | Output tokens: 1,983]\u001b[0m\n"
      ]
     },
     "metadata": {},
     "output_type": "display_data"
    },
    {
     "data": {
      "text/html": [
       "<pre style=\"white-space:pre;overflow-x:auto;line-height:normal;font-family:Menlo,'DejaVu Sans Mono',consolas,'Courier New',monospace\"><span style=\"color: #d4b702; text-decoration-color: #d4b702\">━━━━━━━━━━━━━━━━━━━━━━━━━━━━━━━━━━━━━━━━━━━━━━━━━━━━━ </span><span style=\"font-weight: bold\">Step 10</span><span style=\"color: #d4b702; text-decoration-color: #d4b702\"> ━━━━━━━━━━━━━━━━━━━━━━━━━━━━━━━━━━━━━━━━━━━━━━━━━━━━━</span>\n",
       "</pre>\n"
      ],
      "text/plain": [
       "\u001b[38;2;212;183;2m━━━━━━━━━━━━━━━━━━━━━━━━━━━━━━━━━━━━━━━━━━━━━━━━━━━━━ \u001b[0m\u001b[1mStep 10\u001b[0m\u001b[38;2;212;183;2m ━━━━━━━━━━━━━━━━━━━━━━━━━━━━━━━━━━━━━━━━━━━━━━━━━━━━━\u001b[0m\n"
      ]
     },
     "metadata": {},
     "output_type": "display_data"
    },
    {
     "data": {
      "text/html": [
       "<pre style=\"white-space:pre;overflow-x:auto;line-height:normal;font-family:Menlo,'DejaVu Sans Mono',consolas,'Courier New',monospace\"> ─ <span style=\"font-weight: bold\">Executing parsed code:</span> ──────────────────────────────────────────────────────────────────────────────────────── \n",
       "  <span style=\"color: #ff4689; text-decoration-color: #ff4689; background-color: #272822\">from</span><span style=\"color: #f8f8f2; text-decoration-color: #f8f8f2; background-color: #272822\"> itertools </span><span style=\"color: #ff4689; text-decoration-color: #ff4689; background-color: #272822\">import</span><span style=\"color: #f8f8f2; text-decoration-color: #f8f8f2; background-color: #272822\"> accumulate</span><span style=\"background-color: #272822\">                                                                               </span>  \n",
       "  <span style=\"color: #f8f8f2; text-decoration-color: #f8f8f2; background-color: #272822\">visits </span><span style=\"color: #ff4689; text-decoration-color: #ff4689; background-color: #272822\">=</span><span style=\"color: #f8f8f2; text-decoration-color: #f8f8f2; background-color: #272822\"> accumulate(range(len(useful_links)), </span><span style=\"color: #66d9ef; text-decoration-color: #66d9ef; background-color: #272822\">lambda</span><span style=\"color: #f8f8f2; text-decoration-color: #f8f8f2; background-color: #272822\"> current_link_index, _: (print(</span><span style=\"color: #e6db74; text-decoration-color: #e6db74; background-color: #272822\">\"</span><span style=\"color: #ae81ff; text-decoration-color: #ae81ff; background-color: #272822\">\\\\</span><span style=\"color: #e6db74; text-decoration-color: #e6db74; background-color: #272822\">nObserving information </span><span style=\"background-color: #272822\">  </span>  \n",
       "  <span style=\"color: #e6db74; text-decoration-color: #e6db74; background-color: #272822\">from the link:\"</span><span style=\"color: #f8f8f2; text-decoration-color: #f8f8f2; background-color: #272822\">, useful_links[current_link_index]), visit_webpage(url</span><span style=\"color: #ff4689; text-decoration-color: #ff4689; background-color: #272822\">=</span><span style=\"color: #f8f8f2; text-decoration-color: #f8f8f2; background-color: #272822\">useful_links[current_link_index]), </span><span style=\"background-color: #272822\">      </span>  \n",
       "  <span style=\"color: #f8f8f2; text-decoration-color: #f8f8f2; background-color: #272822\">print(</span><span style=\"color: #e6db74; text-decoration-color: #e6db74; background-color: #272822\">\"Page visit result:\"</span><span style=\"color: #f8f8f2; text-decoration-color: #f8f8f2; background-color: #272822\">, visits[current_link_index]), {</span><span style=\"color: #ff4689; text-decoration-color: #ff4689; background-color: #272822\">**</span><span style=\"color: #f8f8f2; text-decoration-color: #f8f8f2; background-color: #272822\">visits, current_link_index: </span><span style=\"background-color: #272822\">                       </span>  \n",
       "  <span style=\"color: #f8f8f2; text-decoration-color: #f8f8f2; background-color: #272822\">visits[current_link_index]}[current_link_index] </span><span style=\"color: #ff4689; text-decoration-color: #ff4689; background-color: #272822\">+</span><span style=\"color: #f8f8f2; text-decoration-color: #f8f8f2; background-color: #272822\"> </span><span style=\"color: #ae81ff; text-decoration-color: #ae81ff; background-color: #272822\">1</span><span style=\"color: #f8f8f2; text-decoration-color: #f8f8f2; background-color: #272822\">, current_link_index </span><span style=\"color: #ff4689; text-decoration-color: #ff4689; background-color: #272822\">+</span><span style=\"color: #f8f8f2; text-decoration-color: #f8f8f2; background-color: #272822\"> </span><span style=\"color: #ae81ff; text-decoration-color: #ae81ff; background-color: #272822\">1</span><span style=\"color: #f8f8f2; text-decoration-color: #f8f8f2; background-color: #272822\">))</span><span style=\"background-color: #272822\">                                  </span>  \n",
       "  <span style=\"color: #f8f8f2; text-decoration-color: #f8f8f2; background-color: #272822\">next(visits)</span><span style=\"background-color: #272822\">                                                                                                   </span>  \n",
       " ───────────────────────────────────────────────────────────────────────────────────────────────────────────────── \n",
       "</pre>\n"
      ],
      "text/plain": [
       " ─ \u001b[1mExecuting parsed code:\u001b[0m ──────────────────────────────────────────────────────────────────────────────────────── \n",
       "  \u001b[38;2;255;70;137;48;2;39;40;34mfrom\u001b[0m\u001b[38;2;248;248;242;48;2;39;40;34m \u001b[0m\u001b[38;2;248;248;242;48;2;39;40;34mitertools\u001b[0m\u001b[38;2;248;248;242;48;2;39;40;34m \u001b[0m\u001b[38;2;255;70;137;48;2;39;40;34mimport\u001b[0m\u001b[38;2;248;248;242;48;2;39;40;34m \u001b[0m\u001b[38;2;248;248;242;48;2;39;40;34maccumulate\u001b[0m\u001b[48;2;39;40;34m                                                                               \u001b[0m  \n",
       "  \u001b[38;2;248;248;242;48;2;39;40;34mvisits\u001b[0m\u001b[38;2;248;248;242;48;2;39;40;34m \u001b[0m\u001b[38;2;255;70;137;48;2;39;40;34m=\u001b[0m\u001b[38;2;248;248;242;48;2;39;40;34m \u001b[0m\u001b[38;2;248;248;242;48;2;39;40;34maccumulate\u001b[0m\u001b[38;2;248;248;242;48;2;39;40;34m(\u001b[0m\u001b[38;2;248;248;242;48;2;39;40;34mrange\u001b[0m\u001b[38;2;248;248;242;48;2;39;40;34m(\u001b[0m\u001b[38;2;248;248;242;48;2;39;40;34mlen\u001b[0m\u001b[38;2;248;248;242;48;2;39;40;34m(\u001b[0m\u001b[38;2;248;248;242;48;2;39;40;34museful_links\u001b[0m\u001b[38;2;248;248;242;48;2;39;40;34m)\u001b[0m\u001b[38;2;248;248;242;48;2;39;40;34m)\u001b[0m\u001b[38;2;248;248;242;48;2;39;40;34m,\u001b[0m\u001b[38;2;248;248;242;48;2;39;40;34m \u001b[0m\u001b[38;2;102;217;239;48;2;39;40;34mlambda\u001b[0m\u001b[38;2;248;248;242;48;2;39;40;34m \u001b[0m\u001b[38;2;248;248;242;48;2;39;40;34mcurrent_link_index\u001b[0m\u001b[38;2;248;248;242;48;2;39;40;34m,\u001b[0m\u001b[38;2;248;248;242;48;2;39;40;34m \u001b[0m\u001b[38;2;248;248;242;48;2;39;40;34m_\u001b[0m\u001b[38;2;248;248;242;48;2;39;40;34m:\u001b[0m\u001b[38;2;248;248;242;48;2;39;40;34m \u001b[0m\u001b[38;2;248;248;242;48;2;39;40;34m(\u001b[0m\u001b[38;2;248;248;242;48;2;39;40;34mprint\u001b[0m\u001b[38;2;248;248;242;48;2;39;40;34m(\u001b[0m\u001b[38;2;230;219;116;48;2;39;40;34m\"\u001b[0m\u001b[38;2;174;129;255;48;2;39;40;34m\\\\\u001b[0m\u001b[38;2;230;219;116;48;2;39;40;34mnObserving information \u001b[0m\u001b[48;2;39;40;34m  \u001b[0m  \n",
       "  \u001b[38;2;230;219;116;48;2;39;40;34mfrom the link:\u001b[0m\u001b[38;2;230;219;116;48;2;39;40;34m\"\u001b[0m\u001b[38;2;248;248;242;48;2;39;40;34m,\u001b[0m\u001b[38;2;248;248;242;48;2;39;40;34m \u001b[0m\u001b[38;2;248;248;242;48;2;39;40;34museful_links\u001b[0m\u001b[38;2;248;248;242;48;2;39;40;34m[\u001b[0m\u001b[38;2;248;248;242;48;2;39;40;34mcurrent_link_index\u001b[0m\u001b[38;2;248;248;242;48;2;39;40;34m]\u001b[0m\u001b[38;2;248;248;242;48;2;39;40;34m)\u001b[0m\u001b[38;2;248;248;242;48;2;39;40;34m,\u001b[0m\u001b[38;2;248;248;242;48;2;39;40;34m \u001b[0m\u001b[38;2;248;248;242;48;2;39;40;34mvisit_webpage\u001b[0m\u001b[38;2;248;248;242;48;2;39;40;34m(\u001b[0m\u001b[38;2;248;248;242;48;2;39;40;34murl\u001b[0m\u001b[38;2;255;70;137;48;2;39;40;34m=\u001b[0m\u001b[38;2;248;248;242;48;2;39;40;34museful_links\u001b[0m\u001b[38;2;248;248;242;48;2;39;40;34m[\u001b[0m\u001b[38;2;248;248;242;48;2;39;40;34mcurrent_link_index\u001b[0m\u001b[38;2;248;248;242;48;2;39;40;34m]\u001b[0m\u001b[38;2;248;248;242;48;2;39;40;34m)\u001b[0m\u001b[38;2;248;248;242;48;2;39;40;34m,\u001b[0m\u001b[38;2;248;248;242;48;2;39;40;34m \u001b[0m\u001b[48;2;39;40;34m      \u001b[0m  \n",
       "  \u001b[38;2;248;248;242;48;2;39;40;34mprint\u001b[0m\u001b[38;2;248;248;242;48;2;39;40;34m(\u001b[0m\u001b[38;2;230;219;116;48;2;39;40;34m\"\u001b[0m\u001b[38;2;230;219;116;48;2;39;40;34mPage visit result:\u001b[0m\u001b[38;2;230;219;116;48;2;39;40;34m\"\u001b[0m\u001b[38;2;248;248;242;48;2;39;40;34m,\u001b[0m\u001b[38;2;248;248;242;48;2;39;40;34m \u001b[0m\u001b[38;2;248;248;242;48;2;39;40;34mvisits\u001b[0m\u001b[38;2;248;248;242;48;2;39;40;34m[\u001b[0m\u001b[38;2;248;248;242;48;2;39;40;34mcurrent_link_index\u001b[0m\u001b[38;2;248;248;242;48;2;39;40;34m]\u001b[0m\u001b[38;2;248;248;242;48;2;39;40;34m)\u001b[0m\u001b[38;2;248;248;242;48;2;39;40;34m,\u001b[0m\u001b[38;2;248;248;242;48;2;39;40;34m \u001b[0m\u001b[38;2;248;248;242;48;2;39;40;34m{\u001b[0m\u001b[38;2;255;70;137;48;2;39;40;34m*\u001b[0m\u001b[38;2;255;70;137;48;2;39;40;34m*\u001b[0m\u001b[38;2;248;248;242;48;2;39;40;34mvisits\u001b[0m\u001b[38;2;248;248;242;48;2;39;40;34m,\u001b[0m\u001b[38;2;248;248;242;48;2;39;40;34m \u001b[0m\u001b[38;2;248;248;242;48;2;39;40;34mcurrent_link_index\u001b[0m\u001b[38;2;248;248;242;48;2;39;40;34m:\u001b[0m\u001b[38;2;248;248;242;48;2;39;40;34m \u001b[0m\u001b[48;2;39;40;34m                       \u001b[0m  \n",
       "  \u001b[38;2;248;248;242;48;2;39;40;34mvisits\u001b[0m\u001b[38;2;248;248;242;48;2;39;40;34m[\u001b[0m\u001b[38;2;248;248;242;48;2;39;40;34mcurrent_link_index\u001b[0m\u001b[38;2;248;248;242;48;2;39;40;34m]\u001b[0m\u001b[38;2;248;248;242;48;2;39;40;34m}\u001b[0m\u001b[38;2;248;248;242;48;2;39;40;34m[\u001b[0m\u001b[38;2;248;248;242;48;2;39;40;34mcurrent_link_index\u001b[0m\u001b[38;2;248;248;242;48;2;39;40;34m]\u001b[0m\u001b[38;2;248;248;242;48;2;39;40;34m \u001b[0m\u001b[38;2;255;70;137;48;2;39;40;34m+\u001b[0m\u001b[38;2;248;248;242;48;2;39;40;34m \u001b[0m\u001b[38;2;174;129;255;48;2;39;40;34m1\u001b[0m\u001b[38;2;248;248;242;48;2;39;40;34m,\u001b[0m\u001b[38;2;248;248;242;48;2;39;40;34m \u001b[0m\u001b[38;2;248;248;242;48;2;39;40;34mcurrent_link_index\u001b[0m\u001b[38;2;248;248;242;48;2;39;40;34m \u001b[0m\u001b[38;2;255;70;137;48;2;39;40;34m+\u001b[0m\u001b[38;2;248;248;242;48;2;39;40;34m \u001b[0m\u001b[38;2;174;129;255;48;2;39;40;34m1\u001b[0m\u001b[38;2;248;248;242;48;2;39;40;34m)\u001b[0m\u001b[38;2;248;248;242;48;2;39;40;34m)\u001b[0m\u001b[48;2;39;40;34m                                  \u001b[0m  \n",
       "  \u001b[38;2;248;248;242;48;2;39;40;34mnext\u001b[0m\u001b[38;2;248;248;242;48;2;39;40;34m(\u001b[0m\u001b[38;2;248;248;242;48;2;39;40;34mvisits\u001b[0m\u001b[38;2;248;248;242;48;2;39;40;34m)\u001b[0m\u001b[48;2;39;40;34m                                                                                                   \u001b[0m  \n",
       " ───────────────────────────────────────────────────────────────────────────────────────────────────────────────── \n"
      ]
     },
     "metadata": {},
     "output_type": "display_data"
    },
    {
     "data": {
      "text/html": [
       "<pre style=\"white-space:pre;overflow-x:auto;line-height:normal;font-family:Menlo,'DejaVu Sans Mono',consolas,'Courier New',monospace\"><span style=\"color: #800000; text-decoration-color: #800000; font-weight: bold\">Code execution failed at line 'visits = accumulate(range(len(useful_links)), lambda current_link_index, _: </span>\n",
       "<span style=\"color: #800000; text-decoration-color: #800000; font-weight: bold\">(print(\"\\\\nObserving information from the link:\", useful_links[current_link_index\\]), </span>\n",
       "<span style=\"color: #800000; text-decoration-color: #800000; font-weight: bold\">visit_webpage(url=useful_links[current_link_index\\]), print(\"Page visit result:\", visits[current_link_index\\]), </span>\n",
       "<span style=\"color: #800000; text-decoration-color: #800000; font-weight: bold\">{**visits, current_link_index: visits[current_link_index\\]}[current_link_index\\] + 1, current_link_index + 1))' due</span>\n",
       "<span style=\"color: #800000; text-decoration-color: #800000; font-weight: bold\">to: InterpreterError: The variable `useful_links` is not defined.</span>\n",
       "</pre>\n"
      ],
      "text/plain": [
       "\u001b[1;31mCode execution failed at line 'visits = accumulate(range(len(useful_links)), lambda current_link_index, _: \u001b[0m\n",
       "\u001b[1;31m(print(\"\\\\nObserving information from the link:\", useful_links[current_link_index\\]), \u001b[0m\n",
       "\u001b[1;31mvisit_webpage(url=useful_links[current_link_index\\]), print(\"Page visit result:\", visits[current_link_index\\]), \u001b[0m\n",
       "\u001b[1;31m{**visits, current_link_index: visits[current_link_index\\]}[current_link_index\\] + 1, current_link_index + 1))' due\u001b[0m\n",
       "\u001b[1;31mto: InterpreterError: The variable `useful_links` is not defined.\u001b[0m\n"
      ]
     },
     "metadata": {},
     "output_type": "display_data"
    },
    {
     "data": {
      "text/html": [
       "<pre style=\"white-space:pre;overflow-x:auto;line-height:normal;font-family:Menlo,'DejaVu Sans Mono',consolas,'Courier New',monospace\"><span style=\"color: #7f7f7f; text-decoration-color: #7f7f7f\">[Step 10: Duration 3.72 seconds| Input tokens: 96,575 | Output tokens: 2,199]</span>\n",
       "</pre>\n"
      ],
      "text/plain": [
       "\u001b[2m[Step 10: Duration 3.72 seconds| Input tokens: 96,575 | Output tokens: 2,199]\u001b[0m\n"
      ]
     },
     "metadata": {},
     "output_type": "display_data"
    },
    {
     "data": {
      "text/html": [
       "<pre style=\"white-space:pre;overflow-x:auto;line-height:normal;font-family:Menlo,'DejaVu Sans Mono',consolas,'Courier New',monospace\"><span style=\"color: #d4b702; text-decoration-color: #d4b702\">━━━━━━━━━━━━━━━━━━━━━━━━━━━━━━━━━━━━━━━━━━━━━━━━━━━━━ </span><span style=\"font-weight: bold\">Step 11</span><span style=\"color: #d4b702; text-decoration-color: #d4b702\"> ━━━━━━━━━━━━━━━━━━━━━━━━━━━━━━━━━━━━━━━━━━━━━━━━━━━━━</span>\n",
       "</pre>\n"
      ],
      "text/plain": [
       "\u001b[38;2;212;183;2m━━━━━━━━━━━━━━━━━━━━━━━━━━━━━━━━━━━━━━━━━━━━━━━━━━━━━ \u001b[0m\u001b[1mStep 11\u001b[0m\u001b[38;2;212;183;2m ━━━━━━━━━━━━━━━━━━━━━━━━━━━━━━━━━━━━━━━━━━━━━━━━━━━━━\u001b[0m\n"
      ]
     },
     "metadata": {},
     "output_type": "display_data"
    },
    {
     "data": {
      "text/html": [
       "<pre style=\"white-space:pre;overflow-x:auto;line-height:normal;font-family:Menlo,'DejaVu Sans Mono',consolas,'Courier New',monospace\"> ─ <span style=\"font-weight: bold\">Executing parsed code:</span> ──────────────────────────────────────────────────────────────────────────────────────── \n",
       "  <span style=\"color: #ff4689; text-decoration-color: #ff4689; background-color: #272822\">from</span><span style=\"color: #f8f8f2; text-decoration-color: #f8f8f2; background-color: #272822\"> itertools </span><span style=\"color: #ff4689; text-decoration-color: #ff4689; background-color: #272822\">import</span><span style=\"color: #f8f8f2; text-decoration-color: #f8f8f2; background-color: #272822\"> accumulate</span><span style=\"background-color: #272822\">                                                                               </span>  \n",
       "  <span style=\"color: #f8f8f2; text-decoration-color: #f8f8f2; background-color: #272822\">useful_links </span><span style=\"color: #ff4689; text-decoration-color: #ff4689; background-color: #272822\">=</span><span style=\"color: #f8f8f2; text-decoration-color: #f8f8f2; background-color: #272822\"> [ </span><span style=\"color: #ff4689; text-decoration-color: #ff4689; background-color: #272822\">...</span><span style=\"color: #f8f8f2; text-decoration-color: #f8f8f2; background-color: #272822\"> ] </span><span style=\"color: #959077; text-decoration-color: #959077; background-color: #272822\"># Please fill in the 'useful_links' list here</span><span style=\"background-color: #272822\">                                           </span>  \n",
       "  <span style=\"color: #f8f8f2; text-decoration-color: #f8f8f2; background-color: #272822\">visits </span><span style=\"color: #ff4689; text-decoration-color: #ff4689; background-color: #272822\">=</span><span style=\"color: #f8f8f2; text-decoration-color: #f8f8f2; background-color: #272822\"> accumulate(range(len(useful_links)), </span><span style=\"color: #66d9ef; text-decoration-color: #66d9ef; background-color: #272822\">lambda</span><span style=\"color: #f8f8f2; text-decoration-color: #f8f8f2; background-color: #272822\"> current_link_index, _: (print(</span><span style=\"color: #e6db74; text-decoration-color: #e6db74; background-color: #272822\">\"</span><span style=\"color: #ae81ff; text-decoration-color: #ae81ff; background-color: #272822\">\\\\</span><span style=\"color: #e6db74; text-decoration-color: #e6db74; background-color: #272822\">nObserving information </span><span style=\"background-color: #272822\">  </span>  \n",
       "  <span style=\"color: #e6db74; text-decoration-color: #e6db74; background-color: #272822\">from the link:\"</span><span style=\"color: #f8f8f2; text-decoration-color: #f8f8f2; background-color: #272822\">, useful_links[current_link_index]), visit_webpage(url</span><span style=\"color: #ff4689; text-decoration-color: #ff4689; background-color: #272822\">=</span><span style=\"color: #f8f8f2; text-decoration-color: #f8f8f2; background-color: #272822\">useful_links[current_link_index]), </span><span style=\"background-color: #272822\">      </span>  \n",
       "  <span style=\"color: #f8f8f2; text-decoration-color: #f8f8f2; background-color: #272822\">print(</span><span style=\"color: #e6db74; text-decoration-color: #e6db74; background-color: #272822\">\"Page visit result:\"</span><span style=\"color: #f8f8f2; text-decoration-color: #f8f8f2; background-color: #272822\">, visits[current_link_index]), {</span><span style=\"color: #ff4689; text-decoration-color: #ff4689; background-color: #272822\">**</span><span style=\"color: #f8f8f2; text-decoration-color: #f8f8f2; background-color: #272822\">visits, current_link_index: </span><span style=\"background-color: #272822\">                       </span>  \n",
       "  <span style=\"color: #f8f8f2; text-decoration-color: #f8f8f2; background-color: #272822\">visits[current_link_index]}[current_link_index] </span><span style=\"color: #ff4689; text-decoration-color: #ff4689; background-color: #272822\">+</span><span style=\"color: #f8f8f2; text-decoration-color: #f8f8f2; background-color: #272822\"> </span><span style=\"color: #ae81ff; text-decoration-color: #ae81ff; background-color: #272822\">1</span><span style=\"color: #f8f8f2; text-decoration-color: #f8f8f2; background-color: #272822\">, current_link_index </span><span style=\"color: #ff4689; text-decoration-color: #ff4689; background-color: #272822\">+</span><span style=\"color: #f8f8f2; text-decoration-color: #f8f8f2; background-color: #272822\"> </span><span style=\"color: #ae81ff; text-decoration-color: #ae81ff; background-color: #272822\">1</span><span style=\"color: #f8f8f2; text-decoration-color: #f8f8f2; background-color: #272822\">))</span><span style=\"background-color: #272822\">                                  </span>  \n",
       "  <span style=\"color: #f8f8f2; text-decoration-color: #f8f8f2; background-color: #272822\">next(visits)</span><span style=\"background-color: #272822\">                                                                                                   </span>  \n",
       " ───────────────────────────────────────────────────────────────────────────────────────────────────────────────── \n",
       "</pre>\n"
      ],
      "text/plain": [
       " ─ \u001b[1mExecuting parsed code:\u001b[0m ──────────────────────────────────────────────────────────────────────────────────────── \n",
       "  \u001b[38;2;255;70;137;48;2;39;40;34mfrom\u001b[0m\u001b[38;2;248;248;242;48;2;39;40;34m \u001b[0m\u001b[38;2;248;248;242;48;2;39;40;34mitertools\u001b[0m\u001b[38;2;248;248;242;48;2;39;40;34m \u001b[0m\u001b[38;2;255;70;137;48;2;39;40;34mimport\u001b[0m\u001b[38;2;248;248;242;48;2;39;40;34m \u001b[0m\u001b[38;2;248;248;242;48;2;39;40;34maccumulate\u001b[0m\u001b[48;2;39;40;34m                                                                               \u001b[0m  \n",
       "  \u001b[38;2;248;248;242;48;2;39;40;34museful_links\u001b[0m\u001b[38;2;248;248;242;48;2;39;40;34m \u001b[0m\u001b[38;2;255;70;137;48;2;39;40;34m=\u001b[0m\u001b[38;2;248;248;242;48;2;39;40;34m \u001b[0m\u001b[38;2;248;248;242;48;2;39;40;34m[\u001b[0m\u001b[38;2;248;248;242;48;2;39;40;34m \u001b[0m\u001b[38;2;255;70;137;48;2;39;40;34m.\u001b[0m\u001b[38;2;255;70;137;48;2;39;40;34m.\u001b[0m\u001b[38;2;255;70;137;48;2;39;40;34m.\u001b[0m\u001b[38;2;248;248;242;48;2;39;40;34m \u001b[0m\u001b[38;2;248;248;242;48;2;39;40;34m]\u001b[0m\u001b[38;2;248;248;242;48;2;39;40;34m \u001b[0m\u001b[38;2;149;144;119;48;2;39;40;34m# Please fill in the 'useful_links' list here\u001b[0m\u001b[48;2;39;40;34m                                           \u001b[0m  \n",
       "  \u001b[38;2;248;248;242;48;2;39;40;34mvisits\u001b[0m\u001b[38;2;248;248;242;48;2;39;40;34m \u001b[0m\u001b[38;2;255;70;137;48;2;39;40;34m=\u001b[0m\u001b[38;2;248;248;242;48;2;39;40;34m \u001b[0m\u001b[38;2;248;248;242;48;2;39;40;34maccumulate\u001b[0m\u001b[38;2;248;248;242;48;2;39;40;34m(\u001b[0m\u001b[38;2;248;248;242;48;2;39;40;34mrange\u001b[0m\u001b[38;2;248;248;242;48;2;39;40;34m(\u001b[0m\u001b[38;2;248;248;242;48;2;39;40;34mlen\u001b[0m\u001b[38;2;248;248;242;48;2;39;40;34m(\u001b[0m\u001b[38;2;248;248;242;48;2;39;40;34museful_links\u001b[0m\u001b[38;2;248;248;242;48;2;39;40;34m)\u001b[0m\u001b[38;2;248;248;242;48;2;39;40;34m)\u001b[0m\u001b[38;2;248;248;242;48;2;39;40;34m,\u001b[0m\u001b[38;2;248;248;242;48;2;39;40;34m \u001b[0m\u001b[38;2;102;217;239;48;2;39;40;34mlambda\u001b[0m\u001b[38;2;248;248;242;48;2;39;40;34m \u001b[0m\u001b[38;2;248;248;242;48;2;39;40;34mcurrent_link_index\u001b[0m\u001b[38;2;248;248;242;48;2;39;40;34m,\u001b[0m\u001b[38;2;248;248;242;48;2;39;40;34m \u001b[0m\u001b[38;2;248;248;242;48;2;39;40;34m_\u001b[0m\u001b[38;2;248;248;242;48;2;39;40;34m:\u001b[0m\u001b[38;2;248;248;242;48;2;39;40;34m \u001b[0m\u001b[38;2;248;248;242;48;2;39;40;34m(\u001b[0m\u001b[38;2;248;248;242;48;2;39;40;34mprint\u001b[0m\u001b[38;2;248;248;242;48;2;39;40;34m(\u001b[0m\u001b[38;2;230;219;116;48;2;39;40;34m\"\u001b[0m\u001b[38;2;174;129;255;48;2;39;40;34m\\\\\u001b[0m\u001b[38;2;230;219;116;48;2;39;40;34mnObserving information \u001b[0m\u001b[48;2;39;40;34m  \u001b[0m  \n",
       "  \u001b[38;2;230;219;116;48;2;39;40;34mfrom the link:\u001b[0m\u001b[38;2;230;219;116;48;2;39;40;34m\"\u001b[0m\u001b[38;2;248;248;242;48;2;39;40;34m,\u001b[0m\u001b[38;2;248;248;242;48;2;39;40;34m \u001b[0m\u001b[38;2;248;248;242;48;2;39;40;34museful_links\u001b[0m\u001b[38;2;248;248;242;48;2;39;40;34m[\u001b[0m\u001b[38;2;248;248;242;48;2;39;40;34mcurrent_link_index\u001b[0m\u001b[38;2;248;248;242;48;2;39;40;34m]\u001b[0m\u001b[38;2;248;248;242;48;2;39;40;34m)\u001b[0m\u001b[38;2;248;248;242;48;2;39;40;34m,\u001b[0m\u001b[38;2;248;248;242;48;2;39;40;34m \u001b[0m\u001b[38;2;248;248;242;48;2;39;40;34mvisit_webpage\u001b[0m\u001b[38;2;248;248;242;48;2;39;40;34m(\u001b[0m\u001b[38;2;248;248;242;48;2;39;40;34murl\u001b[0m\u001b[38;2;255;70;137;48;2;39;40;34m=\u001b[0m\u001b[38;2;248;248;242;48;2;39;40;34museful_links\u001b[0m\u001b[38;2;248;248;242;48;2;39;40;34m[\u001b[0m\u001b[38;2;248;248;242;48;2;39;40;34mcurrent_link_index\u001b[0m\u001b[38;2;248;248;242;48;2;39;40;34m]\u001b[0m\u001b[38;2;248;248;242;48;2;39;40;34m)\u001b[0m\u001b[38;2;248;248;242;48;2;39;40;34m,\u001b[0m\u001b[38;2;248;248;242;48;2;39;40;34m \u001b[0m\u001b[48;2;39;40;34m      \u001b[0m  \n",
       "  \u001b[38;2;248;248;242;48;2;39;40;34mprint\u001b[0m\u001b[38;2;248;248;242;48;2;39;40;34m(\u001b[0m\u001b[38;2;230;219;116;48;2;39;40;34m\"\u001b[0m\u001b[38;2;230;219;116;48;2;39;40;34mPage visit result:\u001b[0m\u001b[38;2;230;219;116;48;2;39;40;34m\"\u001b[0m\u001b[38;2;248;248;242;48;2;39;40;34m,\u001b[0m\u001b[38;2;248;248;242;48;2;39;40;34m \u001b[0m\u001b[38;2;248;248;242;48;2;39;40;34mvisits\u001b[0m\u001b[38;2;248;248;242;48;2;39;40;34m[\u001b[0m\u001b[38;2;248;248;242;48;2;39;40;34mcurrent_link_index\u001b[0m\u001b[38;2;248;248;242;48;2;39;40;34m]\u001b[0m\u001b[38;2;248;248;242;48;2;39;40;34m)\u001b[0m\u001b[38;2;248;248;242;48;2;39;40;34m,\u001b[0m\u001b[38;2;248;248;242;48;2;39;40;34m \u001b[0m\u001b[38;2;248;248;242;48;2;39;40;34m{\u001b[0m\u001b[38;2;255;70;137;48;2;39;40;34m*\u001b[0m\u001b[38;2;255;70;137;48;2;39;40;34m*\u001b[0m\u001b[38;2;248;248;242;48;2;39;40;34mvisits\u001b[0m\u001b[38;2;248;248;242;48;2;39;40;34m,\u001b[0m\u001b[38;2;248;248;242;48;2;39;40;34m \u001b[0m\u001b[38;2;248;248;242;48;2;39;40;34mcurrent_link_index\u001b[0m\u001b[38;2;248;248;242;48;2;39;40;34m:\u001b[0m\u001b[38;2;248;248;242;48;2;39;40;34m \u001b[0m\u001b[48;2;39;40;34m                       \u001b[0m  \n",
       "  \u001b[38;2;248;248;242;48;2;39;40;34mvisits\u001b[0m\u001b[38;2;248;248;242;48;2;39;40;34m[\u001b[0m\u001b[38;2;248;248;242;48;2;39;40;34mcurrent_link_index\u001b[0m\u001b[38;2;248;248;242;48;2;39;40;34m]\u001b[0m\u001b[38;2;248;248;242;48;2;39;40;34m}\u001b[0m\u001b[38;2;248;248;242;48;2;39;40;34m[\u001b[0m\u001b[38;2;248;248;242;48;2;39;40;34mcurrent_link_index\u001b[0m\u001b[38;2;248;248;242;48;2;39;40;34m]\u001b[0m\u001b[38;2;248;248;242;48;2;39;40;34m \u001b[0m\u001b[38;2;255;70;137;48;2;39;40;34m+\u001b[0m\u001b[38;2;248;248;242;48;2;39;40;34m \u001b[0m\u001b[38;2;174;129;255;48;2;39;40;34m1\u001b[0m\u001b[38;2;248;248;242;48;2;39;40;34m,\u001b[0m\u001b[38;2;248;248;242;48;2;39;40;34m \u001b[0m\u001b[38;2;248;248;242;48;2;39;40;34mcurrent_link_index\u001b[0m\u001b[38;2;248;248;242;48;2;39;40;34m \u001b[0m\u001b[38;2;255;70;137;48;2;39;40;34m+\u001b[0m\u001b[38;2;248;248;242;48;2;39;40;34m \u001b[0m\u001b[38;2;174;129;255;48;2;39;40;34m1\u001b[0m\u001b[38;2;248;248;242;48;2;39;40;34m)\u001b[0m\u001b[38;2;248;248;242;48;2;39;40;34m)\u001b[0m\u001b[48;2;39;40;34m                                  \u001b[0m  \n",
       "  \u001b[38;2;248;248;242;48;2;39;40;34mnext\u001b[0m\u001b[38;2;248;248;242;48;2;39;40;34m(\u001b[0m\u001b[38;2;248;248;242;48;2;39;40;34mvisits\u001b[0m\u001b[38;2;248;248;242;48;2;39;40;34m)\u001b[0m\u001b[48;2;39;40;34m                                                                                                   \u001b[0m  \n",
       " ───────────────────────────────────────────────────────────────────────────────────────────────────────────────── \n"
      ]
     },
     "metadata": {},
     "output_type": "display_data"
    },
    {
     "data": {
      "text/html": [
       "<pre style=\"white-space:pre;overflow-x:auto;line-height:normal;font-family:Menlo,'DejaVu Sans Mono',consolas,'Courier New',monospace\">Out: 0\n",
       "</pre>\n"
      ],
      "text/plain": [
       "Out: 0\n"
      ]
     },
     "metadata": {},
     "output_type": "display_data"
    },
    {
     "data": {
      "text/html": [
       "<pre style=\"white-space:pre;overflow-x:auto;line-height:normal;font-family:Menlo,'DejaVu Sans Mono',consolas,'Courier New',monospace\"><span style=\"color: #7f7f7f; text-decoration-color: #7f7f7f\">[Step 11: Duration 4.91 seconds| Input tokens: 113,449 | Output tokens: 2,395]</span>\n",
       "</pre>\n"
      ],
      "text/plain": [
       "\u001b[2m[Step 11: Duration 4.91 seconds| Input tokens: 113,449 | Output tokens: 2,395]\u001b[0m\n"
      ]
     },
     "metadata": {},
     "output_type": "display_data"
    },
    {
     "data": {
      "text/html": [
       "<pre style=\"white-space:pre;overflow-x:auto;line-height:normal;font-family:Menlo,'DejaVu Sans Mono',consolas,'Courier New',monospace\"><span style=\"color: #d4b702; text-decoration-color: #d4b702\">━━━━━━━━━━━━━━━━━━━━━━━━━━━━━━━━━━━━━━━━━━━━━━━━━━━━━ </span><span style=\"font-weight: bold\">Step 12</span><span style=\"color: #d4b702; text-decoration-color: #d4b702\"> ━━━━━━━━━━━━━━━━━━━━━━━━━━━━━━━━━━━━━━━━━━━━━━━━━━━━━</span>\n",
       "</pre>\n"
      ],
      "text/plain": [
       "\u001b[38;2;212;183;2m━━━━━━━━━━━━━━━━━━━━━━━━━━━━━━━━━━━━━━━━━━━━━━━━━━━━━ \u001b[0m\u001b[1mStep 12\u001b[0m\u001b[38;2;212;183;2m ━━━━━━━━━━━━━━━━━━━━━━━━━━━━━━━━━━━━━━━━━━━━━━━━━━━━━\u001b[0m\n"
      ]
     },
     "metadata": {},
     "output_type": "display_data"
    },
    {
     "data": {
      "text/html": [
       "<pre style=\"white-space:pre;overflow-x:auto;line-height:normal;font-family:Menlo,'DejaVu Sans Mono',consolas,'Courier New',monospace\"> ─ <span style=\"font-weight: bold\">Executing parsed code:</span> ──────────────────────────────────────────────────────────────────────────────────────── \n",
       "  <span style=\"color: #ff4689; text-decoration-color: #ff4689; background-color: #272822\">from</span><span style=\"color: #f8f8f2; text-decoration-color: #f8f8f2; background-color: #272822\"> itertools </span><span style=\"color: #ff4689; text-decoration-color: #ff4689; background-color: #272822\">import</span><span style=\"color: #f8f8f2; text-decoration-color: #f8f8f2; background-color: #272822\"> accumulate</span><span style=\"background-color: #272822\">                                                                               </span>  \n",
       "  <span style=\"color: #f8f8f2; text-decoration-color: #f8f8f2; background-color: #272822\">useful_links </span><span style=\"color: #ff4689; text-decoration-color: #ff4689; background-color: #272822\">=</span><span style=\"color: #f8f8f2; text-decoration-color: #f8f8f2; background-color: #272822\"> [ </span><span style=\"color: #ff4689; text-decoration-color: #ff4689; background-color: #272822\">...</span><span style=\"color: #f8f8f2; text-decoration-color: #f8f8f2; background-color: #272822\"> ] </span><span style=\"color: #959077; text-decoration-color: #959077; background-color: #272822\"># Please fill in the 'useful_links' list here</span><span style=\"background-color: #272822\">                                           </span>  \n",
       "  <span style=\"color: #f8f8f2; text-decoration-color: #f8f8f2; background-color: #272822\">visits </span><span style=\"color: #ff4689; text-decoration-color: #ff4689; background-color: #272822\">=</span><span style=\"color: #f8f8f2; text-decoration-color: #f8f8f2; background-color: #272822\"> accumulate(range(</span><span style=\"color: #ae81ff; text-decoration-color: #ae81ff; background-color: #272822\">1</span><span style=\"color: #f8f8f2; text-decoration-color: #f8f8f2; background-color: #272822\">, len(useful_links) </span><span style=\"color: #ff4689; text-decoration-color: #ff4689; background-color: #272822\">+</span><span style=\"color: #f8f8f2; text-decoration-color: #f8f8f2; background-color: #272822\"> </span><span style=\"color: #ae81ff; text-decoration-color: #ae81ff; background-color: #272822\">1</span><span style=\"color: #f8f8f2; text-decoration-color: #f8f8f2; background-color: #272822\">), </span><span style=\"color: #66d9ef; text-decoration-color: #66d9ef; background-color: #272822\">lambda</span><span style=\"color: #f8f8f2; text-decoration-color: #f8f8f2; background-color: #272822\"> current_link_index, _: (print(</span><span style=\"color: #e6db74; text-decoration-color: #e6db74; background-color: #272822\">\"</span><span style=\"color: #ae81ff; text-decoration-color: #ae81ff; background-color: #272822\">\\\\</span><span style=\"color: #e6db74; text-decoration-color: #e6db74; background-color: #272822\">nObserving </span><span style=\"background-color: #272822\">       </span>  \n",
       "  <span style=\"color: #e6db74; text-decoration-color: #e6db74; background-color: #272822\">information from the link:\"</span><span style=\"color: #f8f8f2; text-decoration-color: #f8f8f2; background-color: #272822\">, useful_links[current_link_index </span><span style=\"color: #ff4689; text-decoration-color: #ff4689; background-color: #272822\">-</span><span style=\"color: #f8f8f2; text-decoration-color: #f8f8f2; background-color: #272822\"> </span><span style=\"color: #ae81ff; text-decoration-color: #ae81ff; background-color: #272822\">1</span><span style=\"color: #f8f8f2; text-decoration-color: #f8f8f2; background-color: #272822\">]), </span><span style=\"background-color: #272822\">                                           </span>  \n",
       "  <span style=\"color: #f8f8f2; text-decoration-color: #f8f8f2; background-color: #272822\">visit_webpage(url</span><span style=\"color: #ff4689; text-decoration-color: #ff4689; background-color: #272822\">=</span><span style=\"color: #f8f8f2; text-decoration-color: #f8f8f2; background-color: #272822\">useful_links[current_link_index </span><span style=\"color: #ff4689; text-decoration-color: #ff4689; background-color: #272822\">-</span><span style=\"color: #f8f8f2; text-decoration-color: #f8f8f2; background-color: #272822\"> </span><span style=\"color: #ae81ff; text-decoration-color: #ae81ff; background-color: #272822\">1</span><span style=\"color: #f8f8f2; text-decoration-color: #f8f8f2; background-color: #272822\">]), print(</span><span style=\"color: #e6db74; text-decoration-color: #e6db74; background-color: #272822\">\"Page visit result:\"</span><span style=\"color: #f8f8f2; text-decoration-color: #f8f8f2; background-color: #272822\">, visits[current_link_index </span>  \n",
       "  <span style=\"color: #ff4689; text-decoration-color: #ff4689; background-color: #272822\">-</span><span style=\"color: #f8f8f2; text-decoration-color: #f8f8f2; background-color: #272822\"> </span><span style=\"color: #ae81ff; text-decoration-color: #ae81ff; background-color: #272822\">1</span><span style=\"color: #f8f8f2; text-decoration-color: #f8f8f2; background-color: #272822\">]), {</span><span style=\"color: #ff4689; text-decoration-color: #ff4689; background-color: #272822\">**</span><span style=\"color: #f8f8f2; text-decoration-color: #f8f8f2; background-color: #272822\">visits, current_link_index: visits[current_link_index </span><span style=\"color: #ff4689; text-decoration-color: #ff4689; background-color: #272822\">-</span><span style=\"color: #f8f8f2; text-decoration-color: #f8f8f2; background-color: #272822\"> </span><span style=\"color: #ae81ff; text-decoration-color: #ae81ff; background-color: #272822\">1</span><span style=\"color: #f8f8f2; text-decoration-color: #f8f8f2; background-color: #272822\">]}, current_link_index))</span><span style=\"background-color: #272822\">                    </span>  \n",
       "  <span style=\"color: #f8f8f2; text-decoration-color: #f8f8f2; background-color: #272822\">next(visits)</span><span style=\"background-color: #272822\">                                                                                                   </span>  \n",
       " ───────────────────────────────────────────────────────────────────────────────────────────────────────────────── \n",
       "</pre>\n"
      ],
      "text/plain": [
       " ─ \u001b[1mExecuting parsed code:\u001b[0m ──────────────────────────────────────────────────────────────────────────────────────── \n",
       "  \u001b[38;2;255;70;137;48;2;39;40;34mfrom\u001b[0m\u001b[38;2;248;248;242;48;2;39;40;34m \u001b[0m\u001b[38;2;248;248;242;48;2;39;40;34mitertools\u001b[0m\u001b[38;2;248;248;242;48;2;39;40;34m \u001b[0m\u001b[38;2;255;70;137;48;2;39;40;34mimport\u001b[0m\u001b[38;2;248;248;242;48;2;39;40;34m \u001b[0m\u001b[38;2;248;248;242;48;2;39;40;34maccumulate\u001b[0m\u001b[48;2;39;40;34m                                                                               \u001b[0m  \n",
       "  \u001b[38;2;248;248;242;48;2;39;40;34museful_links\u001b[0m\u001b[38;2;248;248;242;48;2;39;40;34m \u001b[0m\u001b[38;2;255;70;137;48;2;39;40;34m=\u001b[0m\u001b[38;2;248;248;242;48;2;39;40;34m \u001b[0m\u001b[38;2;248;248;242;48;2;39;40;34m[\u001b[0m\u001b[38;2;248;248;242;48;2;39;40;34m \u001b[0m\u001b[38;2;255;70;137;48;2;39;40;34m.\u001b[0m\u001b[38;2;255;70;137;48;2;39;40;34m.\u001b[0m\u001b[38;2;255;70;137;48;2;39;40;34m.\u001b[0m\u001b[38;2;248;248;242;48;2;39;40;34m \u001b[0m\u001b[38;2;248;248;242;48;2;39;40;34m]\u001b[0m\u001b[38;2;248;248;242;48;2;39;40;34m \u001b[0m\u001b[38;2;149;144;119;48;2;39;40;34m# Please fill in the 'useful_links' list here\u001b[0m\u001b[48;2;39;40;34m                                           \u001b[0m  \n",
       "  \u001b[38;2;248;248;242;48;2;39;40;34mvisits\u001b[0m\u001b[38;2;248;248;242;48;2;39;40;34m \u001b[0m\u001b[38;2;255;70;137;48;2;39;40;34m=\u001b[0m\u001b[38;2;248;248;242;48;2;39;40;34m \u001b[0m\u001b[38;2;248;248;242;48;2;39;40;34maccumulate\u001b[0m\u001b[38;2;248;248;242;48;2;39;40;34m(\u001b[0m\u001b[38;2;248;248;242;48;2;39;40;34mrange\u001b[0m\u001b[38;2;248;248;242;48;2;39;40;34m(\u001b[0m\u001b[38;2;174;129;255;48;2;39;40;34m1\u001b[0m\u001b[38;2;248;248;242;48;2;39;40;34m,\u001b[0m\u001b[38;2;248;248;242;48;2;39;40;34m \u001b[0m\u001b[38;2;248;248;242;48;2;39;40;34mlen\u001b[0m\u001b[38;2;248;248;242;48;2;39;40;34m(\u001b[0m\u001b[38;2;248;248;242;48;2;39;40;34museful_links\u001b[0m\u001b[38;2;248;248;242;48;2;39;40;34m)\u001b[0m\u001b[38;2;248;248;242;48;2;39;40;34m \u001b[0m\u001b[38;2;255;70;137;48;2;39;40;34m+\u001b[0m\u001b[38;2;248;248;242;48;2;39;40;34m \u001b[0m\u001b[38;2;174;129;255;48;2;39;40;34m1\u001b[0m\u001b[38;2;248;248;242;48;2;39;40;34m)\u001b[0m\u001b[38;2;248;248;242;48;2;39;40;34m,\u001b[0m\u001b[38;2;248;248;242;48;2;39;40;34m \u001b[0m\u001b[38;2;102;217;239;48;2;39;40;34mlambda\u001b[0m\u001b[38;2;248;248;242;48;2;39;40;34m \u001b[0m\u001b[38;2;248;248;242;48;2;39;40;34mcurrent_link_index\u001b[0m\u001b[38;2;248;248;242;48;2;39;40;34m,\u001b[0m\u001b[38;2;248;248;242;48;2;39;40;34m \u001b[0m\u001b[38;2;248;248;242;48;2;39;40;34m_\u001b[0m\u001b[38;2;248;248;242;48;2;39;40;34m:\u001b[0m\u001b[38;2;248;248;242;48;2;39;40;34m \u001b[0m\u001b[38;2;248;248;242;48;2;39;40;34m(\u001b[0m\u001b[38;2;248;248;242;48;2;39;40;34mprint\u001b[0m\u001b[38;2;248;248;242;48;2;39;40;34m(\u001b[0m\u001b[38;2;230;219;116;48;2;39;40;34m\"\u001b[0m\u001b[38;2;174;129;255;48;2;39;40;34m\\\\\u001b[0m\u001b[38;2;230;219;116;48;2;39;40;34mnObserving \u001b[0m\u001b[48;2;39;40;34m       \u001b[0m  \n",
       "  \u001b[38;2;230;219;116;48;2;39;40;34minformation from the link:\u001b[0m\u001b[38;2;230;219;116;48;2;39;40;34m\"\u001b[0m\u001b[38;2;248;248;242;48;2;39;40;34m,\u001b[0m\u001b[38;2;248;248;242;48;2;39;40;34m \u001b[0m\u001b[38;2;248;248;242;48;2;39;40;34museful_links\u001b[0m\u001b[38;2;248;248;242;48;2;39;40;34m[\u001b[0m\u001b[38;2;248;248;242;48;2;39;40;34mcurrent_link_index\u001b[0m\u001b[38;2;248;248;242;48;2;39;40;34m \u001b[0m\u001b[38;2;255;70;137;48;2;39;40;34m-\u001b[0m\u001b[38;2;248;248;242;48;2;39;40;34m \u001b[0m\u001b[38;2;174;129;255;48;2;39;40;34m1\u001b[0m\u001b[38;2;248;248;242;48;2;39;40;34m]\u001b[0m\u001b[38;2;248;248;242;48;2;39;40;34m)\u001b[0m\u001b[38;2;248;248;242;48;2;39;40;34m,\u001b[0m\u001b[38;2;248;248;242;48;2;39;40;34m \u001b[0m\u001b[48;2;39;40;34m                                           \u001b[0m  \n",
       "  \u001b[38;2;248;248;242;48;2;39;40;34mvisit_webpage\u001b[0m\u001b[38;2;248;248;242;48;2;39;40;34m(\u001b[0m\u001b[38;2;248;248;242;48;2;39;40;34murl\u001b[0m\u001b[38;2;255;70;137;48;2;39;40;34m=\u001b[0m\u001b[38;2;248;248;242;48;2;39;40;34museful_links\u001b[0m\u001b[38;2;248;248;242;48;2;39;40;34m[\u001b[0m\u001b[38;2;248;248;242;48;2;39;40;34mcurrent_link_index\u001b[0m\u001b[38;2;248;248;242;48;2;39;40;34m \u001b[0m\u001b[38;2;255;70;137;48;2;39;40;34m-\u001b[0m\u001b[38;2;248;248;242;48;2;39;40;34m \u001b[0m\u001b[38;2;174;129;255;48;2;39;40;34m1\u001b[0m\u001b[38;2;248;248;242;48;2;39;40;34m]\u001b[0m\u001b[38;2;248;248;242;48;2;39;40;34m)\u001b[0m\u001b[38;2;248;248;242;48;2;39;40;34m,\u001b[0m\u001b[38;2;248;248;242;48;2;39;40;34m \u001b[0m\u001b[38;2;248;248;242;48;2;39;40;34mprint\u001b[0m\u001b[38;2;248;248;242;48;2;39;40;34m(\u001b[0m\u001b[38;2;230;219;116;48;2;39;40;34m\"\u001b[0m\u001b[38;2;230;219;116;48;2;39;40;34mPage visit result:\u001b[0m\u001b[38;2;230;219;116;48;2;39;40;34m\"\u001b[0m\u001b[38;2;248;248;242;48;2;39;40;34m,\u001b[0m\u001b[38;2;248;248;242;48;2;39;40;34m \u001b[0m\u001b[38;2;248;248;242;48;2;39;40;34mvisits\u001b[0m\u001b[38;2;248;248;242;48;2;39;40;34m[\u001b[0m\u001b[38;2;248;248;242;48;2;39;40;34mcurrent_link_index\u001b[0m\u001b[38;2;248;248;242;48;2;39;40;34m \u001b[0m  \n",
       "  \u001b[38;2;255;70;137;48;2;39;40;34m-\u001b[0m\u001b[38;2;248;248;242;48;2;39;40;34m \u001b[0m\u001b[38;2;174;129;255;48;2;39;40;34m1\u001b[0m\u001b[38;2;248;248;242;48;2;39;40;34m]\u001b[0m\u001b[38;2;248;248;242;48;2;39;40;34m)\u001b[0m\u001b[38;2;248;248;242;48;2;39;40;34m,\u001b[0m\u001b[38;2;248;248;242;48;2;39;40;34m \u001b[0m\u001b[38;2;248;248;242;48;2;39;40;34m{\u001b[0m\u001b[38;2;255;70;137;48;2;39;40;34m*\u001b[0m\u001b[38;2;255;70;137;48;2;39;40;34m*\u001b[0m\u001b[38;2;248;248;242;48;2;39;40;34mvisits\u001b[0m\u001b[38;2;248;248;242;48;2;39;40;34m,\u001b[0m\u001b[38;2;248;248;242;48;2;39;40;34m \u001b[0m\u001b[38;2;248;248;242;48;2;39;40;34mcurrent_link_index\u001b[0m\u001b[38;2;248;248;242;48;2;39;40;34m:\u001b[0m\u001b[38;2;248;248;242;48;2;39;40;34m \u001b[0m\u001b[38;2;248;248;242;48;2;39;40;34mvisits\u001b[0m\u001b[38;2;248;248;242;48;2;39;40;34m[\u001b[0m\u001b[38;2;248;248;242;48;2;39;40;34mcurrent_link_index\u001b[0m\u001b[38;2;248;248;242;48;2;39;40;34m \u001b[0m\u001b[38;2;255;70;137;48;2;39;40;34m-\u001b[0m\u001b[38;2;248;248;242;48;2;39;40;34m \u001b[0m\u001b[38;2;174;129;255;48;2;39;40;34m1\u001b[0m\u001b[38;2;248;248;242;48;2;39;40;34m]\u001b[0m\u001b[38;2;248;248;242;48;2;39;40;34m}\u001b[0m\u001b[38;2;248;248;242;48;2;39;40;34m,\u001b[0m\u001b[38;2;248;248;242;48;2;39;40;34m \u001b[0m\u001b[38;2;248;248;242;48;2;39;40;34mcurrent_link_index\u001b[0m\u001b[38;2;248;248;242;48;2;39;40;34m)\u001b[0m\u001b[38;2;248;248;242;48;2;39;40;34m)\u001b[0m\u001b[48;2;39;40;34m                    \u001b[0m  \n",
       "  \u001b[38;2;248;248;242;48;2;39;40;34mnext\u001b[0m\u001b[38;2;248;248;242;48;2;39;40;34m(\u001b[0m\u001b[38;2;248;248;242;48;2;39;40;34mvisits\u001b[0m\u001b[38;2;248;248;242;48;2;39;40;34m)\u001b[0m\u001b[48;2;39;40;34m                                                                                                   \u001b[0m  \n",
       " ───────────────────────────────────────────────────────────────────────────────────────────────────────────────── \n"
      ]
     },
     "metadata": {},
     "output_type": "display_data"
    },
    {
     "data": {
      "text/html": [
       "<pre style=\"white-space:pre;overflow-x:auto;line-height:normal;font-family:Menlo,'DejaVu Sans Mono',consolas,'Courier New',monospace\">Out: 1\n",
       "</pre>\n"
      ],
      "text/plain": [
       "Out: 1\n"
      ]
     },
     "metadata": {},
     "output_type": "display_data"
    },
    {
     "data": {
      "text/html": [
       "<pre style=\"white-space:pre;overflow-x:auto;line-height:normal;font-family:Menlo,'DejaVu Sans Mono',consolas,'Courier New',monospace\"><span style=\"color: #7f7f7f; text-decoration-color: #7f7f7f\">[Step 12: Duration 4.94 seconds| Input tokens: 130,741 | Output tokens: 2,619]</span>\n",
       "</pre>\n"
      ],
      "text/plain": [
       "\u001b[2m[Step 12: Duration 4.94 seconds| Input tokens: 130,741 | Output tokens: 2,619]\u001b[0m\n"
      ]
     },
     "metadata": {},
     "output_type": "display_data"
    },
    {
     "data": {
      "text/html": [
       "<pre style=\"white-space:pre;overflow-x:auto;line-height:normal;font-family:Menlo,'DejaVu Sans Mono',consolas,'Courier New',monospace\"><span style=\"color: #d4b702; text-decoration-color: #d4b702\">━━━━━━━━━━━━━━━━━━━━━━━━━━━━━━━━━━━━━━━━━━━━━━━━━━━━━ </span><span style=\"font-weight: bold\">Step 13</span><span style=\"color: #d4b702; text-decoration-color: #d4b702\"> ━━━━━━━━━━━━━━━━━━━━━━━━━━━━━━━━━━━━━━━━━━━━━━━━━━━━━</span>\n",
       "</pre>\n"
      ],
      "text/plain": [
       "\u001b[38;2;212;183;2m━━━━━━━━━━━━━━━━━━━━━━━━━━━━━━━━━━━━━━━━━━━━━━━━━━━━━ \u001b[0m\u001b[1mStep 13\u001b[0m\u001b[38;2;212;183;2m ━━━━━━━━━━━━━━━━━━━━━━━━━━━━━━━━━━━━━━━━━━━━━━━━━━━━━\u001b[0m\n"
      ]
     },
     "metadata": {},
     "output_type": "display_data"
    },
    {
     "data": {
      "text/html": [
       "<pre style=\"white-space:pre;overflow-x:auto;line-height:normal;font-family:Menlo,'DejaVu Sans Mono',consolas,'Courier New',monospace\"><span style=\"color: #800000; text-decoration-color: #800000; font-weight: bold\">Error in generating model output:</span>\n",
       "<span style=\"color: #800000; text-decoration-color: #800000; font-weight: bold\">402 Client Error: Payment Required for url: https://router.huggingface.co/together/v1/chat/completions (Request ID:</span>\n",
       "<span style=\"color: #800000; text-decoration-color: #800000; font-weight: bold\">Root=1-690506ec-7b81e2095e27efd14613135e;22b89b82-e033-425c-896c-8aae8f2bd797)</span>\n",
       "\n",
       "<span style=\"color: #800000; text-decoration-color: #800000; font-weight: bold\">You have exceeded your monthly included credits for Inference Providers. Subscribe to PRO to get 20x more monthly </span>\n",
       "<span style=\"color: #800000; text-decoration-color: #800000; font-weight: bold\">included credits.</span>\n",
       "</pre>\n"
      ],
      "text/plain": [
       "\u001b[1;31mError in generating model output:\u001b[0m\n",
       "\u001b[1;31m402 Client Error: Payment Required for url: https://router.huggingface.co/together/v1/chat/completions (Request ID:\u001b[0m\n",
       "\u001b[1;31mRoot=1-690506ec-7b81e2095e27efd14613135e;22b89b82-e033-425c-896c-8aae8f2bd797)\u001b[0m\n",
       "\n",
       "\u001b[1;31mYou have exceeded your monthly included credits for Inference Providers. Subscribe to PRO to get 20x more monthly \u001b[0m\n",
       "\u001b[1;31mincluded credits.\u001b[0m\n"
      ]
     },
     "metadata": {},
     "output_type": "display_data"
    },
    {
     "data": {
      "text/html": [
       "<pre style=\"white-space:pre;overflow-x:auto;line-height:normal;font-family:Menlo,'DejaVu Sans Mono',consolas,'Courier New',monospace\"><span style=\"color: #7f7f7f; text-decoration-color: #7f7f7f\">[Step 13: Duration 0.22 seconds]</span>\n",
       "</pre>\n"
      ],
      "text/plain": [
       "\u001b[2m[Step 13: Duration 0.22 seconds]\u001b[0m\n"
      ]
     },
     "metadata": {},
     "output_type": "display_data"
    },
    {
     "ename": "AgentGenerationError",
     "evalue": "Error in generating model output:\n402 Client Error: Payment Required for url: https://router.huggingface.co/together/v1/chat/completions (Request ID: Root=1-690506ec-7b81e2095e27efd14613135e;22b89b82-e033-425c-896c-8aae8f2bd797)\n\nYou have exceeded your monthly included credits for Inference Providers. Subscribe to PRO to get 20x more monthly included credits.",
     "output_type": "error",
     "traceback": [
      "\u001b[1;31m---------------------------------------------------------------------------\u001b[0m",
      "\u001b[1;31mHTTPError\u001b[0m                                 Traceback (most recent call last)",
      "File \u001b[1;32mc:\\Users\\U6074391\\OneDrive - Clarivate Analytics\\personal_projects\\hf_agents\\.venv\\lib\\site-packages\\huggingface_hub\\utils\\_http.py:402\u001b[0m, in \u001b[0;36mhf_raise_for_status\u001b[1;34m(response, endpoint_name)\u001b[0m\n\u001b[0;32m    401\u001b[0m \u001b[38;5;28;01mtry\u001b[39;00m:\n\u001b[1;32m--> 402\u001b[0m     \u001b[43mresponse\u001b[49m\u001b[38;5;241;43m.\u001b[39;49m\u001b[43mraise_for_status\u001b[49m\u001b[43m(\u001b[49m\u001b[43m)\u001b[49m\n\u001b[0;32m    403\u001b[0m \u001b[38;5;28;01mexcept\u001b[39;00m HTTPError \u001b[38;5;28;01mas\u001b[39;00m e:\n",
      "File \u001b[1;32mc:\\Users\\U6074391\\OneDrive - Clarivate Analytics\\personal_projects\\hf_agents\\.venv\\lib\\site-packages\\requests\\models.py:1026\u001b[0m, in \u001b[0;36mResponse.raise_for_status\u001b[1;34m(self)\u001b[0m\n\u001b[0;32m   1025\u001b[0m \u001b[38;5;28;01mif\u001b[39;00m http_error_msg:\n\u001b[1;32m-> 1026\u001b[0m     \u001b[38;5;28;01mraise\u001b[39;00m HTTPError(http_error_msg, response\u001b[38;5;241m=\u001b[39m\u001b[38;5;28mself\u001b[39m)\n",
      "\u001b[1;31mHTTPError\u001b[0m: 402 Client Error: Payment Required for url: https://router.huggingface.co/together/v1/chat/completions",
      "\nThe above exception was the direct cause of the following exception:\n",
      "\u001b[1;31mHfHubHTTPError\u001b[0m                            Traceback (most recent call last)",
      "File \u001b[1;32mc:\\Users\\U6074391\\OneDrive - Clarivate Analytics\\personal_projects\\hf_agents\\.venv\\lib\\site-packages\\smolagents\\agents.py:1652\u001b[0m, in \u001b[0;36mCodeAgent._step_stream\u001b[1;34m(self, memory_step)\u001b[0m\n\u001b[0;32m   1651\u001b[0m \u001b[38;5;28;01melse\u001b[39;00m:\n\u001b[1;32m-> 1652\u001b[0m     chat_message: ChatMessage \u001b[38;5;241m=\u001b[39m \u001b[38;5;28mself\u001b[39m\u001b[38;5;241m.\u001b[39mmodel\u001b[38;5;241m.\u001b[39mgenerate(\n\u001b[0;32m   1653\u001b[0m         input_messages,\n\u001b[0;32m   1654\u001b[0m         stop_sequences\u001b[38;5;241m=\u001b[39mstop_sequences,\n\u001b[0;32m   1655\u001b[0m         \u001b[38;5;241m*\u001b[39m\u001b[38;5;241m*\u001b[39madditional_args,\n\u001b[0;32m   1656\u001b[0m     )\n\u001b[0;32m   1657\u001b[0m     memory_step\u001b[38;5;241m.\u001b[39mmodel_output_message \u001b[38;5;241m=\u001b[39m chat_message\n",
      "File \u001b[1;32mc:\\Users\\U6074391\\OneDrive - Clarivate Analytics\\personal_projects\\hf_agents\\.venv\\lib\\site-packages\\smolagents\\models.py:1461\u001b[0m, in \u001b[0;36mInferenceClientModel.generate\u001b[1;34m(self, messages, stop_sequences, response_format, tools_to_call_from, **kwargs)\u001b[0m\n\u001b[0;32m   1460\u001b[0m \u001b[38;5;28mself\u001b[39m\u001b[38;5;241m.\u001b[39m_apply_rate_limit()\n\u001b[1;32m-> 1461\u001b[0m response \u001b[38;5;241m=\u001b[39m \u001b[38;5;28mself\u001b[39m\u001b[38;5;241m.\u001b[39mclient\u001b[38;5;241m.\u001b[39mchat_completion(\u001b[38;5;241m*\u001b[39m\u001b[38;5;241m*\u001b[39mcompletion_kwargs)\n\u001b[0;32m   1462\u001b[0m \u001b[38;5;28;01mreturn\u001b[39;00m ChatMessage\u001b[38;5;241m.\u001b[39mfrom_dict(\n\u001b[0;32m   1463\u001b[0m     asdict(response\u001b[38;5;241m.\u001b[39mchoices[\u001b[38;5;241m0\u001b[39m]\u001b[38;5;241m.\u001b[39mmessage),\n\u001b[0;32m   1464\u001b[0m     raw\u001b[38;5;241m=\u001b[39mresponse,\n\u001b[1;32m   (...)\u001b[0m\n\u001b[0;32m   1468\u001b[0m     ),\n\u001b[0;32m   1469\u001b[0m )\n",
      "File \u001b[1;32mc:\\Users\\U6074391\\OneDrive - Clarivate Analytics\\personal_projects\\hf_agents\\.venv\\lib\\site-packages\\huggingface_hub\\inference\\_client.py:915\u001b[0m, in \u001b[0;36mInferenceClient.chat_completion\u001b[1;34m(self, messages, model, stream, frequency_penalty, logit_bias, logprobs, max_tokens, n, presence_penalty, response_format, seed, stop, stream_options, temperature, tool_choice, tool_prompt, tools, top_logprobs, top_p, extra_body)\u001b[0m\n\u001b[0;32m    908\u001b[0m request_parameters \u001b[38;5;241m=\u001b[39m provider_helper\u001b[38;5;241m.\u001b[39mprepare_request(\n\u001b[0;32m    909\u001b[0m     inputs\u001b[38;5;241m=\u001b[39mmessages,\n\u001b[0;32m    910\u001b[0m     parameters\u001b[38;5;241m=\u001b[39mparameters,\n\u001b[1;32m   (...)\u001b[0m\n\u001b[0;32m    913\u001b[0m     api_key\u001b[38;5;241m=\u001b[39m\u001b[38;5;28mself\u001b[39m\u001b[38;5;241m.\u001b[39mtoken,\n\u001b[0;32m    914\u001b[0m )\n\u001b[1;32m--> 915\u001b[0m data \u001b[38;5;241m=\u001b[39m \u001b[38;5;28;43mself\u001b[39;49m\u001b[38;5;241;43m.\u001b[39;49m\u001b[43m_inner_post\u001b[49m\u001b[43m(\u001b[49m\u001b[43mrequest_parameters\u001b[49m\u001b[43m,\u001b[49m\u001b[43m \u001b[49m\u001b[43mstream\u001b[49m\u001b[38;5;241;43m=\u001b[39;49m\u001b[43mstream\u001b[49m\u001b[43m)\u001b[49m\n\u001b[0;32m    917\u001b[0m \u001b[38;5;28;01mif\u001b[39;00m stream:\n",
      "File \u001b[1;32mc:\\Users\\U6074391\\OneDrive - Clarivate Analytics\\personal_projects\\hf_agents\\.venv\\lib\\site-packages\\huggingface_hub\\inference\\_client.py:275\u001b[0m, in \u001b[0;36mInferenceClient._inner_post\u001b[1;34m(self, request_parameters, stream)\u001b[0m\n\u001b[0;32m    274\u001b[0m \u001b[38;5;28;01mtry\u001b[39;00m:\n\u001b[1;32m--> 275\u001b[0m     \u001b[43mhf_raise_for_status\u001b[49m\u001b[43m(\u001b[49m\u001b[43mresponse\u001b[49m\u001b[43m)\u001b[49m\n\u001b[0;32m    276\u001b[0m     \u001b[38;5;28;01mreturn\u001b[39;00m response\u001b[38;5;241m.\u001b[39miter_lines() \u001b[38;5;28;01mif\u001b[39;00m stream \u001b[38;5;28;01melse\u001b[39;00m response\u001b[38;5;241m.\u001b[39mcontent\n",
      "File \u001b[1;32mc:\\Users\\U6074391\\OneDrive - Clarivate Analytics\\personal_projects\\hf_agents\\.venv\\lib\\site-packages\\huggingface_hub\\utils\\_http.py:475\u001b[0m, in \u001b[0;36mhf_raise_for_status\u001b[1;34m(response, endpoint_name)\u001b[0m\n\u001b[0;32m    473\u001b[0m \u001b[38;5;66;03m# Convert `HTTPError` into a `HfHubHTTPError` to display request information\u001b[39;00m\n\u001b[0;32m    474\u001b[0m \u001b[38;5;66;03m# as well (request id and/or server error message)\u001b[39;00m\n\u001b[1;32m--> 475\u001b[0m \u001b[38;5;28;01mraise\u001b[39;00m _format(HfHubHTTPError, \u001b[38;5;28mstr\u001b[39m(e), response) \u001b[38;5;28;01mfrom\u001b[39;00m\u001b[38;5;250m \u001b[39m\u001b[38;5;21;01me\u001b[39;00m\n",
      "\u001b[1;31mHfHubHTTPError\u001b[0m: 402 Client Error: Payment Required for url: https://router.huggingface.co/together/v1/chat/completions (Request ID: Root=1-690506ec-7b81e2095e27efd14613135e;22b89b82-e033-425c-896c-8aae8f2bd797)\n\nYou have exceeded your monthly included credits for Inference Providers. Subscribe to PRO to get 20x more monthly included credits.",
      "\nThe above exception was the direct cause of the following exception:\n",
      "\u001b[1;31mAgentGenerationError\u001b[0m                      Traceback (most recent call last)",
      "Cell \u001b[1;32mIn[3], line 9\u001b[0m\n\u001b[0;32m      5\u001b[0m model \u001b[38;5;241m=\u001b[39m InferenceClientModel(\u001b[38;5;124m\"\u001b[39m\u001b[38;5;124mmistralai/Mixtral-8x7B-Instruct-v0.1\u001b[39m\u001b[38;5;124m\"\u001b[39m)\n\u001b[0;32m      7\u001b[0m agent \u001b[38;5;241m=\u001b[39m CodeAgent(model\u001b[38;5;241m=\u001b[39mmodel, tools\u001b[38;5;241m=\u001b[39m[search_tool])\n\u001b[1;32m----> 9\u001b[0m response \u001b[38;5;241m=\u001b[39m \u001b[43magent\u001b[49m\u001b[38;5;241;43m.\u001b[39;49m\u001b[43mrun\u001b[49m\u001b[43m(\u001b[49m\n\u001b[0;32m     10\u001b[0m \u001b[43m    \u001b[49m\u001b[38;5;124;43m\"\u001b[39;49m\u001b[38;5;124;43mSearch for luxury superhero-themed party ideas, including decorations, entertainment, and catering.\u001b[39;49m\u001b[38;5;124;43m\"\u001b[39;49m\n\u001b[0;32m     11\u001b[0m \u001b[43m)\u001b[49m\n\u001b[0;32m     12\u001b[0m \u001b[38;5;28mprint\u001b[39m(response)\n",
      "File \u001b[1;32mc:\\Users\\U6074391\\OneDrive - Clarivate Analytics\\personal_projects\\hf_agents\\.venv\\lib\\site-packages\\smolagents\\agents.py:496\u001b[0m, in \u001b[0;36mMultiStepAgent.run\u001b[1;34m(self, task, stream, reset, images, additional_args, max_steps, return_full_result)\u001b[0m\n\u001b[0;32m    493\u001b[0m     \u001b[38;5;28;01mreturn\u001b[39;00m \u001b[38;5;28mself\u001b[39m\u001b[38;5;241m.\u001b[39m_run_stream(task\u001b[38;5;241m=\u001b[39m\u001b[38;5;28mself\u001b[39m\u001b[38;5;241m.\u001b[39mtask, max_steps\u001b[38;5;241m=\u001b[39mmax_steps, images\u001b[38;5;241m=\u001b[39mimages)\n\u001b[0;32m    495\u001b[0m run_start_time \u001b[38;5;241m=\u001b[39m time\u001b[38;5;241m.\u001b[39mtime()\n\u001b[1;32m--> 496\u001b[0m steps \u001b[38;5;241m=\u001b[39m \u001b[38;5;28;43mlist\u001b[39;49m\u001b[43m(\u001b[49m\u001b[38;5;28;43mself\u001b[39;49m\u001b[38;5;241;43m.\u001b[39;49m\u001b[43m_run_stream\u001b[49m\u001b[43m(\u001b[49m\u001b[43mtask\u001b[49m\u001b[38;5;241;43m=\u001b[39;49m\u001b[38;5;28;43mself\u001b[39;49m\u001b[38;5;241;43m.\u001b[39;49m\u001b[43mtask\u001b[49m\u001b[43m,\u001b[49m\u001b[43m \u001b[49m\u001b[43mmax_steps\u001b[49m\u001b[38;5;241;43m=\u001b[39;49m\u001b[43mmax_steps\u001b[49m\u001b[43m,\u001b[49m\u001b[43m \u001b[49m\u001b[43mimages\u001b[49m\u001b[38;5;241;43m=\u001b[39;49m\u001b[43mimages\u001b[49m\u001b[43m)\u001b[49m\u001b[43m)\u001b[49m\n\u001b[0;32m    498\u001b[0m \u001b[38;5;66;03m# Outputs are returned only at the end. We only look at the last step.\u001b[39;00m\n\u001b[0;32m    499\u001b[0m \u001b[38;5;28;01massert\u001b[39;00m \u001b[38;5;28misinstance\u001b[39m(steps[\u001b[38;5;241m-\u001b[39m\u001b[38;5;241m1\u001b[39m], FinalAnswerStep)\n",
      "File \u001b[1;32mc:\\Users\\U6074391\\OneDrive - Clarivate Analytics\\personal_projects\\hf_agents\\.venv\\lib\\site-packages\\smolagents\\agents.py:593\u001b[0m, in \u001b[0;36mMultiStepAgent._run_stream\u001b[1;34m(self, task, max_steps, images)\u001b[0m\n\u001b[0;32m    589\u001b[0m             action_step\u001b[38;5;241m.\u001b[39mis_final_answer \u001b[38;5;241m=\u001b[39m \u001b[38;5;28;01mTrue\u001b[39;00m\n\u001b[0;32m    591\u001b[0m \u001b[38;5;28;01mexcept\u001b[39;00m AgentGenerationError \u001b[38;5;28;01mas\u001b[39;00m e:\n\u001b[0;32m    592\u001b[0m     \u001b[38;5;66;03m# Agent generation errors are not caused by a Model error but an implementation error: so we should raise them and exit.\u001b[39;00m\n\u001b[1;32m--> 593\u001b[0m     \u001b[38;5;28;01mraise\u001b[39;00m e\n\u001b[0;32m    594\u001b[0m \u001b[38;5;28;01mexcept\u001b[39;00m AgentError \u001b[38;5;28;01mas\u001b[39;00m e:\n\u001b[0;32m    595\u001b[0m     \u001b[38;5;66;03m# Other AgentError types are caused by the Model, so we should log them and iterate.\u001b[39;00m\n\u001b[0;32m    596\u001b[0m     action_step\u001b[38;5;241m.\u001b[39merror \u001b[38;5;241m=\u001b[39m e\n",
      "File \u001b[1;32mc:\\Users\\U6074391\\OneDrive - Clarivate Analytics\\personal_projects\\hf_agents\\.venv\\lib\\site-packages\\smolagents\\agents.py:575\u001b[0m, in \u001b[0;36mMultiStepAgent._run_stream\u001b[1;34m(self, task, max_steps, images)\u001b[0m\n\u001b[0;32m    573\u001b[0m \u001b[38;5;28mself\u001b[39m\u001b[38;5;241m.\u001b[39mlogger\u001b[38;5;241m.\u001b[39mlog_rule(\u001b[38;5;124mf\u001b[39m\u001b[38;5;124m\"\u001b[39m\u001b[38;5;124mStep \u001b[39m\u001b[38;5;132;01m{\u001b[39;00m\u001b[38;5;28mself\u001b[39m\u001b[38;5;241m.\u001b[39mstep_number\u001b[38;5;132;01m}\u001b[39;00m\u001b[38;5;124m\"\u001b[39m, level\u001b[38;5;241m=\u001b[39mLogLevel\u001b[38;5;241m.\u001b[39mINFO)\n\u001b[0;32m    574\u001b[0m \u001b[38;5;28;01mtry\u001b[39;00m:\n\u001b[1;32m--> 575\u001b[0m     \u001b[38;5;28;01mfor\u001b[39;00m output \u001b[38;5;129;01min\u001b[39;00m \u001b[38;5;28mself\u001b[39m\u001b[38;5;241m.\u001b[39m_step_stream(action_step):\n\u001b[0;32m    576\u001b[0m         \u001b[38;5;66;03m# Yield all\u001b[39;00m\n\u001b[0;32m    577\u001b[0m         \u001b[38;5;28;01myield\u001b[39;00m output\n\u001b[0;32m    579\u001b[0m         \u001b[38;5;28;01mif\u001b[39;00m \u001b[38;5;28misinstance\u001b[39m(output, ActionOutput) \u001b[38;5;129;01mand\u001b[39;00m output\u001b[38;5;241m.\u001b[39mis_final_answer:\n",
      "File \u001b[1;32mc:\\Users\\U6074391\\OneDrive - Clarivate Analytics\\personal_projects\\hf_agents\\.venv\\lib\\site-packages\\smolagents\\agents.py:1675\u001b[0m, in \u001b[0;36mCodeAgent._step_stream\u001b[1;34m(self, memory_step)\u001b[0m\n\u001b[0;32m   1673\u001b[0m     memory_step\u001b[38;5;241m.\u001b[39mmodel_output \u001b[38;5;241m=\u001b[39m output_text\n\u001b[0;32m   1674\u001b[0m \u001b[38;5;28;01mexcept\u001b[39;00m \u001b[38;5;167;01mException\u001b[39;00m \u001b[38;5;28;01mas\u001b[39;00m e:\n\u001b[1;32m-> 1675\u001b[0m     \u001b[38;5;28;01mraise\u001b[39;00m AgentGenerationError(\u001b[38;5;124mf\u001b[39m\u001b[38;5;124m\"\u001b[39m\u001b[38;5;124mError in generating model output:\u001b[39m\u001b[38;5;130;01m\\n\u001b[39;00m\u001b[38;5;132;01m{\u001b[39;00me\u001b[38;5;132;01m}\u001b[39;00m\u001b[38;5;124m\"\u001b[39m, \u001b[38;5;28mself\u001b[39m\u001b[38;5;241m.\u001b[39mlogger) \u001b[38;5;28;01mfrom\u001b[39;00m\u001b[38;5;250m \u001b[39m\u001b[38;5;21;01me\u001b[39;00m\n\u001b[0;32m   1677\u001b[0m \u001b[38;5;66;03m### Parse output ###\u001b[39;00m\n\u001b[0;32m   1678\u001b[0m \u001b[38;5;28;01mtry\u001b[39;00m:\n",
      "\u001b[1;31mAgentGenerationError\u001b[0m: Error in generating model output:\n402 Client Error: Payment Required for url: https://router.huggingface.co/together/v1/chat/completions (Request ID: Root=1-690506ec-7b81e2095e27efd14613135e;22b89b82-e033-425c-896c-8aae8f2bd797)\n\nYou have exceeded your monthly included credits for Inference Providers. Subscribe to PRO to get 20x more monthly included credits."
     ]
    }
   ],
   "source": [
    "from smolagents import CodeAgent, InferenceClientModel, DuckDuckGoSearchTool\n",
    "\n",
    "search_tool = DuckDuckGoSearchTool()\n",
    "\n",
    "model = InferenceClientModel(\"mistralai/Mixtral-8x7B-Instruct-v0.1\")\n",
    "\n",
    "agent = CodeAgent(model=model, tools=[search_tool])\n",
    "\n",
    "response = agent.run(\n",
    "    \"Search for luxury superhero-themed party ideas, including decorations, entertainment, and catering.\"\n",
    ")\n",
    "print(response)"
   ]
  },
  {
   "cell_type": "code",
   "execution_count": null,
   "id": "86eecb0b",
   "metadata": {},
   "outputs": [],
   "source": "from langchain_core.documents import Document\nfrom langchain_text_splitters import RecursiveCharacterTextSplitter\nfrom smolagents import Tool\nfrom langchain_community.retrievers import BM25Retriever\nfrom smolagents import CodeAgent, InferenceClientModel\nfrom langchain_community.llms import HuggingFaceHub\n\nimport os\n# Load token from environment variable (set this in your .env file or environment)\n# os.environ[\"HUGGINGFACEHUB_API_TOKEN\"] = os.getenv(\"HUGGINGFACEHUB_API_TOKEN\")\n\n\n# 2️⃣ Initialize the LLM\nhf_llm = HuggingFaceHub(\n    repo_id=\"google/flan-t5-base\", task=\"text-generation\",  # free model\n    model_kwargs={\"temperature\": 0.3, \"max_length\": 200}\n)\n\nclass PartyPlanningRetrieverTool(Tool):\n    name = \"party_planning_retriever\"\n    description = \"Uses semantic search to retrieve relevant party planning ideas for Alfred's superhero-themed party at Wayne Manor.\"\n    inputs = {\n        \"query\": {\n            \"type\": \"string\",\n            \"description\": \"The query to perform. This should be a query related to party planning or superhero themes.\",\n        }\n    }\n    output_type = \"string\"\n\n    def __init__(self, docs, **kwargs):\n        super().__init__(**kwargs)\n        self.retriever = BM25Retriever.from_documents(\n            docs, k=5  # Retrieve the top 5 documents\n        )\n\n    def forward(self, query: str) -> str:\n        assert isinstance(query, str), \"Your search query must be a string\"\n\n        docs = self.retriever.invoke(\n            query,\n        )\n        return \"\\nRetrieved ideas:\\n\" + \"\".join(\n            [\n                f\"\\n\\n===== Idea {str(i)} =====\\n\" + doc.page_content\n                for i, doc in enumerate(docs)\n            ]\n        )\n\n# Simulate a knowledge base about party planning\nparty_ideas = [\n    {\"text\": \"A superhero-themed masquerade ball with luxury decor, including gold accents and velvet curtains.\", \"source\": \"Party Ideas 1\"},\n    {\"text\": \"Hire a professional DJ who can play themed music for superheroes like Batman and Wonder Woman.\", \"source\": \"Entertainment Ideas\"},\n    {\"text\": \"For catering, serve dishes named after superheroes, like 'The Hulk's Green Smoothie' and 'Iron Man's Power Steak.'\", \"source\": \"Catering Ideas\"},\n    {\"text\": \"Decorate with iconic superhero logos and projections of Gotham and other superhero cities around the venue.\", \"source\": \"Decoration Ideas\"},\n    {\"text\": \"Interactive experiences with VR where guests can engage in superhero simulations or compete in themed games.\", \"source\": \"Entertainment Ideas\"}\n]\n\nsource_docs = [\n    Document(page_content=doc[\"text\"], metadata={\"source\": doc[\"source\"]})\n    for doc in party_ideas\n]\n\n# Split the documents into smaller chunks for more efficient search\ntext_splitter = RecursiveCharacterTextSplitter(\n    chunk_size=500,\n    chunk_overlap=50,\n    add_start_index=True,\n    strip_whitespace=True,\n    separators=[\"\\n\\n\", \"\\n\", \".\", \" \", \"\"],\n)\ndocs_processed = text_splitter.split_documents(source_docs)\n\n# Create the retriever tool\nparty_planning_retriever = PartyPlanningRetrieverTool(docs_processed)\n\n# 6️⃣ Wrap LLM calls as a Smolagents Tool\nclass HFLLMTool(Tool):\n    name = \"hf_llm\"\n    description = \"Uses a Hugging Face LLM to answer party planning questions.\"\n\n    # Must be a class attribute\n    inputs = {\n        \"query\": {\n            \"type\": \"string\",\n            \"description\": \"The question or prompt to send to the LLM.\"\n        }\n    }\n    output_type = \"string\"\n\n    def __init__(self, llm, **kwargs):\n        super().__init__(**kwargs)\n        self.llm = llm  # HuggingFaceHub instance\n\n    # Must be named generate() for CodeAgent LLM tools\n    def generate(self, query: str) -> str:\n        return self.llm(query)\n\n\nhf_llm_tool = HFLLMTool(hf_llm)\n# Initialize the agent\nagent = CodeAgent(tools=[party_planning_retriever], model=hf_llm_tool)\n\n# Example usage\nresponse = agent.run(\n    \"Find ideas for a luxury superhero-themed party, including entertainment, catering, and decoration options.\"\n)\n\nprint(response)"
  },
  {
   "cell_type": "code",
   "execution_count": null,
   "id": "6c5cc7d2",
   "metadata": {},
   "outputs": [
    {
     "ename": "TypeError",
     "evalue": "'HuggingFaceHub' object is not callable",
     "output_type": "error",
     "traceback": [
      "\u001b[1;31m---------------------------------------------------------------------------\u001b[0m",
      "\u001b[1;31mTypeError\u001b[0m                                 Traceback (most recent call last)",
      "Cell \u001b[1;32mIn[22], line 48\u001b[0m\n\u001b[0;32m     45\u001b[0m     \u001b[38;5;28;01mreturn\u001b[39;00m hf_llm(prompt)\n\u001b[0;32m     47\u001b[0m \u001b[38;5;66;03m# 6️⃣ Example usage\u001b[39;00m\n\u001b[1;32m---> 48\u001b[0m response \u001b[38;5;241m=\u001b[39m \u001b[43mparty_planning_query\u001b[49m\u001b[43m(\u001b[49m\n\u001b[0;32m     49\u001b[0m \u001b[43m    \u001b[49m\u001b[38;5;124;43m\"\u001b[39;49m\u001b[38;5;124;43mFind ideas for a luxury superhero-themed party, including entertainment, catering, and decoration options.\u001b[39;49m\u001b[38;5;124;43m\"\u001b[39;49m\n\u001b[0;32m     50\u001b[0m \u001b[43m)\u001b[49m\n\u001b[0;32m     51\u001b[0m \u001b[38;5;28mprint\u001b[39m(response)\n",
      "Cell \u001b[1;32mIn[22], line 45\u001b[0m, in \u001b[0;36mparty_planning_query\u001b[1;34m(query)\u001b[0m\n\u001b[0;32m     43\u001b[0m \u001b[38;5;66;03m# Use LLM to summarize or answer based on retrieved docs\u001b[39;00m\n\u001b[0;32m     44\u001b[0m prompt \u001b[38;5;241m=\u001b[39m \u001b[38;5;124mf\u001b[39m\u001b[38;5;124m\"\u001b[39m\u001b[38;5;124mGiven the following ideas:\u001b[39m\u001b[38;5;130;01m\\n\u001b[39;00m\u001b[38;5;132;01m{\u001b[39;00mcombined_text\u001b[38;5;132;01m}\u001b[39;00m\u001b[38;5;130;01m\\n\u001b[39;00m\u001b[38;5;130;01m\\n\u001b[39;00m\u001b[38;5;124mAnswer the question: \u001b[39m\u001b[38;5;132;01m{\u001b[39;00mquery\u001b[38;5;132;01m}\u001b[39;00m\u001b[38;5;124m\"\u001b[39m\n\u001b[1;32m---> 45\u001b[0m \u001b[38;5;28;01mreturn\u001b[39;00m \u001b[43mhf_llm\u001b[49m\u001b[43m(\u001b[49m\u001b[43mprompt\u001b[49m\u001b[43m)\u001b[49m\n",
      "\u001b[1;31mTypeError\u001b[0m: 'HuggingFaceHub' object is not callable"
     ]
    }
   ],
   "source": [
    "from langchain_core.documents import Document\n",
    "from langchain_text_splitters import RecursiveCharacterTextSplitter\n",
    "from langchain_community.retrievers import BM25Retriever\n",
    "from langchain_community.llms import HuggingFaceHub\n",
    "import os\n",
    "\n",
    "# Set HF token\n",
    "#os.environ[\"HUGGINGFACEHUB_API_TOKEN\"] = #\n",
    "\n",
    "# 1️⃣ Create Hugging Face LLM\n",
    "hf_llm = HuggingFaceHub(\n",
    "    repo_id=\"google/flan-t5-base\", task=\"text-generation\",  # free model\n",
    "    model_kwargs={\"temperature\": 0.3, \"max_length\": 200}\n",
    ")\n",
    "\n",
    "# 2️⃣ Prepare documents\n",
    "party_ideas = [\n",
    "    {\"text\": \"A superhero-themed masquerade ball with luxury decor...\", \"source\": \"Party Ideas 1\"},\n",
    "    {\"text\": \"Hire a professional DJ who can play themed music...\", \"source\": \"Entertainment Ideas\"},\n",
    "    {\"text\": \"For catering, serve dishes named after superheroes...\", \"source\": \"Catering Ideas\"},\n",
    "    {\"text\": \"Decorate with iconic superhero logos and projections...\", \"source\": \"Decoration Ideas\"},\n",
    "    {\"text\": \"Interactive experiences with VR where guests can engage...\", \"source\": \"Entertainment Ideas\"}\n",
    "]\n",
    "\n",
    "source_docs = [\n",
    "    Document(page_content=doc[\"text\"], metadata={\"source\": doc[\"source\"]})\n",
    "    for doc in party_ideas\n",
    "]\n",
    "\n",
    "# 3️⃣ Split documents\n",
    "text_splitter = RecursiveCharacterTextSplitter(chunk_size=500, chunk_overlap=50)\n",
    "docs_processed = text_splitter.split_documents(source_docs)\n",
    "\n",
    "# 4️⃣ Create BM25 retriever\n",
    "retriever = BM25Retriever.from_documents(docs_processed, k=5)\n",
    "\n",
    "# 5️⃣ Query function: retrieve + summarize\n",
    "def party_planning_query(query: str) -> str:\n",
    "    # Retrieve relevant documents\n",
    "    docs = retriever.invoke(query)\n",
    "    combined_text = \"\\n\".join(doc.page_content for doc in docs)\n",
    "    \n",
    "    # Use LLM to summarize or answer based on retrieved docs\n",
    "    prompt = f\"Given the following ideas:\\n{combined_text}\\n\\nAnswer the question: {query}\"\n",
    "    return hf_llm(prompt)\n",
    "\n",
    "# 6️⃣ Example usage\n",
    "response = party_planning_query(\n",
    "    \"Find ideas for a luxury superhero-themed party, including entertainment, catering, and decoration options.\"\n",
    ")\n",
    "print(response)"
   ]
  },
  {
   "cell_type": "code",
   "execution_count": null,
   "id": "d1792b62",
   "metadata": {},
   "outputs": [],
   "source": []
  }
 ],
 "metadata": {
  "kernelspec": {
   "display_name": ".venv",
   "language": "python",
   "name": "python3"
  },
  "language_info": {
   "codemirror_mode": {
    "name": "ipython",
    "version": 3
   },
   "file_extension": ".py",
   "mimetype": "text/x-python",
   "name": "python",
   "nbconvert_exporter": "python",
   "pygments_lexer": "ipython3",
   "version": "3.10.0"
  }
 },
 "nbformat": 4,
 "nbformat_minor": 5
}